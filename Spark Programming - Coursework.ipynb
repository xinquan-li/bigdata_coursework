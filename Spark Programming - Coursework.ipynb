{
 "cells": [
  {
   "cell_type": "markdown",
   "metadata": {},
   "source": [
    "#CSC8101 - Big Data Analytics - Spark Programming Coursework"
   ]
  },
  {
   "cell_type": "markdown",
   "metadata": {},
   "source": [
    "##Task 1 - Produce summary statistics for data set"
   ]
  },
  {
   "cell_type": "code",
   "execution_count": 3,
   "metadata": {},
   "outputs": [
    {
     "data": {
      "text/html": [
       "<style scoped>\n",
       "  .ansiout {\n",
       "    display: block;\n",
       "    unicode-bidi: embed;\n",
       "    white-space: pre-wrap;\n",
       "    word-wrap: break-word;\n",
       "    word-break: break-all;\n",
       "    font-family: \"Source Code Pro\", \"Menlo\", monospace;;\n",
       "    font-size: 13px;\n",
       "    color: #555;\n",
       "    margin-left: 4px;\n",
       "    line-height: 19px;\n",
       "  }\n",
       "</style>\n",
       "<div class=\"ansiout\"></div>"
      ]
     },
     "metadata": {},
     "output_type": "display_data"
    }
   ],
   "source": [
    "#Import necessary libraries \n",
    "import matplotlib.pyplot as plt\n",
    "import pyspark.sql as sparksql\n",
    "import pandas as pd"
   ]
  },
  {
   "cell_type": "code",
   "execution_count": 4,
   "metadata": {},
   "outputs": [
    {
     "data": {
      "text/html": [
       "<style scoped>\n",
       "  .ansiout {\n",
       "    display: block;\n",
       "    unicode-bidi: embed;\n",
       "    white-space: pre-wrap;\n",
       "    word-wrap: break-word;\n",
       "    word-break: break-all;\n",
       "    font-family: \"Source Code Pro\", \"Menlo\", monospace;;\n",
       "    font-size: 13px;\n",
       "    color: #555;\n",
       "    margin-left: 4px;\n",
       "    line-height: 19px;\n",
       "  }\n",
       "</style>\n",
       "<div class=\"ansiout\"></div>"
      ]
     },
     "metadata": {},
     "output_type": "display_data"
    }
   ],
   "source": [
    "#Load in data\n",
    "ratingsURL = 'https://csc8101storageblob.blob.core.windows.net/datablobcsc8101/ratings.csv'\n",
    "ratings = spark.createDataFrame(pd.read_csv(ratingsURL))"
   ]
  },
  {
   "cell_type": "markdown",
   "metadata": {},
   "source": [
    "* Average number of ratings per user"
   ]
  },
  {
   "cell_type": "code",
   "execution_count": 6,
   "metadata": {},
   "outputs": [
    {
     "data": {
      "text/html": [
       "<style scoped>\n",
       "  .ansiout {\n",
       "    display: block;\n",
       "    unicode-bidi: embed;\n",
       "    white-space: pre-wrap;\n",
       "    word-wrap: break-word;\n",
       "    word-break: break-all;\n",
       "    font-family: \"Source Code Pro\", \"Menlo\", monospace;;\n",
       "    font-size: 13px;\n",
       "    color: #555;\n",
       "    margin-left: 4px;\n",
       "    line-height: 19px;\n",
       "  }\n",
       "</style>\n",
       "<div class=\"ansiout\">Out[6]: 144.4135299257002</div>"
      ]
     },
     "metadata": {},
     "output_type": "display_data"
    }
   ],
   "source": [
    "totalreviews=ratings.count() #Find total number of ratings\n",
    "allusers=ratings.select(\"userId\").distinct().count() #Find number of unique users\n",
    "totalreviews/allusers #Average number of ratings per user"
   ]
  },
  {
   "cell_type": "markdown",
   "metadata": {},
   "source": [
    "* Average number of ratings per movie"
   ]
  },
  {
   "cell_type": "code",
   "execution_count": 8,
   "metadata": {},
   "outputs": [
    {
     "data": {
      "text/html": [
       "<style scoped>\n",
       "  .ansiout {\n",
       "    display: block;\n",
       "    unicode-bidi: embed;\n",
       "    white-space: pre-wrap;\n",
       "    word-wrap: break-word;\n",
       "    word-break: break-all;\n",
       "    font-family: \"Source Code Pro\", \"Menlo\", monospace;;\n",
       "    font-size: 13px;\n",
       "    color: #555;\n",
       "    margin-left: 4px;\n",
       "    line-height: 19px;\n",
       "  }\n",
       "</style>\n",
       "<div class=\"ansiout\">Out[8]: 747.8411232425965</div>"
      ]
     },
     "metadata": {},
     "output_type": "display_data"
    }
   ],
   "source": [
    "allmovies=ratings.select(\"movieId\").distinct().count() # Find number of unique movies\n",
    "totalreviews/allmovies #Average number of ratings per movie"
   ]
  },
  {
   "cell_type": "markdown",
   "metadata": {},
   "source": [
    "* Histogram showing the distribution of number of ratings of users"
   ]
  },
  {
   "cell_type": "code",
   "execution_count": 10,
   "metadata": {},
   "outputs": [],
   "source": [
    "display(ratings.groupby('userId').count())"
   ]
  },
  {
   "cell_type": "markdown",
   "metadata": {},
   "source": [
    "* Histogram showing distirbution of number of ratings for movies"
   ]
  },
  {
   "cell_type": "code",
   "execution_count": 12,
   "metadata": {},
   "outputs": [],
   "source": [
    "display(ratings.groupby('movieId').count())"
   ]
  },
  {
   "cell_type": "markdown",
   "metadata": {},
   "source": [
    "Histograms of distribution of all ratings"
   ]
  },
  {
   "cell_type": "code",
   "execution_count": 14,
   "metadata": {},
   "outputs": [
    {
     "data": {
      "text/html": [
       "<style scoped>\n",
       "  .table-result-container {\n",
       "    max-height: 300px;\n",
       "    overflow: auto;\n",
       "  }\n",
       "  table, th, td {\n",
       "    border: 1px solid black;\n",
       "    border-collapse: collapse;\n",
       "  }\n",
       "  th, td {\n",
       "    padding: 5px;\n",
       "  }\n",
       "  th {\n",
       "    text-align: left;\n",
       "  }\n",
       "</style><div class='table-result-container'><table class='table-result'><thead style='background-color: white'><tr><th>rating</th></tr></thead><tbody><tr><td>3.5</td></tr><tr><td>3.5</td></tr><tr><td>3.5</td></tr><tr><td>3.5</td></tr><tr><td>3.5</td></tr><tr><td>3.5</td></tr><tr><td>4.0</td></tr><tr><td>4.0</td></tr><tr><td>4.0</td></tr><tr><td>4.0</td></tr><tr><td>4.0</td></tr><tr><td>4.0</td></tr><tr><td>4.0</td></tr><tr><td>3.5</td></tr><tr><td>3.5</td></tr><tr><td>4.0</td></tr><tr><td>3.5</td></tr><tr><td>3.5</td></tr><tr><td>3.0</td></tr><tr><td>3.5</td></tr><tr><td>3.5</td></tr><tr><td>3.5</td></tr><tr><td>4.0</td></tr><tr><td>4.0</td></tr><tr><td>3.5</td></tr><tr><td>3.5</td></tr><tr><td>4.0</td></tr><tr><td>4.0</td></tr><tr><td>3.5</td></tr><tr><td>3.5</td></tr><tr><td>4.5</td></tr><tr><td>4.5</td></tr><tr><td>4.0</td></tr><tr><td>3.0</td></tr><tr><td>3.5</td></tr><tr><td>4.0</td></tr><tr><td>4.0</td></tr><tr><td>3.5</td></tr><tr><td>4.0</td></tr><tr><td>3.5</td></tr><tr><td>4.0</td></tr><tr><td>3.0</td></tr><tr><td>3.5</td></tr><tr><td>4.0</td></tr><tr><td>4.0</td></tr><tr><td>4.0</td></tr><tr><td>3.5</td></tr><tr><td>3.5</td></tr><tr><td>4.0</td></tr><tr><td>4.0</td></tr><tr><td>3.5</td></tr><tr><td>3.0</td></tr><tr><td>4.0</td></tr><tr><td>4.0</td></tr><tr><td>3.5</td></tr><tr><td>3.5</td></tr><tr><td>4.0</td></tr><tr><td>3.0</td></tr><tr><td>4.0</td></tr><tr><td>4.0</td></tr><tr><td>3.0</td></tr><tr><td>3.5</td></tr><tr><td>3.5</td></tr><tr><td>3.5</td></tr><tr><td>3.5</td></tr><tr><td>4.0</td></tr><tr><td>3.5</td></tr><tr><td>3.5</td></tr><tr><td>4.0</td></tr><tr><td>4.0</td></tr><tr><td>4.0</td></tr><tr><td>4.0</td></tr><tr><td>4.0</td></tr><tr><td>4.0</td></tr><tr><td>4.0</td></tr><tr><td>4.0</td></tr><tr><td>4.0</td></tr><tr><td>3.5</td></tr><tr><td>3.5</td></tr><tr><td>4.0</td></tr><tr><td>4.0</td></tr><tr><td>4.0</td></tr><tr><td>4.0</td></tr><tr><td>3.5</td></tr><tr><td>3.5</td></tr><tr><td>3.5</td></tr><tr><td>3.5</td></tr><tr><td>3.5</td></tr><tr><td>3.5</td></tr><tr><td>3.0</td></tr><tr><td>4.0</td></tr><tr><td>3.5</td></tr><tr><td>4.0</td></tr><tr><td>3.5</td></tr><tr><td>4.0</td></tr><tr><td>3.5</td></tr><tr><td>4.0</td></tr><tr><td>4.0</td></tr><tr><td>3.5</td></tr><tr><td>3.0</td></tr><tr><td>3.5</td></tr><tr><td>4.0</td></tr><tr><td>4.0</td></tr><tr><td>3.5</td></tr><tr><td>3.5</td></tr><tr><td>3.5</td></tr><tr><td>4.0</td></tr><tr><td>4.0</td></tr><tr><td>4.0</td></tr><tr><td>4.0</td></tr><tr><td>3.0</td></tr><tr><td>4.0</td></tr><tr><td>3.5</td></tr><tr><td>4.0</td></tr><tr><td>4.0</td></tr><tr><td>3.5</td></tr><tr><td>4.0</td></tr><tr><td>3.0</td></tr><tr><td>3.5</td></tr><tr><td>4.0</td></tr><tr><td>3.5</td></tr><tr><td>4.0</td></tr><tr><td>4.0</td></tr><tr><td>3.5</td></tr><tr><td>4.0</td></tr><tr><td>3.5</td></tr><tr><td>4.0</td></tr><tr><td>4.0</td></tr><tr><td>3.0</td></tr><tr><td>3.5</td></tr><tr><td>3.5</td></tr><tr><td>5.0</td></tr><tr><td>4.0</td></tr><tr><td>4.0</td></tr><tr><td>3.0</td></tr><tr><td>3.5</td></tr><tr><td>4.0</td></tr><tr><td>4.0</td></tr><tr><td>3.5</td></tr><tr><td>4.0</td></tr><tr><td>4.0</td></tr><tr><td>3.5</td></tr><tr><td>5.0</td></tr><tr><td>3.5</td></tr><tr><td>4.0</td></tr><tr><td>3.5</td></tr><tr><td>4.0</td></tr><tr><td>3.5</td></tr><tr><td>4.0</td></tr><tr><td>4.0</td></tr><tr><td>3.5</td></tr><tr><td>4.0</td></tr><tr><td>3.5</td></tr><tr><td>3.5</td></tr><tr><td>3.0</td></tr><tr><td>3.5</td></tr><tr><td>3.5</td></tr><tr><td>4.0</td></tr><tr><td>5.0</td></tr><tr><td>3.5</td></tr><tr><td>3.5</td></tr><tr><td>3.5</td></tr><tr><td>4.0</td></tr><tr><td>4.0</td></tr><tr><td>3.5</td></tr><tr><td>4.0</td></tr><tr><td>3.0</td></tr><tr><td>4.0</td></tr><tr><td>4.0</td></tr><tr><td>3.5</td></tr><tr><td>5.0</td></tr><tr><td>4.5</td></tr><tr><td>3.5</td></tr><tr><td>4.0</td></tr><tr><td>4.0</td></tr><tr><td>4.0</td></tr><tr><td>5.0</td></tr><tr><td>5.0</td></tr><tr><td>4.0</td></tr><tr><td>3.0</td></tr><tr><td>5.0</td></tr><tr><td>5.0</td></tr><tr><td>3.0</td></tr><tr><td>5.0</td></tr><tr><td>5.0</td></tr><tr><td>5.0</td></tr><tr><td>2.0</td></tr><tr><td>4.0</td></tr><tr><td>5.0</td></tr><tr><td>3.0</td></tr><tr><td>5.0</td></tr><tr><td>5.0</td></tr><tr><td>5.0</td></tr><tr><td>5.0</td></tr><tr><td>5.0</td></tr><tr><td>5.0</td></tr><tr><td>5.0</td></tr><tr><td>5.0</td></tr><tr><td>5.0</td></tr><tr><td>4.0</td></tr><tr><td>4.0</td></tr><tr><td>5.0</td></tr><tr><td>3.0</td></tr><tr><td>2.0</td></tr><tr><td>2.0</td></tr><tr><td>2.0</td></tr><tr><td>2.0</td></tr><tr><td>3.0</td></tr><tr><td>5.0</td></tr><tr><td>2.0</td></tr><tr><td>2.0</td></tr><tr><td>4.0</td></tr><tr><td>4.0</td></tr><tr><td>2.0</td></tr><tr><td>3.0</td></tr><tr><td>5.0</td></tr><tr><td>4.0</td></tr><tr><td>4.0</td></tr><tr><td>3.0</td></tr><tr><td>4.0</td></tr><tr><td>5.0</td></tr><tr><td>5.0</td></tr><tr><td>3.0</td></tr><tr><td>4.0</td></tr><tr><td>3.0</td></tr><tr><td>4.0</td></tr><tr><td>4.0</td></tr><tr><td>4.0</td></tr><tr><td>3.0</td></tr><tr><td>4.0</td></tr><tr><td>4.0</td></tr><tr><td>5.0</td></tr><tr><td>5.0</td></tr><tr><td>5.0</td></tr><tr><td>4.0</td></tr><tr><td>5.0</td></tr><tr><td>4.0</td></tr><tr><td>3.0</td></tr><tr><td>4.0</td></tr><tr><td>5.0</td></tr><tr><td>3.0</td></tr><tr><td>2.0</td></tr><tr><td>5.0</td></tr><tr><td>3.0</td></tr><tr><td>5.0</td></tr><tr><td>5.0</td></tr><tr><td>5.0</td></tr><tr><td>5.0</td></tr><tr><td>5.0</td></tr><tr><td>3.0</td></tr><tr><td>3.0</td></tr><tr><td>3.0</td></tr><tr><td>5.0</td></tr><tr><td>5.0</td></tr><tr><td>5.0</td></tr><tr><td>2.0</td></tr><tr><td>5.0</td></tr><tr><td>4.0</td></tr><tr><td>5.0</td></tr><tr><td>4.0</td></tr><tr><td>3.0</td></tr><tr><td>3.0</td></tr><tr><td>4.0</td></tr><tr><td>5.0</td></tr><tr><td>5.0</td></tr><tr><td>3.0</td></tr><tr><td>4.0</td></tr><tr><td>5.0</td></tr><tr><td>5.0</td></tr><tr><td>3.0</td></tr><tr><td>3.0</td></tr><tr><td>5.0</td></tr><tr><td>5.0</td></tr><tr><td>4.0</td></tr><tr><td>4.0</td></tr><tr><td>5.0</td></tr><tr><td>5.0</td></tr><tr><td>4.0</td></tr><tr><td>5.0</td></tr><tr><td>4.0</td></tr><tr><td>4.0</td></tr><tr><td>3.0</td></tr><tr><td>5.0</td></tr><tr><td>3.0</td></tr><tr><td>2.0</td></tr><tr><td>4.0</td></tr><tr><td>5.0</td></tr><tr><td>5.0</td></tr><tr><td>5.0</td></tr><tr><td>4.0</td></tr><tr><td>4.0</td></tr><tr><td>5.0</td></tr><tr><td>5.0</td></tr><tr><td>5.0</td></tr><tr><td>5.0</td></tr><tr><td>5.0</td></tr><tr><td>4.0</td></tr><tr><td>4.0</td></tr><tr><td>5.0</td></tr><tr><td>5.0</td></tr><tr><td>5.0</td></tr><tr><td>3.0</td></tr><tr><td>3.0</td></tr><tr><td>5.0</td></tr><tr><td>5.0</td></tr><tr><td>5.0</td></tr><tr><td>5.0</td></tr><tr><td>5.0</td></tr><tr><td>5.0</td></tr><tr><td>5.0</td></tr><tr><td>5.0</td></tr><tr><td>5.0</td></tr><tr><td>5.0</td></tr><tr><td>4.0</td></tr><tr><td>5.0</td></tr><tr><td>5.0</td></tr><tr><td>2.0</td></tr><tr><td>5.0</td></tr><tr><td>4.0</td></tr><tr><td>5.0</td></tr><tr><td>3.0</td></tr><tr><td>4.0</td></tr><tr><td>4.0</td></tr><tr><td>5.0</td></tr><tr><td>3.0</td></tr><tr><td>4.0</td></tr><tr><td>5.0</td></tr><tr><td>5.0</td></tr><tr><td>4.0</td></tr><tr><td>3.0</td></tr><tr><td>4.0</td></tr><tr><td>4.0</td></tr><tr><td>4.0</td></tr><tr><td>4.0</td></tr><tr><td>4.0</td></tr><tr><td>5.0</td></tr><tr><td>4.0</td></tr><tr><td>4.0</td></tr><tr><td>3.0</td></tr><tr><td>3.0</td></tr><tr><td>5.0</td></tr><tr><td>4.0</td></tr><tr><td>4.0</td></tr><tr><td>5.0</td></tr><tr><td>4.0</td></tr><tr><td>4.0</td></tr><tr><td>5.0</td></tr><tr><td>3.0</td></tr><tr><td>3.0</td></tr><tr><td>4.0</td></tr><tr><td>4.0</td></tr><tr><td>4.0</td></tr><tr><td>5.0</td></tr><tr><td>3.0</td></tr><tr><td>4.0</td></tr><tr><td>5.0</td></tr><tr><td>5.0</td></tr><tr><td>4.0</td></tr><tr><td>5.0</td></tr><tr><td>5.0</td></tr><tr><td>4.0</td></tr><tr><td>5.0</td></tr><tr><td>4.0</td></tr><tr><td>5.0</td></tr><tr><td>4.0</td></tr><tr><td>4.0</td></tr><tr><td>4.0</td></tr><tr><td>4.0</td></tr><tr><td>5.0</td></tr><tr><td>4.0</td></tr><tr><td>4.0</td></tr><tr><td>5.0</td></tr><tr><td>4.0</td></tr><tr><td>4.0</td></tr><tr><td>4.0</td></tr><tr><td>5.0</td></tr><tr><td>4.0</td></tr><tr><td>3.0</td></tr><tr><td>4.0</td></tr><tr><td>3.0</td></tr><tr><td>1.0</td></tr><tr><td>4.0</td></tr><tr><td>3.0</td></tr><tr><td>5.0</td></tr><tr><td>3.0</td></tr><tr><td>4.0</td></tr><tr><td>4.0</td></tr><tr><td>5.0</td></tr><tr><td>4.0</td></tr><tr><td>3.0</td></tr><tr><td>1.0</td></tr><tr><td>3.0</td></tr><tr><td>3.0</td></tr><tr><td>4.0</td></tr><tr><td>1.0</td></tr><tr><td>4.0</td></tr><tr><td>3.0</td></tr><tr><td>5.0</td></tr><tr><td>4.0</td></tr><tr><td>4.0</td></tr><tr><td>5.0</td></tr><tr><td>5.0</td></tr><tr><td>4.0</td></tr><tr><td>4.0</td></tr><tr><td>3.0</td></tr><tr><td>5.0</td></tr><tr><td>3.0</td></tr><tr><td>3.0</td></tr><tr><td>4.0</td></tr><tr><td>5.0</td></tr><tr><td>4.0</td></tr><tr><td>4.0</td></tr><tr><td>4.0</td></tr><tr><td>5.0</td></tr><tr><td>5.0</td></tr><tr><td>2.0</td></tr><tr><td>5.0</td></tr><tr><td>5.0</td></tr><tr><td>4.0</td></tr><tr><td>4.0</td></tr><tr><td>4.0</td></tr><tr><td>4.0</td></tr><tr><td>5.0</td></tr><tr><td>3.0</td></tr><tr><td>4.0</td></tr><tr><td>3.0</td></tr><tr><td>1.0</td></tr><tr><td>3.0</td></tr><tr><td>3.0</td></tr><tr><td>4.0</td></tr><tr><td>4.0</td></tr><tr><td>3.0</td></tr><tr><td>4.0</td></tr><tr><td>4.0</td></tr><tr><td>4.0</td></tr><tr><td>3.0</td></tr><tr><td>3.0</td></tr><tr><td>4.0</td></tr><tr><td>3.0</td></tr><tr><td>5.0</td></tr><tr><td>4.0</td></tr><tr><td>4.0</td></tr><tr><td>3.0</td></tr><tr><td>4.0</td></tr><tr><td>3.0</td></tr><tr><td>3.0</td></tr><tr><td>4.0</td></tr><tr><td>4.0</td></tr><tr><td>4.0</td></tr><tr><td>4.0</td></tr><tr><td>5.0</td></tr><tr><td>3.0</td></tr><tr><td>5.0</td></tr><tr><td>3.0</td></tr><tr><td>3.0</td></tr><tr><td>5.0</td></tr><tr><td>2.0</td></tr><tr><td>4.0</td></tr><tr><td>2.0</td></tr><tr><td>5.0</td></tr><tr><td>5.0</td></tr><tr><td>2.0</td></tr><tr><td>3.0</td></tr><tr><td>5.0</td></tr><tr><td>4.0</td></tr><tr><td>4.0</td></tr><tr><td>5.0</td></tr><tr><td>4.0</td></tr><tr><td>5.0</td></tr><tr><td>3.0</td></tr><tr><td>5.0</td></tr><tr><td>4.0</td></tr><tr><td>4.0</td></tr><tr><td>5.0</td></tr><tr><td>5.0</td></tr><tr><td>5.0</td></tr><tr><td>5.0</td></tr><tr><td>5.0</td></tr><tr><td>4.0</td></tr><tr><td>4.0</td></tr><tr><td>4.0</td></tr><tr><td>5.0</td></tr><tr><td>5.0</td></tr><tr><td>3.0</td></tr><tr><td>4.0</td></tr><tr><td>5.0</td></tr><tr><td>4.0</td></tr><tr><td>5.0</td></tr><tr><td>5.0</td></tr><tr><td>5.0</td></tr><tr><td>3.0</td></tr><tr><td>5.0</td></tr><tr><td>5.0</td></tr><tr><td>3.0</td></tr><tr><td>3.0</td></tr><tr><td>3.0</td></tr><tr><td>5.0</td></tr><tr><td>3.0</td></tr><tr><td>5.0</td></tr><tr><td>5.0</td></tr><tr><td>5.0</td></tr><tr><td>3.0</td></tr><tr><td>5.0</td></tr><tr><td>5.0</td></tr><tr><td>5.0</td></tr><tr><td>5.0</td></tr><tr><td>4.0</td></tr><tr><td>2.0</td></tr><tr><td>5.0</td></tr><tr><td>5.0</td></tr><tr><td>5.0</td></tr><tr><td>5.0</td></tr><tr><td>5.0</td></tr><tr><td>5.0</td></tr><tr><td>5.0</td></tr><tr><td>5.0</td></tr><tr><td>5.0</td></tr><tr><td>5.0</td></tr><tr><td>3.0</td></tr><tr><td>5.0</td></tr><tr><td>5.0</td></tr><tr><td>5.0</td></tr><tr><td>5.0</td></tr><tr><td>3.0</td></tr><tr><td>4.0</td></tr><tr><td>5.0</td></tr><tr><td>4.0</td></tr><tr><td>4.0</td></tr><tr><td>4.0</td></tr><tr><td>5.0</td></tr><tr><td>4.0</td></tr><tr><td>4.0</td></tr><tr><td>3.0</td></tr><tr><td>3.0</td></tr><tr><td>2.0</td></tr><tr><td>3.0</td></tr><tr><td>3.0</td></tr><tr><td>3.0</td></tr><tr><td>4.0</td></tr><tr><td>3.0</td></tr><tr><td>1.0</td></tr><tr><td>3.0</td></tr><tr><td>3.0</td></tr><tr><td>4.0</td></tr><tr><td>2.0</td></tr><tr><td>3.0</td></tr><tr><td>2.0</td></tr><tr><td>3.0</td></tr><tr><td>2.0</td></tr><tr><td>2.0</td></tr><tr><td>3.0</td></tr><tr><td>2.0</td></tr><tr><td>5.0</td></tr><tr><td>3.0</td></tr><tr><td>2.0</td></tr><tr><td>3.0</td></tr><tr><td>3.0</td></tr><tr><td>4.0</td></tr><tr><td>3.0</td></tr><tr><td>3.0</td></tr><tr><td>4.0</td></tr><tr><td>3.0</td></tr><tr><td>3.0</td></tr><tr><td>4.0</td></tr><tr><td>3.0</td></tr><tr><td>3.0</td></tr><tr><td>4.0</td></tr><tr><td>5.0</td></tr><tr><td>2.0</td></tr><tr><td>4.0</td></tr><tr><td>4.0</td></tr><tr><td>5.0</td></tr><tr><td>5.0</td></tr><tr><td>4.0</td></tr><tr><td>4.0</td></tr><tr><td>2.0</td></tr><tr><td>3.0</td></tr><tr><td>3.0</td></tr><tr><td>5.0</td></tr><tr><td>4.0</td></tr><tr><td>3.0</td></tr><tr><td>1.0</td></tr><tr><td>3.0</td></tr><tr><td>3.0</td></tr><tr><td>4.0</td></tr><tr><td>4.0</td></tr><tr><td>5.0</td></tr><tr><td>3.0</td></tr><tr><td>4.0</td></tr><tr><td>3.0</td></tr><tr><td>3.0</td></tr><tr><td>3.0</td></tr><tr><td>3.0</td></tr><tr><td>3.0</td></tr><tr><td>4.0</td></tr><tr><td>3.0</td></tr><tr><td>5.0</td></tr><tr><td>3.0</td></tr><tr><td>1.0</td></tr><tr><td>4.0</td></tr><tr><td>3.0</td></tr><tr><td>3.0</td></tr><tr><td>5.0</td></tr><tr><td>2.0</td></tr><tr><td>5.0</td></tr><tr><td>3.0</td></tr><tr><td>4.0</td></tr><tr><td>4.0</td></tr><tr><td>5.0</td></tr><tr><td>3.0</td></tr><tr><td>4.0</td></tr><tr><td>4.0</td></tr><tr><td>4.0</td></tr><tr><td>4.0</td></tr><tr><td>3.0</td></tr><tr><td>3.0</td></tr><tr><td>3.0</td></tr><tr><td>4.0</td></tr><tr><td>4.0</td></tr><tr><td>2.0</td></tr><tr><td>3.0</td></tr><tr><td>3.0</td></tr><tr><td>2.0</td></tr><tr><td>3.0</td></tr><tr><td>4.0</td></tr><tr><td>3.0</td></tr><tr><td>2.0</td></tr><tr><td>3.0</td></tr><tr><td>4.0</td></tr><tr><td>3.0</td></tr><tr><td>3.0</td></tr><tr><td>3.0</td></tr><tr><td>3.0</td></tr><tr><td>4.0</td></tr><tr><td>2.0</td></tr><tr><td>5.0</td></tr><tr><td>4.0</td></tr><tr><td>3.0</td></tr><tr><td>3.0</td></tr><tr><td>3.0</td></tr><tr><td>4.0</td></tr><tr><td>4.0</td></tr><tr><td>3.0</td></tr><tr><td>3.0</td></tr><tr><td>4.0</td></tr><tr><td>4.0</td></tr><tr><td>3.0</td></tr><tr><td>4.0</td></tr><tr><td>5.0</td></tr><tr><td>3.0</td></tr><tr><td>3.0</td></tr><tr><td>4.0</td></tr><tr><td>3.0</td></tr><tr><td>3.0</td></tr><tr><td>3.0</td></tr><tr><td>3.0</td></tr><tr><td>3.0</td></tr><tr><td>2.0</td></tr><tr><td>3.0</td></tr><tr><td>2.0</td></tr><tr><td>3.0</td></tr><tr><td>3.0</td></tr><tr><td>3.0</td></tr><tr><td>3.0</td></tr><tr><td>3.0</td></tr><tr><td>3.0</td></tr><tr><td>3.0</td></tr><tr><td>3.0</td></tr><tr><td>2.0</td></tr><tr><td>4.0</td></tr><tr><td>3.0</td></tr><tr><td>4.0</td></tr><tr><td>4.0</td></tr><tr><td>4.0</td></tr><tr><td>3.0</td></tr><tr><td>3.0</td></tr><tr><td>4.0</td></tr><tr><td>2.0</td></tr><tr><td>3.0</td></tr><tr><td>2.0</td></tr><tr><td>2.0</td></tr><tr><td>4.0</td></tr><tr><td>3.0</td></tr><tr><td>3.0</td></tr><tr><td>3.0</td></tr><tr><td>3.0</td></tr><tr><td>4.0</td></tr><tr><td>3.0</td></tr><tr><td>4.0</td></tr><tr><td>4.0</td></tr><tr><td>3.0</td></tr><tr><td>4.0</td></tr><tr><td>2.0</td></tr><tr><td>4.0</td></tr><tr><td>4.0</td></tr><tr><td>3.0</td></tr><tr><td>3.0</td></tr><tr><td>3.0</td></tr><tr><td>4.0</td></tr><tr><td>3.0</td></tr><tr><td>3.0</td></tr><tr><td>2.0</td></tr><tr><td>4.0</td></tr><tr><td>5.0</td></tr><tr><td>2.0</td></tr><tr><td>3.0</td></tr><tr><td>3.0</td></tr><tr><td>4.0</td></tr><tr><td>4.0</td></tr><tr><td>3.0</td></tr><tr><td>5.0</td></tr><tr><td>3.0</td></tr><tr><td>4.0</td></tr><tr><td>2.0</td></tr><tr><td>4.0</td></tr><tr><td>4.0</td></tr><tr><td>2.0</td></tr><tr><td>2.0</td></tr><tr><td>2.0</td></tr><tr><td>4.0</td></tr><tr><td>3.0</td></tr><tr><td>3.0</td></tr><tr><td>3.0</td></tr><tr><td>2.0</td></tr><tr><td>4.0</td></tr><tr><td>2.0</td></tr><tr><td>3.0</td></tr><tr><td>3.0</td></tr><tr><td>3.0</td></tr><tr><td>2.0</td></tr><tr><td>2.0</td></tr><tr><td>5.0</td></tr><tr><td>3.0</td></tr><tr><td>4.0</td></tr><tr><td>2.0</td></tr><tr><td>2.0</td></tr><tr><td>3.0</td></tr><tr><td>3.0</td></tr><tr><td>3.0</td></tr><tr><td>4.0</td></tr><tr><td>3.0</td></tr><tr><td>4.0</td></tr><tr><td>4.0</td></tr><tr><td>5.0</td></tr><tr><td>4.0</td></tr><tr><td>4.0</td></tr><tr><td>5.0</td></tr><tr><td>3.0</td></tr><tr><td>4.0</td></tr><tr><td>4.0</td></tr><tr><td>4.0</td></tr><tr><td>3.0</td></tr><tr><td>3.0</td></tr><tr><td>2.0</td></tr><tr><td>5.0</td></tr><tr><td>2.0</td></tr><tr><td>4.0</td></tr><tr><td>3.0</td></tr><tr><td>4.0</td></tr><tr><td>3.0</td></tr><tr><td>2.0</td></tr><tr><td>4.0</td></tr><tr><td>2.0</td></tr><tr><td>4.0</td></tr><tr><td>2.0</td></tr><tr><td>2.0</td></tr><tr><td>4.0</td></tr><tr><td>3.0</td></tr><tr><td>3.0</td></tr><tr><td>3.0</td></tr><tr><td>4.0</td></tr><tr><td>3.0</td></tr><tr><td>4.0</td></tr><tr><td>4.0</td></tr><tr><td>4.0</td></tr><tr><td>3.0</td></tr><tr><td>4.0</td></tr><tr><td>4.0</td></tr><tr><td>3.0</td></tr><tr><td>3.0</td></tr><tr><td>4.0</td></tr><tr><td>3.0</td></tr><tr><td>4.0</td></tr><tr><td>3.0</td></tr><tr><td>3.0</td></tr><tr><td>4.0</td></tr><tr><td>3.0</td></tr><tr><td>5.0</td></tr><tr><td>4.0</td></tr><tr><td>3.0</td></tr><tr><td>3.0</td></tr><tr><td>4.0</td></tr><tr><td>3.0</td></tr><tr><td>3.0</td></tr><tr><td>3.0</td></tr><tr><td>2.0</td></tr><tr><td>2.0</td></tr><tr><td>3.0</td></tr><tr><td>4.0</td></tr><tr><td>2.0</td></tr><tr><td>4.0</td></tr><tr><td>4.0</td></tr><tr><td>2.0</td></tr><tr><td>4.0</td></tr><tr><td>2.0</td></tr><tr><td>3.0</td></tr><tr><td>3.0</td></tr><tr><td>5.0</td></tr><tr><td>1.0</td></tr><tr><td>4.0</td></tr><tr><td>4.0</td></tr><tr><td>3.0</td></tr><tr><td>5.0</td></tr><tr><td>4.0</td></tr><tr><td>4.0</td></tr><tr><td>3.0</td></tr><tr><td>3.0</td></tr><tr><td>4.0</td></tr><tr><td>5.0</td></tr><tr><td>3.0</td></tr><tr><td>4.0</td></tr><tr><td>1.0</td></tr><tr><td>4.0</td></tr><tr><td>3.0</td></tr><tr><td>5.0</td></tr><tr><td>4.0</td></tr><tr><td>5.0</td></tr><tr><td>4.0</td></tr><tr><td>3.0</td></tr><tr><td>4.0</td></tr><tr><td>3.0</td></tr><tr><td>3.0</td></tr><tr><td>1.0</td></tr><tr><td>3.0</td></tr><tr><td>2.0</td></tr><tr><td>4.0</td></tr><tr><td>3.0</td></tr><tr><td>3.0</td></tr><tr><td>4.0</td></tr><tr><td>4.0</td></tr><tr><td>5.0</td></tr><tr><td>3.0</td></tr><tr><td>4.0</td></tr><tr><td>5.0</td></tr><tr><td>4.0</td></tr><tr><td>5.0</td></tr><tr><td>2.0</td></tr><tr><td>3.0</td></tr><tr><td>2.0</td></tr><tr><td>4.0</td></tr><tr><td>3.0</td></tr><tr><td>5.0</td></tr><tr><td>4.0</td></tr><tr><td>3.0</td></tr><tr><td>2.0</td></tr><tr><td>5.0</td></tr><tr><td>4.0</td></tr><tr><td>4.0</td></tr><tr><td>3.0</td></tr><tr><td>4.0</td></tr><tr><td>4.0</td></tr><tr><td>4.0</td></tr><tr><td>4.0</td></tr><tr><td>5.0</td></tr><tr><td>4.0</td></tr><tr><td>4.0</td></tr><tr><td>5.0</td></tr><tr><td>4.0</td></tr><tr><td>4.0</td></tr><tr><td>3.0</td></tr><tr><td>5.0</td></tr><tr><td>4.0</td></tr><tr><td>4.0</td></tr><tr><td>4.0</td></tr><tr><td>3.0</td></tr><tr><td>5.0</td></tr><tr><td>4.0</td></tr><tr><td>3.0</td></tr><tr><td>5.0</td></tr><tr><td>5.0</td></tr><tr><td>4.0</td></tr><tr><td>5.0</td></tr><tr><td>3.0</td></tr><tr><td>5.0</td></tr><tr><td>4.0</td></tr><tr><td>5.0</td></tr><tr><td>4.0</td></tr><tr><td>4.0</td></tr><tr><td>5.0</td></tr><tr><td>3.0</td></tr><tr><td>3.0</td></tr><tr><td>4.0</td></tr><tr><td>5.0</td></tr><tr><td>3.0</td></tr><tr><td>2.0</td></tr><tr><td>3.0</td></tr><tr><td>3.0</td></tr><tr><td>4.0</td></tr><tr><td>3.0</td></tr><tr><td>2.0</td></tr><tr><td>2.0</td></tr><tr><td>3.0</td></tr><tr><td>4.0</td></tr><tr><td>5.0</td></tr><tr><td>2.0</td></tr><tr><td>2.0</td></tr><tr><td>5.0</td></tr><tr><td>3.0</td></tr><tr><td>2.0</td></tr><tr><td>3.0</td></tr><tr><td>3.0</td></tr><tr><td>2.0</td></tr><tr><td>4.0</td></tr><tr><td>2.0</td></tr><tr><td>1.0</td></tr><tr><td>5.0</td></tr><tr><td>4.0</td></tr><tr><td>2.0</td></tr><tr><td>1.0</td></tr><tr><td>3.0</td></tr><tr><td>2.0</td></tr><tr><td>3.0</td></tr><tr><td>4.0</td></tr><tr><td>4.0</td></tr><tr><td>4.0</td></tr><tr><td>4.0</td></tr><tr><td>3.0</td></tr><tr><td>5.0</td></tr><tr><td>5.0</td></tr><tr><td>4.0</td></tr><tr><td>4.0</td></tr><tr><td>3.0</td></tr><tr><td>4.0</td></tr><tr><td>4.0</td></tr><tr><td>4.0</td></tr><tr><td>3.0</td></tr><tr><td>4.0</td></tr><tr><td>4.0</td></tr><tr><td>5.0</td></tr><tr><td>3.0</td></tr><tr><td>4.0</td></tr><tr><td>4.0</td></tr><tr><td>4.0</td></tr><tr><td>5.0</td></tr><tr><td>4.0</td></tr><tr><td>3.0</td></tr><tr><td>5.0</td></tr><tr><td>4.0</td></tr><tr><td>3.0</td></tr><tr><td>4.0</td></tr><tr><td>3.0</td></tr><tr><td>4.0</td></tr><tr><td>4.0</td></tr><tr><td>3.0</td></tr><tr><td>4.0</td></tr><tr><td>4.0</td></tr><tr><td>4.0</td></tr><tr><td>4.0</td></tr><tr><td>4.0</td></tr><tr><td>3.0</td></tr><tr><td>4.5</td></tr><tr><td>2.5</td></tr><tr><td>3.5</td></tr><tr><td>5.0</td></tr><tr><td>4.5</td></tr><tr><td>2.0</td></tr><tr><td>4.0</td></tr><tr><td>3.0</td></tr><tr><td>5.0</td></tr><tr><td>3.5</td></tr><tr><td>4.0</td></tr><tr><td>4.0</td></tr><tr><td>4.0</td></tr><tr><td>5.0</td></tr><tr><td>5.0</td></tr><tr><td>5.0</td></tr><tr><td>4.0</td></tr><tr><td>4.5</td></tr><tr><td>4.0</td></tr><tr><td>4.5</td></tr><tr><td>5.0</td></tr><tr><td>5.0</td></tr><tr><td>0.5</td></tr><tr><td>3.5</td></tr><tr><td>3.5</td></tr><tr><td>5.0</td></tr><tr><td>3.5</td></tr><tr><td>5.0</td></tr><tr><td>4.0</td></tr><tr><td>4.0</td></tr><tr><td>4.0</td></tr><tr><td>5.0</td></tr><tr><td>3.5</td></tr><tr><td>3.5</td></tr><tr><td>4.0</td></tr><tr><td>1.5</td></tr><tr><td>4.5</td></tr><tr><td>5.0</td></tr><tr><td>4.5</td></tr><tr><td>1.0</td></tr></tbody></table></div>"
      ]
     },
     "metadata": {},
     "output_type": "display_data"
    }
   ],
   "source": [
    "display(ratings.select(\"rating\"))"
   ]
  },
  {
   "cell_type": "markdown",
   "metadata": {},
   "source": [
    "Histogram of distirbution of average ratings of users"
   ]
  },
  {
   "cell_type": "code",
   "execution_count": 16,
   "metadata": {},
   "outputs": [
    {
     "data": {
      "text/html": [
       "<style scoped>\n",
       "  .table-result-container {\n",
       "    max-height: 300px;\n",
       "    overflow: auto;\n",
       "  }\n",
       "  table, th, td {\n",
       "    border: 1px solid black;\n",
       "    border-collapse: collapse;\n",
       "  }\n",
       "  th, td {\n",
       "    padding: 5px;\n",
       "  }\n",
       "  th {\n",
       "    text-align: left;\n",
       "  }\n",
       "</style><div class='table-result-container'><table class='table-result'><thead style='background-color: white'><tr><th>userId</th><th>avg(rating)</th></tr></thead><tbody><tr><td>17043</td><td>3.8448275862068964</td></tr><tr><td>17048</td><td>3.4555555555555557</td></tr><tr><td>17499</td><td>3.0689655172413794</td></tr><tr><td>17703</td><td>3.3759398496240602</td></tr><tr><td>17971</td><td>3.5</td></tr><tr><td>17979</td><td>4.006849315068493</td></tr><tr><td>18147</td><td>3.6785714285714284</td></tr><tr><td>18196</td><td>3.1021825396825395</td></tr><tr><td>18295</td><td>3.3511904761904763</td></tr><tr><td>18348</td><td>4.2040133779264215</td></tr><tr><td>18628</td><td>3.0043839409321644</td></tr><tr><td>18730</td><td>3.239130434782609</td></tr><tr><td>19141</td><td>3.7333333333333334</td></tr><tr><td>19158</td><td>4.009708737864078</td></tr><tr><td>19163</td><td>3.2149075081610445</td></tr><tr><td>19771</td><td>3.9361702127659575</td></tr><tr><td>19907</td><td>3.4958677685950414</td></tr><tr><td>19979</td><td>4.12037037037037</td></tr><tr><td>20532</td><td>3.603448275862069</td></tr><tr><td>21209</td><td>3.717391304347826</td></tr><tr><td>21223</td><td>3.522796352583587</td></tr><tr><td>21342</td><td>3.9160583941605838</td></tr><tr><td>21899</td><td>3.785</td></tr><tr><td>21965</td><td>3.4545454545454546</td></tr><tr><td>22129</td><td>3.8444444444444446</td></tr><tr><td>22165</td><td>3.9</td></tr><tr><td>22201</td><td>3.611111111111111</td></tr><tr><td>22245</td><td>3.2888888888888888</td></tr><tr><td>22429</td><td>3.614327062228654</td></tr><tr><td>23019</td><td>3.7096774193548385</td></tr><tr><td>23116</td><td>3.24468085106383</td></tr><tr><td>23492</td><td>3.3229166666666665</td></tr><tr><td>23506</td><td>3.519607843137255</td></tr><tr><td>23766</td><td>4.469387755102041</td></tr><tr><td>25084</td><td>3.0973451327433628</td></tr><tr><td>25207</td><td>4.119047619047619</td></tr><tr><td>25479</td><td>3.3378378378378377</td></tr><tr><td>25649</td><td>3.746031746031746</td></tr><tr><td>25826</td><td>3.764705882352941</td></tr><tr><td>26486</td><td>3.4210526315789473</td></tr><tr><td>26543</td><td>3.517857142857143</td></tr><tr><td>27255</td><td>3.7333333333333334</td></tr><tr><td>27469</td><td>2.964387917329094</td></tr><tr><td>27563</td><td>3.5664160401002505</td></tr><tr><td>27651</td><td>3.228637413394919</td></tr><tr><td>27919</td><td>3.803030303030303</td></tr><tr><td>28078</td><td>3.44</td></tr><tr><td>28242</td><td>4.2023809523809526</td></tr><tr><td>28728</td><td>3.94</td></tr><tr><td>28762</td><td>3.0961538461538463</td></tr><tr><td>29018</td><td>3.9226519337016574</td></tr><tr><td>29089</td><td>3.5238095238095237</td></tr><tr><td>29824</td><td>3.9005524861878453</td></tr><tr><td>29841</td><td>3.716535433070866</td></tr><tr><td>30025</td><td>3.607142857142857</td></tr><tr><td>30421</td><td>3.633587786259542</td></tr><tr><td>30428</td><td>2.731244064577398</td></tr><tr><td>30562</td><td>3.804469273743017</td></tr><tr><td>30928</td><td>3.2745098039215685</td></tr><tr><td>31156</td><td>4.161290322580645</td></tr><tr><td>31703</td><td>4.038461538461538</td></tr><tr><td>31762</td><td>3.8666666666666667</td></tr><tr><td>31944</td><td>4.216216216216216</td></tr><tr><td>32098</td><td>2.075</td></tr><tr><td>32571</td><td>4.04</td></tr><tr><td>32667</td><td>3.315068493150685</td></tr><tr><td>32912</td><td>2.6551724137931036</td></tr><tr><td>32954</td><td>3.8580246913580245</td></tr><tr><td>33013</td><td>2.46875</td></tr><tr><td>33209</td><td>3.1029411764705883</td></tr><tr><td>33760</td><td>3.8157894736842106</td></tr><tr><td>33862</td><td>3.6666666666666665</td></tr><tr><td>34340</td><td>3.6363636363636362</td></tr><tr><td>52001</td><td>3.5473684210526315</td></tr><tr><td>52051</td><td>3.6605504587155964</td></tr><tr><td>52412</td><td>3.7037037037037037</td></tr><tr><td>52611</td><td>3.7191435768261965</td></tr><tr><td>52743</td><td>3.0</td></tr><tr><td>52910</td><td>2.410569105691057</td></tr><tr><td>53294</td><td>3.730769230769231</td></tr><tr><td>53509</td><td>3.7063197026022303</td></tr><tr><td>53721</td><td>3.6923076923076925</td></tr><tr><td>54039</td><td>3.5555555555555554</td></tr><tr><td>54184</td><td>2.533333333333333</td></tr><tr><td>54349</td><td>3.3333333333333335</td></tr><tr><td>54415</td><td>2.9410714285714286</td></tr><tr><td>54536</td><td>3.75</td></tr><tr><td>54579</td><td>3.5652173913043477</td></tr><tr><td>54596</td><td>3.44</td></tr><tr><td>54660</td><td>3.611111111111111</td></tr><tr><td>54899</td><td>3.5317460317460316</td></tr><tr><td>55426</td><td>3.5555555555555554</td></tr><tr><td>55474</td><td>3.230769230769231</td></tr><tr><td>55604</td><td>4.526315789473684</td></tr><tr><td>55671</td><td>3.5</td></tr><tr><td>55700</td><td>3.696022727272727</td></tr><tr><td>55709</td><td>3.25</td></tr><tr><td>55845</td><td>3.6774193548387095</td></tr><tr><td>56242</td><td>3.61</td></tr><tr><td>56309</td><td>3.5064102564102564</td></tr><tr><td>56553</td><td>3.847058823529412</td></tr><tr><td>56852</td><td>4.06</td></tr><tr><td>56964</td><td>3.869565217391304</td></tr><tr><td>57157</td><td>3.9038461538461537</td></tr><tr><td>57651</td><td>3.88</td></tr><tr><td>57910</td><td>3.951219512195122</td></tr><tr><td>58289</td><td>4.181818181818182</td></tr><tr><td>58509</td><td>3.347826086956522</td></tr><tr><td>58768</td><td>3.3181818181818183</td></tr><tr><td>58869</td><td>3.6016949152542375</td></tr><tr><td>58877</td><td>3.4166666666666665</td></tr><tr><td>59861</td><td>3.24</td></tr><tr><td>60016</td><td>3.286780383795309</td></tr><tr><td>60033</td><td>3.5306122448979593</td></tr><tr><td>60408</td><td>3.945945945945946</td></tr><tr><td>60683</td><td>3.086206896551724</td></tr><tr><td>60691</td><td>3.4033333333333333</td></tr><tr><td>60738</td><td>4.0</td></tr><tr><td>60756</td><td>3.5954545454545452</td></tr><tr><td>60882</td><td>3.8122977346278315</td></tr><tr><td>60913</td><td>4.125</td></tr><tr><td>61135</td><td>3.5257731958762886</td></tr><tr><td>61251</td><td>3.7857142857142856</td></tr><tr><td>61597</td><td>2.7540983606557377</td></tr><tr><td>61679</td><td>4.041095890410959</td></tr><tr><td>61749</td><td>3.909090909090909</td></tr><tr><td>61888</td><td>4.333333333333333</td></tr><tr><td>62273</td><td>3.95</td></tr><tr><td>62327</td><td>3.210526315789474</td></tr><tr><td>62419</td><td>2.6884984025559104</td></tr><tr><td>62526</td><td>3.05</td></tr><tr><td>62612</td><td>3.65625</td></tr><tr><td>62693</td><td>3.4894736842105263</td></tr><tr><td>62826</td><td>3.9642857142857144</td></tr><tr><td>62895</td><td>4.166666666666667</td></tr><tr><td>62966</td><td>3.9454545454545453</td></tr><tr><td>62989</td><td>3.4285714285714284</td></tr><tr><td>63090</td><td>3.6422018348623855</td></tr><tr><td>63212</td><td>2.3118556701030926</td></tr><tr><td>63676</td><td>3.698581560283688</td></tr><tr><td>63710</td><td>3.064516129032258</td></tr><tr><td>64317</td><td>3.7358490566037736</td></tr><tr><td>64442</td><td>3.282442748091603</td></tr><tr><td>64757</td><td>3.9285714285714284</td></tr><tr><td>64873</td><td>3.728</td></tr><tr><td>65462</td><td>4.003448275862069</td></tr><tr><td>65848</td><td>3.305263157894737</td></tr><tr><td>66070</td><td>4.07</td></tr><tr><td>66091</td><td>3.9375</td></tr><tr><td>66114</td><td>2.6363636363636362</td></tr><tr><td>66512</td><td>3.4055555555555554</td></tr><tr><td>66580</td><td>3.8035714285714284</td></tr><tr><td>67148</td><td>3.5576923076923075</td></tr><tr><td>67775</td><td>3.4761904761904763</td></tr><tr><td>67903</td><td>3.510250569476082</td></tr><tr><td>68463</td><td>2.7100456621004567</td></tr><tr><td>68895</td><td>3.8559322033898304</td></tr><tr><td>68995</td><td>3.652542372881356</td></tr><tr><td>69086</td><td>4.564516129032258</td></tr><tr><td>86427</td><td>2.95</td></tr><tr><td>86445</td><td>3.2538860103626943</td></tr><tr><td>86453</td><td>3.8</td></tr><tr><td>86791</td><td>4.511111111111111</td></tr><tr><td>86941</td><td>3.7805755395683454</td></tr><tr><td>87445</td><td>4.2152917505030185</td></tr><tr><td>87631</td><td>3.4104046242774566</td></tr><tr><td>87935</td><td>3.3636363636363638</td></tr><tr><td>87992</td><td>3.467289719626168</td></tr><tr><td>88058</td><td>4.638888888888889</td></tr><tr><td>88133</td><td>3.2960893854748603</td></tr><tr><td>88228</td><td>3.007446016381236</td></tr><tr><td>88291</td><td>4.594594594594595</td></tr><tr><td>88492</td><td>3.740740740740741</td></tr><tr><td>88576</td><td>3.7450980392156863</td></tr><tr><td>89041</td><td>4.0638297872340425</td></tr><tr><td>89053</td><td>4.095238095238095</td></tr><tr><td>89198</td><td>3.548780487804878</td></tr><tr><td>89320</td><td>2.857142857142857</td></tr><tr><td>89365</td><td>3.3230769230769233</td></tr><tr><td>89727</td><td>3.343137254901961</td></tr><tr><td>89806</td><td>3.9285714285714284</td></tr><tr><td>89881</td><td>3.6666666666666665</td></tr><tr><td>90398</td><td>4.153846153846154</td></tr><tr><td>90711</td><td>3.0238095238095237</td></tr><tr><td>91056</td><td>3.35625</td></tr><tr><td>91261</td><td>3.25177304964539</td></tr><tr><td>91501</td><td>3.5</td></tr><tr><td>91628</td><td>3.2867924528301886</td></tr><tr><td>91948</td><td>2.0847665847665846</td></tr><tr><td>92206</td><td>4.222222222222222</td></tr><tr><td>92357</td><td>3.516990291262136</td></tr><tr><td>92490</td><td>3.6857142857142855</td></tr><tr><td>92508</td><td>3.4523809523809526</td></tr><tr><td>92620</td><td>4.069148936170213</td></tr><tr><td>92741</td><td>4.296296296296297</td></tr><tr><td>92773</td><td>3.731527093596059</td></tr><tr><td>93141</td><td>2.697247706422018</td></tr><tr><td>93816</td><td>3.1079136690647484</td></tr><tr><td>94988</td><td>3.810810810810811</td></tr><tr><td>95031</td><td>3.8518518518518516</td></tr><tr><td>95149</td><td>3.2271825396825395</td></tr><tr><td>95284</td><td>3.9</td></tr><tr><td>95317</td><td>3.5348837209302326</td></tr><tr><td>95526</td><td>2.6506024096385543</td></tr><tr><td>95841</td><td>3.501336898395722</td></tr><tr><td>95872</td><td>3.931179775280899</td></tr><tr><td>95947</td><td>3.5150862068965516</td></tr><tr><td>96113</td><td>2.5454545454545454</td></tr><tr><td>96165</td><td>3.551282051282051</td></tr><tr><td>96199</td><td>3.592</td></tr><tr><td>96204</td><td>3.8170212765957445</td></tr><tr><td>96359</td><td>3.3846153846153846</td></tr><tr><td>96523</td><td>3.7165</td></tr><tr><td>96729</td><td>4.088235294117647</td></tr><tr><td>96734</td><td>4.1</td></tr><tr><td>96763</td><td>3.8734177215189876</td></tr><tr><td>96829</td><td>2.9873417721518987</td></tr><tr><td>96923</td><td>3.807017543859649</td></tr><tr><td>97216</td><td>4.114942528735632</td></tr><tr><td>97658</td><td>3.4347826086956523</td></tr><tr><td>97699</td><td>3.9537444933920707</td></tr><tr><td>97702</td><td>3.8620689655172415</td></tr><tr><td>98089</td><td>4.386904761904762</td></tr><tr><td>98148</td><td>3.35</td></tr><tr><td>98424</td><td>4.283018867924528</td></tr><tr><td>98426</td><td>3.7142857142857144</td></tr><tr><td>98559</td><td>3.5434782608695654</td></tr><tr><td>98630</td><td>2.4670433145009416</td></tr><tr><td>99044</td><td>3.807142857142857</td></tr><tr><td>99060</td><td>3.5</td></tr><tr><td>99163</td><td>3.5225563909774436</td></tr><tr><td>99489</td><td>3.651851851851852</td></tr><tr><td>99629</td><td>4.16</td></tr><tr><td>99688</td><td>4.138888888888889</td></tr><tr><td>99893</td><td>3.6103896103896105</td></tr><tr><td>100031</td><td>3.9558823529411766</td></tr><tr><td>100501</td><td>4.006578947368421</td></tr><tr><td>100565</td><td>2.367021276595745</td></tr><tr><td>100847</td><td>3.7142857142857144</td></tr><tr><td>100852</td><td>3.892857142857143</td></tr><tr><td>101011</td><td>3.538793103448276</td></tr><tr><td>101067</td><td>3.9642857142857144</td></tr><tr><td>101155</td><td>3.4906126482213438</td></tr><tr><td>101221</td><td>3.9615384615384617</td></tr><tr><td>101333</td><td>3.63855421686747</td></tr><tr><td>101496</td><td>3.5127388535031847</td></tr><tr><td>101507</td><td>3.740740740740741</td></tr><tr><td>101519</td><td>3.2840236686390534</td></tr><tr><td>101552</td><td>3.73019801980198</td></tr><tr><td>101583</td><td>3.5991501416430594</td></tr><tr><td>101738</td><td>3.1690140845070425</td></tr><tr><td>101756</td><td>4.017647058823529</td></tr><tr><td>102092</td><td>3.2941176470588234</td></tr><tr><td>102100</td><td>2.735376044568245</td></tr><tr><td>102454</td><td>3.529850746268657</td></tr><tr><td>102561</td><td>3.734265734265734</td></tr><tr><td>102613</td><td>4.020304568527918</td></tr><tr><td>102852</td><td>3.5238095238095237</td></tr><tr><td>102993</td><td>4.4</td></tr><tr><td>103252</td><td>3.753086419753086</td></tr><tr><td>103478</td><td>3.6375838926174495</td></tr><tr><td>103496</td><td>3.6956521739130435</td></tr><tr><td>121025</td><td>3.5</td></tr><tr><td>121107</td><td>3.3544973544973544</td></tr><tr><td>121621</td><td>3.3846153846153846</td></tr><tr><td>121806</td><td>3.3962264150943398</td></tr><tr><td>121997</td><td>3.758793969849246</td></tr><tr><td>122045</td><td>3.922680412371134</td></tr><tr><td>122075</td><td>3.5238095238095237</td></tr><tr><td>122127</td><td>3.41875</td></tr><tr><td>122377</td><td>2.9696969696969697</td></tr><tr><td>122613</td><td>3.8181818181818183</td></tr><tr><td>122961</td><td>3.5523465703971118</td></tr><tr><td>122965</td><td>3.5714285714285716</td></tr><tr><td>123064</td><td>3.4166666666666665</td></tr><tr><td>123068</td><td>3.7567567567567566</td></tr><tr><td>123425</td><td>3.2058823529411766</td></tr><tr><td>123688</td><td>3.497076023391813</td></tr><tr><td>123758</td><td>3.9238095238095236</td></tr><tr><td>124609</td><td>3.8461538461538463</td></tr><tr><td>124703</td><td>3.8333333333333335</td></tr><tr><td>124944</td><td>3.536231884057971</td></tr><tr><td>124966</td><td>3.283333333333333</td></tr><tr><td>125171</td><td>2.4686431014823262</td></tr><tr><td>125381</td><td>3.925531914893617</td></tr><tr><td>125492</td><td>3.3333333333333335</td></tr><tr><td>125620</td><td>3.9857142857142858</td></tr><tr><td>126150</td><td>4.1125</td></tr><tr><td>126476</td><td>3.1</td></tr><tr><td>126632</td><td>2.89922480620155</td></tr><tr><td>126716</td><td>4.0</td></tr><tr><td>126753</td><td>2.6551724137931036</td></tr><tr><td>126911</td><td>4.0978260869565215</td></tr><tr><td>126916</td><td>3.0</td></tr><tr><td>127207</td><td>3.068702290076336</td></tr><tr><td>127229</td><td>3.6014150943396226</td></tr><tr><td>127422</td><td>4.25</td></tr><tr><td>127525</td><td>4.054054054054054</td></tr><tr><td>127907</td><td>3.4</td></tr><tr><td>127912</td><td>3.3766666666666665</td></tr><tr><td>127964</td><td>3.671875</td></tr><tr><td>128245</td><td>3.2802547770700636</td></tr><tr><td>128283</td><td>3.9065040650406506</td></tr><tr><td>128314</td><td>4.0</td></tr><tr><td>128784</td><td>4.219178082191781</td></tr><tr><td>129113</td><td>3.55</td></tr><tr><td>129257</td><td>2.5405405405405403</td></tr><tr><td>129421</td><td>3.85</td></tr><tr><td>129986</td><td>4.2592592592592595</td></tr><tr><td>130991</td><td>2.875</td></tr><tr><td>131111</td><td>4.2784810126582276</td></tr><tr><td>131150</td><td>3.473972602739726</td></tr><tr><td>131329</td><td>3.302013422818792</td></tr><tr><td>131797</td><td>3.5308641975308643</td></tr><tr><td>132353</td><td>3.9238095238095236</td></tr><tr><td>132391</td><td>3.5238095238095237</td></tr><tr><td>132648</td><td>3.0697674418604652</td></tr><tr><td>133042</td><td>3.551219512195122</td></tr><tr><td>133107</td><td>4.05241935483871</td></tr><tr><td>133142</td><td>3.7666666666666666</td></tr><tr><td>133164</td><td>4.05</td></tr><tr><td>133382</td><td>2.9318181818181817</td></tr><tr><td>133480</td><td>3.329608938547486</td></tr><tr><td>133492</td><td>4.05</td></tr><tr><td>133715</td><td>4.081081081081081</td></tr><tr><td>133904</td><td>1.8810160427807487</td></tr><tr><td>133907</td><td>4.3901098901098905</td></tr><tr><td>134319</td><td>3.7045454545454546</td></tr><tr><td>134532</td><td>3.96875</td></tr><tr><td>134582</td><td>4.290322580645161</td></tr><tr><td>135061</td><td>3.534375</td></tr><tr><td>135165</td><td>3.25</td></tr><tr><td>135832</td><td>3.3674698795180724</td></tr><tr><td>135982</td><td>3.6631205673758864</td></tr><tr><td>136059</td><td>3.7049180327868854</td></tr><tr><td>136197</td><td>3.8045977011494254</td></tr><tr><td>136275</td><td>4.384615384615385</td></tr><tr><td>136394</td><td>3.9078947368421053</td></tr><tr><td>136683</td><td>3.0</td></tr><tr><td>136815</td><td>4.0</td></tr><tr><td>136879</td><td>3.576388888888889</td></tr><tr><td>136996</td><td>3.388059701492537</td></tr><tr><td>137114</td><td>4.30188679245283</td></tr><tr><td>137147</td><td>3.234042553191489</td></tr><tr><td>137489</td><td>2.761904761904762</td></tr><tr><td>137634</td><td>4.6</td></tr><tr><td>137941</td><td>3.8333333333333335</td></tr><tr><td>137989</td><td>3.9402985074626864</td></tr><tr><td>138055</td><td>3.325</td></tr><tr><td>138090</td><td>2.85</td></tr><tr><td>138289</td><td>4.096875</td></tr><tr><td>26</td><td>3.4918032786885247</td></tr><tr><td>29</td><td>3.4915254237288136</td></tr><tr><td>474</td><td>4.035460992907802</td></tr><tr><td>964</td><td>4.052863436123348</td></tr><tr><td>1677</td><td>2.6818181818181817</td></tr><tr><td>1697</td><td>3.6666666666666665</td></tr><tr><td>1806</td><td>3.4634146341463414</td></tr><tr><td>1950</td><td>3.7884615384615383</td></tr><tr><td>2040</td><td>3.6714285714285713</td></tr><tr><td>2214</td><td>2.9675675675675675</td></tr><tr><td>2250</td><td>3.4583333333333335</td></tr><tr><td>2453</td><td>3.1818181818181817</td></tr><tr><td>2509</td><td>4.204545454545454</td></tr><tr><td>2529</td><td>3.881443298969072</td></tr><tr><td>2927</td><td>4.288461538461538</td></tr><tr><td>3091</td><td>3.9555555555555557</td></tr><tr><td>3506</td><td>3.440677966101695</td></tr><tr><td>3764</td><td>3.712</td></tr><tr><td>4590</td><td>3.8628318584070795</td></tr><tr><td>4823</td><td>2.6015325670498086</td></tr><tr><td>4894</td><td>4.225</td></tr><tr><td>5385</td><td>3.9375</td></tr><tr><td>5409</td><td>4.204545454545454</td></tr><tr><td>5556</td><td>3.2777777777777777</td></tr><tr><td>6721</td><td>3.9358974358974357</td></tr><tr><td>7225</td><td>3.737704918032787</td></tr><tr><td>7279</td><td>3.193548387096774</td></tr><tr><td>7747</td><td>3.125</td></tr><tr><td>8075</td><td>3.675</td></tr><tr><td>8440</td><td>3.288135593220339</td></tr><tr><td>8484</td><td>3.4910714285714284</td></tr><tr><td>9233</td><td>2.795918367346939</td></tr><tr><td>9458</td><td>3.1375</td></tr><tr><td>9715</td><td>4.0625</td></tr><tr><td>9945</td><td>3.8006134969325154</td></tr><tr><td>9968</td><td>4.232142857142857</td></tr><tr><td>9978</td><td>3.2857142857142856</td></tr><tr><td>10156</td><td>3.6074380165289255</td></tr><tr><td>10422</td><td>3.1675675675675676</td></tr><tr><td>10871</td><td>3.5568181818181817</td></tr><tr><td>10959</td><td>3.9615384615384617</td></tr><tr><td>11190</td><td>3.675531914893617</td></tr><tr><td>11276</td><td>3.9456521739130435</td></tr><tr><td>11434</td><td>3.0610259433962264</td></tr><tr><td>11567</td><td>4.107476635514018</td></tr><tr><td>11619</td><td>4.042168674698795</td></tr><tr><td>11625</td><td>3.2395833333333335</td></tr><tr><td>11745</td><td>3.9577464788732395</td></tr><tr><td>11938</td><td>4.54320987654321</td></tr><tr><td>11945</td><td>3.986111111111111</td></tr><tr><td>12044</td><td>2.3223826714801445</td></tr><tr><td>12568</td><td>3.9310344827586206</td></tr><tr><td>13098</td><td>3.4634146341463414</td></tr><tr><td>13248</td><td>4.0</td></tr><tr><td>13401</td><td>3.122448979591837</td></tr><tr><td>13452</td><td>3.3157894736842106</td></tr><tr><td>13460</td><td>3.307486631016043</td></tr><tr><td>13518</td><td>3.161290322580645</td></tr><tr><td>13638</td><td>3.357142857142857</td></tr><tr><td>13723</td><td>3.206611570247934</td></tr><tr><td>14117</td><td>3.7419354838709675</td></tr><tr><td>14719</td><td>3.0952380952380953</td></tr><tr><td>14846</td><td>3.6372549019607843</td></tr><tr><td>15057</td><td>3.1785714285714284</td></tr><tr><td>15173</td><td>3.877551020408163</td></tr><tr><td>15194</td><td>3.171578947368421</td></tr><tr><td>15237</td><td>3.473684210526316</td></tr><tr><td>15322</td><td>3.3897180762852406</td></tr><tr><td>15371</td><td>4.10655737704918</td></tr><tr><td>15375</td><td>3.5700934579439254</td></tr><tr><td>15432</td><td>2.708641975308642</td></tr><tr><td>15437</td><td>3.6382978723404253</td></tr><tr><td>15663</td><td>3.6875</td></tr><tr><td>15846</td><td>3.335616438356164</td></tr><tr><td>16530</td><td>3.580508474576271</td></tr><tr><td>16597</td><td>3.772727272727273</td></tr><tr><td>16742</td><td>4.257575757575758</td></tr><tr><td>16896</td><td>3.206896551724138</td></tr><tr><td>34821</td><td>3.121212121212121</td></tr><tr><td>35148</td><td>3.072463768115942</td></tr><tr><td>35253</td><td>3.742857142857143</td></tr><tr><td>35323</td><td>2.4347826086956523</td></tr><tr><td>35484</td><td>4.145161290322581</td></tr><tr><td>36102</td><td>3.5757575757575757</td></tr><tr><td>36103</td><td>4.243589743589744</td></tr><tr><td>37098</td><td>3.9577464788732395</td></tr><tr><td>37261</td><td>3.074074074074074</td></tr><tr><td>37282</td><td>3.610294117647059</td></tr><tr><td>37310</td><td>3.425925925925926</td></tr><tr><td>37521</td><td>4.085714285714285</td></tr><tr><td>37884</td><td>3.7857142857142856</td></tr><tr><td>38108</td><td>2.9620938628158844</td></tr><tr><td>38287</td><td>4.08</td></tr><tr><td>38510</td><td>3.8666666666666667</td></tr><tr><td>38543</td><td>4.181818181818182</td></tr><tr><td>38878</td><td>4.023809523809524</td></tr><tr><td>38996</td><td>3.326923076923077</td></tr><tr><td>39094</td><td>3.938775510204082</td></tr><tr><td>39104</td><td>3.7132867132867133</td></tr><tr><td>39256</td><td>3.7639751552795033</td></tr><tr><td>39350</td><td>3.9661654135338344</td></tr><tr><td>39473</td><td>3.7954545454545454</td></tr><tr><td>39520</td><td>3.369565217391304</td></tr><tr><td>39527</td><td>3.61</td></tr><tr><td>39598</td><td>2.661764705882353</td></tr><tr><td>39627</td><td>4.051282051282051</td></tr><tr><td>39713</td><td>4.15</td></tr><tr><td>40132</td><td>3.6777777777777776</td></tr><tr><td>40395</td><td>3.984375</td></tr><tr><td>40436</td><td>3.801980198019802</td></tr><tr><td>40557</td><td>3.6</td></tr><tr><td>40634</td><td>2.5217391304347827</td></tr><tr><td>41424</td><td>3.8504043126684637</td></tr><tr><td>41862</td><td>3.619047619047619</td></tr><tr><td>41895</td><td>3.8333333333333335</td></tr><tr><td>41988</td><td>4.4393063583815024</td></tr><tr><td>42126</td><td>3.7419354838709675</td></tr><tr><td>42852</td><td>3.43859649122807</td></tr><tr><td>42969</td><td>4.0</td></tr><tr><td>43367</td><td>3.5701754385964914</td></tr><tr><td>43439</td><td>3.5</td></tr><tr><td>44134</td><td>3.4065040650406506</td></tr><tr><td>44342</td><td>3.8360655737704916</td></tr><tr><td>44901</td><td>3.590909090909091</td></tr><tr><td>45166</td><td>3.934108527131783</td></tr><tr><td>45298</td><td>3.288135593220339</td></tr><tr><td>45410</td><td>3.3333333333333335</td></tr><tr><td>45726</td><td>3.2439024390243905</td></tr><tr><td>46044</td><td>3.130434782608696</td></tr><tr><td>46424</td><td>3.169844020797227</td></tr><tr><td>47492</td><td>3.5217391304347827</td></tr><tr><td>47877</td><td>4.0212765957446805</td></tr><tr><td>47928</td><td>4.130769230769231</td></tr><tr><td>48280</td><td>2.5968992248062017</td></tr><tr><td>48603</td><td>3.488888888888889</td></tr><tr><td>48763</td><td>4.137931034482759</td></tr><tr><td>48899</td><td>3.6401869158878504</td></tr><tr><td>49048</td><td>3.4008097165991904</td></tr><tr><td>49136</td><td>3.2723214285714284</td></tr><tr><td>49326</td><td>3.210526315789474</td></tr><tr><td>49586</td><td>3.239130434782609</td></tr><tr><td>49754</td><td>4.143581081081081</td></tr><tr><td>49967</td><td>3.611111111111111</td></tr><tr><td>49983</td><td>4.166666666666667</td></tr><tr><td>50002</td><td>3.2718446601941746</td></tr><tr><td>50049</td><td>3.7674418604651163</td></tr><tr><td>50124</td><td>3.485294117647059</td></tr><tr><td>50157</td><td>3.2158469945355193</td></tr><tr><td>50219</td><td>3.1875</td></tr><tr><td>50221</td><td>3.460526315789474</td></tr><tr><td>50287</td><td>4.05</td></tr><tr><td>50329</td><td>3.9193548387096775</td></tr><tr><td>51056</td><td>3.658119658119658</td></tr><tr><td>51418</td><td>3.761904761904762</td></tr><tr><td>51428</td><td>3.825</td></tr><tr><td>51709</td><td>3.380952380952381</td></tr><tr><td>69299</td><td>3.035310734463277</td></tr><tr><td>69549</td><td>2.6188524590163933</td></tr><tr><td>69708</td><td>3.4556451612903225</td></tr><tr><td>69720</td><td>3.716666666666667</td></tr><tr><td>69735</td><td>3.7392996108949417</td></tr><tr><td>69976</td><td>3.7432432432432434</td></tr><tr><td>70095</td><td>3.5217391304347827</td></tr><tr><td>70211</td><td>1.1428571428571428</td></tr><tr><td>70593</td><td>4.102803738317757</td></tr><tr><td>71097</td><td>3.658464566929134</td></tr><tr><td>71429</td><td>2.6363636363636362</td></tr><tr><td>71530</td><td>3.3846153846153846</td></tr><tr><td>71575</td><td>3.3177083333333335</td></tr><tr><td>71577</td><td>3.735294117647059</td></tr><tr><td>71648</td><td>3.3703703703703702</td></tr><tr><td>71655</td><td>3.4125</td></tr><tr><td>71936</td><td>4.097122302158273</td></tr><tr><td>72011</td><td>4.221649484536083</td></tr><tr><td>72203</td><td>3.25</td></tr><tr><td>72485</td><td>3.4047619047619047</td></tr><tr><td>72541</td><td>3.3016129032258066</td></tr><tr><td>72926</td><td>4.541666666666667</td></tr><tr><td>72935</td><td>2.8620689655172415</td></tr><tr><td>73190</td><td>4.086776859504132</td></tr><tr><td>73273</td><td>3.8222222222222224</td></tr><tr><td>73287</td><td>3.6233766233766236</td></tr><tr><td>73777</td><td>3.563953488372093</td></tr><tr><td>73951</td><td>3.08955223880597</td></tr><tr><td>74114</td><td>3.872159090909091</td></tr><tr><td>74138</td><td>3.550632911392405</td></tr><tr><td>74185</td><td>4.323863636363637</td></tr><tr><td>74512</td><td>3.46875</td></tr><tr><td>74706</td><td>3.185185185185185</td></tr><tr><td>74723</td><td>3.4210526315789473</td></tr><tr><td>74783</td><td>3.75</td></tr><tr><td>75167</td><td>3.740740740740741</td></tr><tr><td>75190</td><td>1.6938775510204083</td></tr><tr><td>75232</td><td>3.522727272727273</td></tr><tr><td>75264</td><td>3.2304347826086954</td></tr><tr><td>75411</td><td>3.148989898989899</td></tr><tr><td>75465</td><td>3.26</td></tr><tr><td>76448</td><td>2.851449275362319</td></tr><tr><td>76584</td><td>3.9245283018867925</td></tr><tr><td>76746</td><td>3.548780487804878</td></tr><tr><td>76901</td><td>3.74025974025974</td></tr><tr><td>77034</td><td>3.7282608695652173</td></tr><tr><td>77180</td><td>2.589041095890411</td></tr><tr><td>77488</td><td>3.5</td></tr><tr><td>77540</td><td>3.125</td></tr><tr><td>77605</td><td>3.4589928057553956</td></tr><tr><td>77947</td><td>3.590909090909091</td></tr><tr><td>77953</td><td>3.0268456375838926</td></tr><tr><td>78365</td><td>2.693877551020408</td></tr><tr><td>78385</td><td>3.7916666666666665</td></tr><tr><td>78598</td><td>3.774193548387097</td></tr><tr><td>78606</td><td>2.630434782608696</td></tr><tr><td>78671</td><td>3.327956989247312</td></tr><tr><td>79035</td><td>4.346774193548387</td></tr><tr><td>79106</td><td>3.8</td></tr><tr><td>79336</td><td>3.2705078125</td></tr><tr><td>79418</td><td>2.0625</td></tr><tr><td>79422</td><td>3.9910714285714284</td></tr><tr><td>79425</td><td>3.8351648351648353</td></tr><tr><td>79662</td><td>2.896392939370683</td></tr><tr><td>79666</td><td>3.6656626506024095</td></tr><tr><td>80545</td><td>4.431034482758621</td></tr><tr><td>81068</td><td>3.403225806451613</td></tr><tr><td>81085</td><td>3.1724137931034484</td></tr><tr><td>81293</td><td>3.4775449101796405</td></tr><tr><td>81482</td><td>3.8636363636363638</td></tr><tr><td>82097</td><td>4.145161290322581</td></tr><tr><td>82876</td><td>4.013513513513513</td></tr><tr><td>83015</td><td>3.9545454545454546</td></tr><tr><td>83194</td><td>3.3453237410071943</td></tr><tr><td>83615</td><td>3.5851063829787235</td></tr><tr><td>83620</td><td>4.202702702702703</td></tr><tr><td>83646</td><td>3.046153846153846</td></tr><tr><td>83748</td><td>3.6136363636363638</td></tr><tr><td>83863</td><td>3.456876456876457</td></tr><tr><td>84120</td><td>3.433333333333333</td></tr><tr><td>84272</td><td>3.8760245901639343</td></tr><tr><td>84492</td><td>3.2526132404181185</td></tr><tr><td>84548</td><td>4.148148148148148</td></tr><tr><td>84745</td><td>3.744186046511628</td></tr><tr><td>84761</td><td>3.553030303030303</td></tr><tr><td>85051</td><td>4.041666666666667</td></tr><tr><td>85760</td><td>3.2900763358778624</td></tr><tr><td>85990</td><td>4.128099173553719</td></tr><tr><td>86132</td><td>3.9397590361445785</td></tr><tr><td>103809</td><td>3.8873873873873874</td></tr><tr><td>103854</td><td>2.8333333333333335</td></tr><tr><td>104084</td><td>3.6111878453038675</td></tr><tr><td>104258</td><td>3.3832335329341316</td></tr><tr><td>104473</td><td>3.189189189189189</td></tr><tr><td>104498</td><td>3.8</td></tr><tr><td>104529</td><td>3.8714285714285714</td></tr><tr><td>104854</td><td>3.611111111111111</td></tr><tr><td>104919</td><td>4.118279569892473</td></tr><tr><td>104986</td><td>3.683333333333333</td></tr><tr><td>105182</td><td>3.06</td></tr><tr><td>105403</td><td>3.75</td></tr><tr><td>105530</td><td>3.6153846153846154</td></tr><tr><td>105657</td><td>4.081081081081081</td></tr><tr><td>105784</td><td>3.75</td></tr><tr><td>106002</td><td>3.441747572815534</td></tr><tr><td>106100</td><td>3.630434782608696</td></tr><tr><td>106780</td><td>3.63265306122449</td></tr><tr><td>106871</td><td>3.3945945945945946</td></tr><tr><td>107108</td><td>3.635135135135135</td></tr><tr><td>107123</td><td>3.5272727272727273</td></tr><tr><td>107526</td><td>4.36</td></tr><tr><td>107608</td><td>3.5806451612903225</td></tr><tr><td>107959</td><td>3.6842105263157894</td></tr><tr><td>108157</td><td>3.4767441860465116</td></tr><tr><td>108247</td><td>4.25</td></tr><tr><td>108589</td><td>3.7058823529411766</td></tr><tr><td>109014</td><td>3.3482587064676617</td></tr><tr><td>109143</td><td>3.8333333333333335</td></tr><tr><td>109192</td><td>3.235294117647059</td></tr><tr><td>109433</td><td>2.6533333333333333</td></tr><tr><td>109554</td><td>4.1923076923076925</td></tr><tr><td>109867</td><td>2.475</td></tr><tr><td>110005</td><td>3.872916666666667</td></tr><tr><td>110193</td><td>3.772727272727273</td></tr><tr><td>110729</td><td>4.0661764705882355</td></tr><tr><td>110753</td><td>3.4478260869565216</td></tr><tr><td>110942</td><td>4.017241379310345</td></tr><tr><td>111343</td><td>3.392857142857143</td></tr><tr><td>111537</td><td>4.0</td></tr><tr><td>111609</td><td>3.6923076923076925</td></tr><tr><td>111719</td><td>3.554054054054054</td></tr><tr><td>112341</td><td>3.425925925925926</td></tr><tr><td>112568</td><td>3.5</td></tr><tr><td>112603</td><td>3.3181818181818183</td></tr><tr><td>112870</td><td>4.2407407407407405</td></tr><tr><td>113699</td><td>3.5611510791366907</td></tr><tr><td>113770</td><td>4.031627906976744</td></tr><tr><td>113794</td><td>2.9393939393939394</td></tr><tr><td>114324</td><td>3.8666666666666667</td></tr><tr><td>114346</td><td>3.5985533453887886</td></tr><tr><td>114458</td><td>3.8677685950413223</td></tr><tr><td>114520</td><td>3.725</td></tr><tr><td>114969</td><td>3.2</td></tr><tr><td>115084</td><td>3.0451197053406998</td></tr><tr><td>115150</td><td>2.8292682926829267</td></tr><tr><td>115457</td><td>3.746153846153846</td></tr><tr><td>115838</td><td>3.046511627906977</td></tr><tr><td>115909</td><td>3.5058823529411764</td></tr><tr><td>116139</td><td>3.4721649484536083</td></tr><tr><td>116185</td><td>3.432098765432099</td></tr><tr><td>116612</td><td>3.5098039215686274</td></tr><tr><td>116724</td><td>3.225984251968504</td></tr><tr><td>117132</td><td>3.9038461538461537</td></tr><tr><td>117180</td><td>3.303703703703704</td></tr><tr><td>117264</td><td>3.978494623655914</td></tr><tr><td>117383</td><td>3.452830188679245</td></tr><tr><td>117760</td><td>3.6481481481481484</td></tr><tr><td>117795</td><td>3.652173913043478</td></tr><tr><td>117936</td><td>4.208333333333333</td></tr><tr><td>118027</td><td>4.041095890410959</td></tr><tr><td>118165</td><td>3.4166666666666665</td></tr><tr><td>118300</td><td>3.4166666666666665</td></tr><tr><td>118408</td><td>3.591666666666667</td></tr><tr><td>118448</td><td>3.1956521739130435</td></tr><tr><td>118528</td><td>4.333333333333333</td></tr><tr><td>118628</td><td>3.63265306122449</td></tr><tr><td>118721</td><td>3.942857142857143</td></tr><tr><td>118827</td><td>3.5944444444444446</td></tr><tr><td>119319</td><td>3.74</td></tr><tr><td>119357</td><td>4.166666666666667</td></tr><tr><td>119585</td><td>3.99203187250996</td></tr><tr><td>119757</td><td>3.158759124087591</td></tr><tr><td>119768</td><td>3.3692307692307693</td></tr><tr><td>119902</td><td>3.230769230769231</td></tr><tr><td>120105</td><td>3.423655913978495</td></tr><tr><td>120327</td><td>3.5428571428571427</td></tr><tr><td>17370</td><td>3.671232876712329</td></tr><tr><td>17595</td><td>3.158953722334004</td></tr><tr><td>18026</td><td>3.3823529411764706</td></tr><tr><td>18117</td><td>3.7657142857142856</td></tr><tr><td>18404</td><td>3.0384615384615383</td></tr><tr><td>18598</td><td>3.761904761904762</td></tr><tr><td>19061</td><td>3.1948051948051948</td></tr><tr><td>19115</td><td>3.661764705882353</td></tr><tr><td>19329</td><td>2.1675675675675676</td></tr><tr><td>19838</td><td>4.0</td></tr><tr><td>19845</td><td>3.1145833333333335</td></tr><tr><td>19865</td><td>3.7119113573407203</td></tr><tr><td>19955</td><td>3.0961538461538463</td></tr><tr><td>20335</td><td>3.3852813852813854</td></tr><tr><td>20638</td><td>3.2459016393442623</td></tr><tr><td>20867</td><td>3.4634146341463414</td></tr><tr><td>21071</td><td>3.2142857142857144</td></tr><tr><td>21787</td><td>4.237113402061856</td></tr><tr><td>21856</td><td>3.85</td></tr><tr><td>22102</td><td>3.5851063829787235</td></tr><tr><td>22209</td><td>3.4939759036144578</td></tr><tr><td>22916</td><td>3.303030303030303</td></tr><tr><td>23030</td><td>4.249622926093514</td></tr><tr><td>23090</td><td>3.3095238095238093</td></tr><tr><td>23110</td><td>3.8529411764705883</td></tr><tr><td>23124</td><td>3.8226256983240225</td></tr><tr><td>23146</td><td>3.398230088495575</td></tr><tr><td>23176</td><td>3.376647834274953</td></tr><tr><td>23272</td><td>3.776923076923077</td></tr><tr><td>23772</td><td>4.218220338983051</td></tr><tr><td>23870</td><td>4.494736842105263</td></tr><tr><td>24715</td><td>3.925925925925926</td></tr><tr><td>24782</td><td>3.875</td></tr><tr><td>24880</td><td>3.6065573770491803</td></tr><tr><td>25055</td><td>3.0719178082191783</td></tr><tr><td>25240</td><td>3.09375</td></tr><tr><td>25244</td><td>3.5462962962962963</td></tr><tr><td>25562</td><td>3.5798319327731094</td></tr><tr><td>25725</td><td>3.102272727272727</td></tr><tr><td>25946</td><td>3.4951923076923075</td></tr><tr><td>25999</td><td>3.4814814814814814</td></tr><tr><td>26140</td><td>3.817073170731707</td></tr><tr><td>26389</td><td>4.25531914893617</td></tr><tr><td>27183</td><td>3.1463414634146343</td></tr><tr><td>27254</td><td>2.642857142857143</td></tr><tr><td>27276</td><td>4.0</td></tr><tr><td>27385</td><td>3.6451612903225805</td></tr><tr><td>27687</td><td>3.5063291139240507</td></tr><tr><td>27850</td><td>3.608695652173913</td></tr><tr><td>27910</td><td>3.7049180327868854</td></tr><tr><td>28615</td><td>3.4315642458100557</td></tr><tr><td>28683</td><td>3.260869565217391</td></tr><tr><td>28720</td><td>3.4754098360655736</td></tr><tr><td>29299</td><td>3.9869565217391303</td></tr><tr><td>29334</td><td>3.2528735632183907</td></tr><tr><td>29695</td><td>3.3035714285714284</td></tr><tr><td>29913</td><td>3.688622754491018</td></tr><tr><td>30276</td><td>2.4444444444444446</td></tr><tr><td>30308</td><td>3.1288659793814433</td></tr><tr><td>31503</td><td>2.616395978344934</td></tr><tr><td>31545</td><td>3.338235294117647</td></tr><tr><td>31598</td><td>4.318181818181818</td></tr><tr><td>32659</td><td>3.4948453608247423</td></tr><tr><td>33046</td><td>2.7</td></tr><tr><td>33090</td><td>4.226415094339623</td></tr><tr><td>33133</td><td>3.6607142857142856</td></tr><tr><td>33600</td><td>4.052083333333333</td></tr><tr><td>33831</td><td>3.4347826086956523</td></tr><tr><td>34131</td><td>3.279279279279279</td></tr><tr><td>52609</td><td>3.6481481481481484</td></tr><tr><td>52880</td><td>4.153846153846154</td></tr><tr><td>52904</td><td>3.3692307692307693</td></tr><tr><td>53064</td><td>3.261904761904762</td></tr><tr><td>53215</td><td>3.8620689655172415</td></tr><tr><td>53301</td><td>3.4722222222222223</td></tr><tr><td>53446</td><td>3.8297872340425534</td></tr><tr><td>53569</td><td>3.925373134328358</td></tr><tr><td>53641</td><td>3.0476190476190474</td></tr><tr><td>53674</td><td>3.735294117647059</td></tr><tr><td>53699</td><td>3.58</td></tr><tr><td>53716</td><td>2.795698924731183</td></tr><tr><td>53722</td><td>3.751412429378531</td></tr><tr><td>53767</td><td>3.7708333333333335</td></tr><tr><td>53990</td><td>2.75</td></tr><tr><td>54239</td><td>3.9523809523809526</td></tr><tr><td>54590</td><td>3.4581151832460733</td></tr><tr><td>54631</td><td>3.958974358974359</td></tr><tr><td>55093</td><td>3.618811881188119</td></tr><tr><td>55210</td><td>3.1305418719211824</td></tr><tr><td>55329</td><td>4.4</td></tr><tr><td>55524</td><td>3.1491228070175437</td></tr><tr><td>55880</td><td>3.6830188679245284</td></tr><tr><td>56552</td><td>3.264705882352941</td></tr><tr><td>56757</td><td>3.6666666666666665</td></tr><tr><td>56877</td><td>3.9240506329113924</td></tr><tr><td>56905</td><td>3.1486486486486487</td></tr><tr><td>57409</td><td>2.378787878787879</td></tr><tr><td>57471</td><td>3.7007042253521125</td></tr><tr><td>57488</td><td>2.9047619047619047</td></tr><tr><td>57659</td><td>3.515151515151515</td></tr><tr><td>58110</td><td>3.2635869565217392</td></tr><tr><td>58661</td><td>4.546875</td></tr><tr><td>59100</td><td>4.089928057553957</td></tr><tr><td>59214</td><td>3.5033112582781456</td></tr><tr><td>59246</td><td>2.6538461538461537</td></tr><tr><td>59420</td><td>3.9285714285714284</td></tr><tr><td>60037</td><td>3.95</td></tr><tr><td>60083</td><td>3.53125</td></tr><tr><td>60208</td><td>4.166666666666667</td></tr><tr><td>60413</td><td>3.0223880597014925</td></tr><tr><td>60499</td><td>3.827956989247312</td></tr><tr><td>60587</td><td>3.2510729613733904</td></tr><tr><td>60600</td><td>3.606060606060606</td></tr><tr><td>60609</td><td>3.123529411764706</td></tr><tr><td>61501</td><td>4.181818181818182</td></tr><tr><td>61577</td><td>3.64</td></tr><tr><td>61592</td><td>3.470731707317073</td></tr><tr><td>62134</td><td>2.996319018404908</td></tr><tr><td>62307</td><td>3.41025641025641</td></tr><tr><td>62666</td><td>3.8883495145631066</td></tr><tr><td>63125</td><td>3.5714285714285716</td></tr><tr><td>63181</td><td>3.6842105263157894</td></tr><tr><td>63448</td><td>3.5392156862745097</td></tr><tr><td>63461</td><td>3.2916666666666665</td></tr><tr><td>63479</td><td>3.4100529100529102</td></tr><tr><td>63498</td><td>3.5</td></tr><tr><td>63586</td><td>4.214285714285714</td></tr><tr><td>63678</td><td>3.84</td></tr><tr><td>63973</td><td>4.0</td></tr><tr><td>63983</td><td>3.6323529411764706</td></tr><tr><td>64032</td><td>3.4705882352941178</td></tr><tr><td>64141</td><td>4.26</td></tr><tr><td>64157</td><td>3.554054054054054</td></tr><tr><td>64170</td><td>3.5899470899470898</td></tr><tr><td>64238</td><td>4.183168316831683</td></tr><tr><td>64290</td><td>3.8260869565217392</td></tr><tr><td>64406</td><td>3.4606060606060605</td></tr><tr><td>64579</td><td>4.2625</td></tr><tr><td>64939</td><td>3.748768472906404</td></tr><tr><td>64953</td><td>4.066666666666666</td></tr><tr><td>65270</td><td>4.238095238095238</td></tr><tr><td>65467</td><td>3.6666666666666665</td></tr><tr><td>65840</td><td>3.576158940397351</td></tr><tr><td>65885</td><td>3.4</td></tr><tr><td>66040</td><td>3.4782608695652173</td></tr><tr><td>66527</td><td>4.038461538461538</td></tr><tr><td>66563</td><td>3.3097826086956523</td></tr><tr><td>66911</td><td>3.679591836734694</td></tr><tr><td>67078</td><td>3.858695652173913</td></tr><tr><td>67180</td><td>2.9393939393939394</td></tr><tr><td>67515</td><td>4.190476190476191</td></tr><tr><td>67546</td><td>3.0787037037037037</td></tr><tr><td>67639</td><td>3.566666666666667</td></tr><tr><td>68047</td><td>3.3958333333333335</td></tr><tr><td>68166</td><td>3.9595588235294117</td></tr><tr><td>68314</td><td>3.3658536585365852</td></tr><tr><td>68752</td><td>3.0689655172413794</td></tr><tr><td>68982</td><td>3.627906976744186</td></tr><tr><td>86385</td><td>3.9057971014492754</td></tr><tr><td>86725</td><td>3.4473684210526314</td></tr><tr><td>87183</td><td>3.8</td></tr><tr><td>87186</td><td>3.6666666666666665</td></tr><tr><td>87238</td><td>3.696113074204947</td></tr><tr><td>87323</td><td>3.7049180327868854</td></tr><tr><td>87353</td><td>3.736111111111111</td></tr><tr><td>87769</td><td>3.142857142857143</td></tr><tr><td>87837</td><td>3.826771653543307</td></tr><tr><td>87864</td><td>3.1551724137931036</td></tr><tr><td>87912</td><td>3.1933333333333334</td></tr><tr><td>88432</td><td>3.576923076923077</td></tr><tr><td>88455</td><td>2.9716981132075473</td></tr><tr><td>88930</td><td>3.9705882352941178</td></tr><tr><td>88977</td><td>3.6923076923076925</td></tr><tr><td>88979</td><td>3.879032258064516</td></tr><tr><td>89038</td><td>3.2542372881355934</td></tr><tr><td>89458</td><td>1.8218309859154929</td></tr><tr><td>89637</td><td>3.292452830188679</td></tr><tr><td>90040</td><td>3.1739130434782608</td></tr><tr><td>90075</td><td>3.3333333333333335</td></tr><tr><td>90714</td><td>3.8668478260869565</td></tr><tr><td>90814</td><td>3.9655172413793105</td></tr><tr><td>91081</td><td>3.357142857142857</td></tr><tr><td>91241</td><td>3.9489795918367347</td></tr><tr><td>91564</td><td>3.300699300699301</td></tr><tr><td>91644</td><td>3.1328125</td></tr><tr><td>91703</td><td>3.2283464566929134</td></tr><tr><td>92085</td><td>3.4530516431924885</td></tr><tr><td>92095</td><td>3.925</td></tr><tr><td>92348</td><td>3.4199507389162562</td></tr><tr><td>92372</td><td>3.3656716417910446</td></tr><tr><td>93919</td><td>3.814432989690722</td></tr><tr><td>93958</td><td>3.882978723404255</td></tr><tr><td>93983</td><td>3.778947368421053</td></tr><tr><td>94245</td><td>3.9575757575757575</td></tr><tr><td>94267</td><td>4.143979057591623</td></tr><tr><td>95052</td><td>4.2835820895522385</td></tr><tr><td>95192</td><td>3.240740740740741</td></tr><tr><td>95201</td><td>3.2933333333333334</td></tr><tr><td>95295</td><td>3.95</td></tr><tr><td>95383</td><td>3.375</td></tr><tr><td>95539</td><td>3.610169491525424</td></tr><tr><td>95683</td><td>4.056547619047619</td></tr><tr><td>95980</td><td>3.230392156862745</td></tr><tr><td>96060</td><td>3.979651162790698</td></tr><tr><td>96121</td><td>3.35</td></tr><tr><td>96231</td><td>3.4864864864864864</td></tr><tr><td>96232</td><td>4.105670103092783</td></tr><tr><td>96868</td><td>4.069105691056911</td></tr><tr><td>97043</td><td>3.675</td></tr><tr><td>97176</td><td>3.154924760601915</td></tr><tr><td>97262</td><td>3.401826484018265</td></tr><tr><td>97269</td><td>3.892857142857143</td></tr><tr><td>97685</td><td>3.2233502538071064</td></tr><tr><td>97856</td><td>3.3203125</td></tr><tr><td>97903</td><td>3.3582089552238807</td></tr><tr><td>98225</td><td>3.0883084577114426</td></tr><tr><td>98304</td><td>4.466666666666667</td></tr><tr><td>98927</td><td>4.21256038647343</td></tr><tr><td>99084</td><td>4.254237288135593</td></tr><tr><td>99133</td><td>3.3646288209606987</td></tr><tr><td>99185</td><td>3.9649122807017543</td></tr><tr><td>99393</td><td>4.588235294117647</td></tr><tr><td>99488</td><td>3.7916666666666665</td></tr><tr><td>99515</td><td>2.8333333333333335</td></tr><tr><td>99531</td><td>3.6973684210526314</td></tr><tr><td>99786</td><td>3.8666666666666667</td></tr><tr><td>100217</td><td>4.088495575221239</td></tr><tr><td>100531</td><td>2.7865168539325844</td></tr><tr><td>100534</td><td>3.142857142857143</td></tr><tr><td>100638</td><td>3.575</td></tr><tr><td>100915</td><td>3.0</td></tr><tr><td>101083</td><td>4.067796610169491</td></tr><tr><td>101361</td><td>3.103896103896104</td></tr><tr><td>101463</td><td>4.012195121951219</td></tr><tr><td>101783</td><td>3.6666666666666665</td></tr><tr><td>102205</td><td>3.6264367816091956</td></tr><tr><td>102247</td><td>3.9508196721311477</td></tr><tr><td>102308</td><td>3.5035087719298246</td></tr><tr><td>102737</td><td>3.75</td></tr><tr><td>102931</td><td>4.442622950819672</td></tr><tr><td>103058</td><td>4.35</td></tr><tr><td>121157</td><td>4.1568627450980395</td></tr><tr><td>121512</td><td>4.101941747572815</td></tr><tr><td>121963</td><td>3.554054054054054</td></tr><tr><td>121974</td><td>3.819277108433735</td></tr><tr><td>122028</td><td>3.1584967320261437</td></tr><tr><td>122287</td><td>3.7083333333333335</td></tr><tr><td>122536</td><td>3.9565217391304346</td></tr><tr><td>122563</td><td>3.536842105263158</td></tr><tr><td>122583</td><td>3.6346153846153846</td></tr><tr><td>122677</td><td>3.2058823529411766</td></tr><tr><td>123028</td><td>3.590909090909091</td></tr><tr><td>123806</td><td>3.3142857142857145</td></tr><tr><td>123854</td><td>2.810810810810811</td></tr><tr><td>123954</td><td>3.7740384615384617</td></tr><tr><td>123971</td><td>4.09375</td></tr><tr><td>124011</td><td>4.175</td></tr><tr><td>124091</td><td>3.80188679245283</td></tr><tr><td>124255</td><td>3.7552301255230125</td></tr><tr><td>124500</td><td>3.712121212121212</td></tr><tr><td>124754</td><td>3.5625</td></tr><tr><td>125042</td><td>3.3863636363636362</td></tr><tr><td>125088</td><td>4.242424242424242</td></tr><tr><td>125197</td><td>3.793103448275862</td></tr><tr><td>125230</td><td>3.993377483443709</td></tr><tr><td>125253</td><td>4.1</td></tr><tr><td>125283</td><td>2.5306122448979593</td></tr><tr><td>125440</td><td>3.130434782608696</td></tr><tr><td>125442</td><td>3.8547008547008548</td></tr><tr><td>125515</td><td>2.7083333333333335</td></tr><tr><td>125624</td><td>4.078651685393258</td></tr><tr><td>125728</td><td>4.043956043956044</td></tr><tr><td>125743</td><td>3.608695652173913</td></tr><tr><td>125813</td><td>3.3333333333333335</td></tr><tr><td>126033</td><td>3.7371794871794872</td></tr><tr><td>126460</td><td>3.298342541436464</td></tr><tr><td>126585</td><td>3.2711864406779663</td></tr><tr><td>126829</td><td>4.3</td></tr><tr><td>126855</td><td>3.7560975609756095</td></tr><tr><td>126960</td><td>4.1208791208791204</td></tr><tr><td>127134</td><td>3.0</td></tr><tr><td>127313</td><td>3.89010989010989</td></tr><tr><td>127438</td><td>3.6875</td></tr><tr><td>127471</td><td>3.716666666666667</td></tr><tr><td>127589</td><td>3.6</td></tr><tr><td>127607</td><td>3.850467289719626</td></tr><tr><td>127673</td><td>3.7329545454545454</td></tr><tr><td>127869</td><td>2.751412429378531</td></tr><tr><td>127878</td><td>3.130434782608696</td></tr><tr><td>127924</td><td>3.776923076923077</td></tr><tr><td>128019</td><td>3.980392156862745</td></tr><tr><td>128164</td><td>3.5912698412698414</td></tr><tr><td>128174</td><td>3.9318181818181817</td></tr><tr><td>128426</td><td>4.078205128205128</td></tr><tr><td>128483</td><td>3.259259259259259</td></tr><tr><td>128591</td><td>3.3502673796791442</td></tr><tr><td>128593</td><td>3.357142857142857</td></tr><tr><td>128682</td><td>2.8860759493670884</td></tr><tr><td>129539</td><td>3.6705882352941175</td></tr><tr><td>129553</td><td>3.108695652173913</td></tr><tr><td>129654</td><td>3.286610878661088</td></tr><tr><td>130001</td><td>4.031746031746032</td></tr><tr><td>130070</td><td>3.2142857142857144</td></tr><tr><td>130174</td><td>3.7183098591549295</td></tr><tr><td>130283</td><td>3.977272727272727</td></tr><tr><td>130320</td><td>3.7146118721461185</td></tr><tr><td>130871</td><td>3.6746835443037975</td></tr><tr><td>131160</td><td>3.435483870967742</td></tr><tr><td>131286</td><td>3.4358974358974357</td></tr><tr><td>131388</td><td>3.92</td></tr><tr><td>131403</td><td>3.6485943775100402</td></tr><tr><td>131486</td><td>3.068421052631579</td></tr><tr><td>131644</td><td>3.4538714991762767</td></tr><tr><td>131757</td><td>3.937888198757764</td></tr><tr><td>131816</td><td>3.9855072463768115</td></tr><tr><td>132604</td><td>2.6363636363636362</td></tr><tr><td>132906</td><td>3.4766355140186915</td></tr></tbody></table></div>"
      ]
     },
     "metadata": {},
     "output_type": "display_data"
    }
   ],
   "source": [
    "avgratings=ratings.groupby('userId').mean(\"rating\")\n",
    "display(avgratings)"
   ]
  },
  {
   "cell_type": "markdown",
   "metadata": {},
   "source": [
    "Histogram showing the distirubtion of average movie ratings for each movie"
   ]
  },
  {
   "cell_type": "code",
   "execution_count": 18,
   "metadata": {},
   "outputs": [
    {
     "data": {
      "text/html": [
       "<style scoped>\n",
       "  .table-result-container {\n",
       "    max-height: 300px;\n",
       "    overflow: auto;\n",
       "  }\n",
       "  table, th, td {\n",
       "    border: 1px solid black;\n",
       "    border-collapse: collapse;\n",
       "  }\n",
       "  th, td {\n",
       "    padding: 5px;\n",
       "  }\n",
       "  th {\n",
       "    text-align: left;\n",
       "  }\n",
       "</style><div class='table-result-container'><table class='table-result'><thead style='background-color: white'><tr><th>movieId</th><th>avg(rating)</th></tr></thead><tbody><tr><td>71530</td><td>3.242138364779874</td></tr><tr><td>106002</td><td>3.4040785498489425</td></tr><tr><td>29</td><td>3.952230046948357</td></tr><tr><td>474</td><td>3.7325069016776387</td></tr><tr><td>1950</td><td>4.073789504204117</td></tr><tr><td>2529</td><td>3.620414108014486</td></tr><tr><td>3506</td><td>3.25</td></tr><tr><td>5409</td><td>2.834375</td></tr><tr><td>5556</td><td>1.8467336683417086</td></tr><tr><td>6721</td><td>3.7312295973884657</td></tr><tr><td>31156</td><td>3.2</td></tr><tr><td>51709</td><td>3.4794594594594597</td></tr><tr><td>62526</td><td>3.3</td></tr><tr><td>4823</td><td>3.31613196125908</td></tr><tr><td>2453</td><td>3.1005818786367416</td></tr><tr><td>3091</td><td>4.054763690922731</td></tr><tr><td>26</td><td>3.628856624319419</td></tr><tr><td>72011</td><td>3.7594444444444446</td></tr><tr><td>2927</td><td>3.9874041621029575</td></tr><tr><td>45726</td><td>2.8117010816125863</td></tr><tr><td>5385</td><td>3.9956942949407965</td></tr><tr><td>4590</td><td>3.5615384615384613</td></tr><tr><td>51418</td><td>3.264423076923077</td></tr><tr><td>60756</td><td>3.3851397409679618</td></tr><tr><td>71429</td><td>3.453225806451613</td></tr><tr><td>106100</td><td>3.896078431372549</td></tr><tr><td>2509</td><td>2.9161490683229814</td></tr><tr><td>1806</td><td>2.831041257367387</td></tr><tr><td>2040</td><td>2.88360450563204</td></tr><tr><td>27255</td><td>3.592857142857143</td></tr><tr><td>7225</td><td>3.453525641025641</td></tr><tr><td>102993</td><td>3.7426829268292683</td></tr><tr><td>1677</td><td>2.642857142857143</td></tr><tr><td>71575</td><td>3.234042553191489</td></tr><tr><td>964</td><td>3.410557184750733</td></tr><tr><td>2250</td><td>3.224747474747475</td></tr><tr><td>2214</td><td>2.9577464788732395</td></tr><tr><td>63676</td><td>3.8363636363636364</td></tr><tr><td>3764</td><td>2.6955420466058766</td></tr><tr><td>27563</td><td>3.4897540983606556</td></tr><tr><td>57910</td><td>2.949044585987261</td></tr><tr><td>72485</td><td>3.5638297872340425</td></tr><tr><td>96829</td><td>4.054936305732484</td></tr><tr><td>25826</td><td>3.816860465116279</td></tr><tr><td>69720</td><td>1.75</td></tr><tr><td>92206</td><td>2.1707317073170733</td></tr><tr><td>77540</td><td>3.010362694300518</td></tr><tr><td>91261</td><td>3.607142857142857</td></tr><tr><td>4894</td><td>2.6762295081967213</td></tr><tr><td>91628</td><td>2.7222222222222223</td></tr><tr><td>1697</td><td>2.340909090909091</td></tr><tr><td>60408</td><td>3.75</td></tr><tr><td>33760</td><td>3.409090909090909</td></tr><tr><td>91056</td><td>3.0</td></tr><tr><td>26486</td><td>3.5625</td></tr><tr><td>88133</td><td>3.0</td></tr><tr><td>87992</td><td>3.5833333333333335</td></tr><tr><td>69299</td><td>3.6666666666666665</td></tr><tr><td>95149</td><td>3.309090909090909</td></tr><tr><td>74512</td><td>3.4642857142857144</td></tr><tr><td>8484</td><td>3.795698924731183</td></tr><tr><td>32954</td><td>3.566666666666667</td></tr><tr><td>97699</td><td>3.111111111111111</td></tr><tr><td>96923</td><td>0.6666666666666666</td></tr><tr><td>7279</td><td>3.0833333333333335</td></tr><tr><td>92490</td><td>2.8125</td></tr><tr><td>92357</td><td>3.4166666666666665</td></tr><tr><td>79035</td><td>3.7222222222222223</td></tr><tr><td>86791</td><td>2.75</td></tr><tr><td>104854</td><td>3.6666666666666665</td></tr><tr><td>101756</td><td>2.8</td></tr><tr><td>89881</td><td>2.5</td></tr><tr><td>70593</td><td>3.0</td></tr><tr><td>74706</td><td>3.5714285714285716</td></tr><tr><td>77947</td><td>2.8</td></tr><tr><td>112603</td><td>3.5</td></tr><tr><td>121025</td><td>3.0</td></tr><tr><td>40436</td><td>3.2</td></tr><tr><td>78606</td><td>3.0</td></tr><tr><td>118300</td><td>2.3333333333333335</td></tr><tr><td>97216</td><td>2.0625</td></tr><tr><td>82097</td><td>3.75</td></tr><tr><td>101583</td><td>2.5</td></tr><tr><td>27469</td><td>3.433333333333333</td></tr><tr><td>86941</td><td>2.6</td></tr><tr><td>71936</td><td>3.3181818181818183</td></tr><tr><td>116185</td><td>2.5</td></tr><tr><td>69708</td><td>4.166666666666667</td></tr><tr><td>49754</td><td>3.4166666666666665</td></tr><tr><td>54536</td><td>2.3333333333333335</td></tr><tr><td>104498</td><td>3.75</td></tr><tr><td>55671</td><td>3.6363636363636362</td></tr><tr><td>103478</td><td>3.8333333333333335</td></tr><tr><td>27919</td><td>3.0</td></tr><tr><td>79106</td><td>2.0</td></tr><tr><td>84120</td><td>3.727272727272727</td></tr><tr><td>58509</td><td>3.3333333333333335</td></tr><tr><td>93816</td><td>2.7</td></tr><tr><td>122127</td><td>1.0</td></tr><tr><td>126150</td><td>2.0</td></tr><tr><td>54349</td><td>3.0</td></tr><tr><td>88228</td><td>1.75</td></tr><tr><td>118528</td><td>2.0</td></tr><tr><td>86453</td><td>3.4</td></tr><tr><td>81085</td><td>4.25</td></tr><tr><td>88576</td><td>4.0</td></tr><tr><td>96734</td><td>4.0</td></tr><tr><td>99489</td><td>4.5</td></tr><tr><td>118448</td><td>2.5</td></tr><tr><td>129421</td><td>4.5</td></tr><tr><td>111343</td><td>4.0</td></tr><tr><td>89365</td><td>2.5</td></tr><tr><td>117180</td><td>3.5</td></tr><tr><td>99893</td><td>3.5</td></tr><tr><td>115909</td><td>3.0</td></tr><tr><td>126753</td><td>2.5</td></tr><tr><td>125381</td><td>3.0</td></tr><tr><td>48899</td><td>4.0</td></tr><tr><td>102852</td><td>3.6666666666666665</td></tr><tr><td>89041</td><td>0.5</td></tr><tr><td>131150</td><td>4.0</td></tr><tr><td>59861</td><td>2.75</td></tr><tr><td>541</td><td>4.133705693507174</td></tr><tr><td>1258</td><td>4.011533532678342</td></tr><tr><td>2173</td><td>3.5286259541984735</td></tr><tr><td>6834</td><td>2.6847826086956523</td></tr><tr><td>3199</td><td>3.3697916666666665</td></tr><tr><td>65</td><td>2.3942228618421053</td></tr><tr><td>56757</td><td>3.5851663846587702</td></tr><tr><td>60037</td><td>2.4917491749174916</td></tr><tr><td>1010</td><td>3.074443141852286</td></tr><tr><td>6424</td><td>2.786842105263158</td></tr><tr><td>44204</td><td>3.7420091324200913</td></tr><tr><td>1277</td><td>3.801171017321298</td></tr><tr><td>5418</td><td>3.9010502214922105</td></tr><tr><td>191</td><td>2.676081730769231</td></tr><tr><td>69784</td><td>2.904388714733542</td></tr><tr><td>1840</td><td>3.3568726355611602</td></tr><tr><td>1224</td><td>4.120811855670103</td></tr><tr><td>2941</td><td>3.5336940482046235</td></tr><tr><td>2812</td><td>3.0064102564102564</td></tr><tr><td>4371</td><td>2.861801242236025</td></tr><tr><td>2906</td><td>2.4105839416058394</td></tr><tr><td>558</td><td>2.7626050420168067</td></tr><tr><td>63479</td><td>3.246</td></tr><tr><td>64032</td><td>2.911111111111111</td></tr><tr><td>3015</td><td>3.322987390882638</td></tr><tr><td>3806</td><td>3.088235294117647</td></tr><tr><td>4126</td><td>3.0249584026622296</td></tr><tr><td>3061</td><td>3.8408816425120773</td></tr><tr><td>418</td><td>2.705839416058394</td></tr><tr><td>60609</td><td>3.606060606060606</td></tr><tr><td>3106</td><td>3.2551020408163267</td></tr><tr><td>27850</td><td>3.5966494845360826</td></tr><tr><td>3391</td><td>2.198377581120944</td></tr><tr><td>5241</td><td>3.453405017921147</td></tr><tr><td>3800</td><td>2.7906976744186047</td></tr><tr><td>31545</td><td>3.9952380952380953</td></tr><tr><td>3280</td><td>2.652173913043478</td></tr><tr><td>6401</td><td>3.3098159509202456</td></tr><tr><td>25999</td><td>3.541860465116279</td></tr><tr><td>95201</td><td>3.324803149606299</td></tr><tr><td>96121</td><td>3.25</td></tr><tr><td>53569</td><td>2.945945945945946</td></tr><tr><td>7358</td><td>3.033333333333333</td></tr><tr><td>5759</td><td>3.4375</td></tr><tr><td>1360</td><td>3.2169811320754715</td></tr><tr><td>6892</td><td>2.779503105590062</td></tr><tr><td>7130</td><td>3.4709302325581395</td></tr><tr><td>33090</td><td>3.6</td></tr><tr><td>48229</td><td>3.411764705882353</td></tr><tr><td>70611</td><td>3.75</td></tr><tr><td>63181</td><td>3.0390625</td></tr><tr><td>95539</td><td>2.5625</td></tr><tr><td>27276</td><td>3.9</td></tr><tr><td>88977</td><td>3.566666666666667</td></tr><tr><td>71285</td><td>3.2045454545454546</td></tr><tr><td>55329</td><td>2.4642857142857144</td></tr><tr><td>78655</td><td>2.8555555555555556</td></tr><tr><td>81704</td><td>3.4473684210526314</td></tr><tr><td>86725</td><td>2.4583333333333335</td></tr><tr><td>32659</td><td>3.111111111111111</td></tr><tr><td>79578</td><td>3.9444444444444446</td></tr><tr><td>25946</td><td>3.262295081967213</td></tr><tr><td>96868</td><td>3.875</td></tr><tr><td>2895</td><td>2.7777777777777777</td></tr><tr><td>8092</td><td>2.8098591549295775</td></tr><tr><td>3009</td><td>2.58</td></tr><tr><td>76085</td><td>3.0416666666666665</td></tr><tr><td>86153</td><td>2.857142857142857</td></tr><tr><td>107309</td><td>3.25</td></tr><tr><td>26140</td><td>2.8333333333333335</td></tr><tr><td>83034</td><td>3.6363636363636362</td></tr><tr><td>108522</td><td>3.5</td></tr><tr><td>92348</td><td>3.125</td></tr><tr><td>79884</td><td>3.2777777777777777</td></tr><tr><td>87769</td><td>2.5</td></tr><tr><td>107338</td><td>2.5</td></tr><tr><td>70175</td><td>2.6052631578947367</td></tr><tr><td>85108</td><td>3.5</td></tr><tr><td>72910</td><td>3.0</td></tr><tr><td>107196</td><td>3.56</td></tr><tr><td>79711</td><td>3.0</td></tr><tr><td>81443</td><td>3.6875</td></tr><tr><td>82051</td><td>3.25</td></tr><tr><td>91241</td><td>3.5</td></tr><tr><td>116219</td><td>3.5</td></tr><tr><td>39786</td><td>3.3333333333333335</td></tr><tr><td>73256</td><td>3.0</td></tr><tr><td>65840</td><td>3.25</td></tr><tr><td>81102</td><td>3.3333333333333335</td></tr><tr><td>83051</td><td>2.75</td></tr><tr><td>71386</td><td>3.0</td></tr><tr><td>108143</td><td>2.9285714285714284</td></tr><tr><td>82274</td><td>3.0</td></tr><tr><td>64953</td><td>3.35</td></tr><tr><td>88979</td><td>3.125</td></tr><tr><td>31598</td><td>2.8333333333333335</td></tr><tr><td>46457</td><td>3.125</td></tr><tr><td>108947</td><td>3.25</td></tr><tr><td>87238</td><td>2.2857142857142856</td></tr><tr><td>113798</td><td>2.6666666666666665</td></tr><tr><td>118302</td><td>3.75</td></tr><tr><td>98927</td><td>2.875</td></tr><tr><td>54239</td><td>3.7142857142857144</td></tr><tr><td>91564</td><td>3.25</td></tr><tr><td>84508</td><td>3.75</td></tr><tr><td>98304</td><td>2.75</td></tr><tr><td>131160</td><td>4.0</td></tr><tr><td>107692</td><td>3.0</td></tr><tr><td>108151</td><td>3.375</td></tr><tr><td>92085</td><td>2.6666666666666665</td></tr><tr><td>5934</td><td>3.1666666666666665</td></tr><tr><td>77896</td><td>2.5</td></tr><tr><td>97685</td><td>2.8333333333333335</td></tr><tr><td>112844</td><td>3.0</td></tr><tr><td>105999</td><td>3.5</td></tr><tr><td>68314</td><td>4.5</td></tr><tr><td>58661</td><td>1.5</td></tr><tr><td>95052</td><td>4.0</td></tr><tr><td>115895</td><td>3.5</td></tr><tr><td>87186</td><td>4.25</td></tr><tr><td>127134</td><td>2.5</td></tr><tr><td>26389</td><td>3.0</td></tr><tr><td>107591</td><td>3.75</td></tr><tr><td>110070</td><td>2.5</td></tr><tr><td>127313</td><td>3.0</td></tr><tr><td>120272</td><td>4.0</td></tr><tr><td>96060</td><td>1.0</td></tr><tr><td>100534</td><td>3.5</td></tr><tr><td>55282</td><td>3.0655270655270654</td></tr><tr><td>95873</td><td>3.652857142857143</td></tr><tr><td>102445</td><td>3.8143074581430745</td></tr><tr><td>222</td><td>3.5371983914209117</td></tr><tr><td>293</td><td>4.050573554487676</td></tr><tr><td>1127</td><td>3.6580991546721497</td></tr><tr><td>1371</td><td>3.081574093051855</td></tr><tr><td>1409</td><td>3.0601033677892633</td></tr><tr><td>2581</td><td>3.0569987563907697</td></tr><tr><td>2989</td><td>3.4458177278401996</td></tr><tr><td>3327</td><td>3.5653061224489795</td></tr><tr><td>3704</td><td>3.1009933774834435</td></tr><tr><td>6156</td><td>3.1138227254978523</td></tr><tr><td>8636</td><td>3.551107433808554</td></tr><tr><td>44788</td><td>3.7494493392070485</td></tr><tr><td>54775</td><td>2.9790502793296088</td></tr><tr><td>55566</td><td>2.77027027027027</td></tr><tr><td>5617</td><td>3.7636321085888134</td></tr><tr><td>938</td><td>3.6116589327146174</td></tr><tr><td>2570</td><td>3.6444300518134716</td></tr><tr><td>3741</td><td>4.044859813084112</td></tr><tr><td>2517</td><td>3.0279048490393414</td></tr><tr><td>3845</td><td>3.2142857142857144</td></tr><tr><td>3155</td><td>3.39465177784308</td></tr><tr><td>2184</td><td>3.6528460997891776</td></tr><tr><td>6856</td><td>3.7064777327935223</td></tr><tr><td>49280</td><td>3.405829596412556</td></tr><tr><td>3937</td><td>2.945439739413681</td></tr><tr><td>270</td><td>3.173764258555133</td></tr><tr><td>2994</td><td>3.1973684210526314</td></tr><tr><td>43684</td><td>3.415204678362573</td></tr><tr><td>7121</td><td>3.890170511534604</td></tr><tr><td>1551</td><td>2.567524115755627</td></tr><tr><td>42723</td><td>2.743829219479653</td></tr><tr><td>99917</td><td>3.627314814814815</td></tr><tr><td>8330</td><td>3.7483660130718954</td></tr><tr><td>95182</td><td>2.78125</td></tr><tr><td>107069</td><td>3.5734375</td></tr><tr><td>34648</td><td>2.960526315789474</td></tr><tr><td>6489</td><td>2.6666666666666665</td></tr><tr><td>66354</td><td>2.8384615384615386</td></tr><tr><td>83506</td><td>3.567415730337079</td></tr><tr><td>8872</td><td>2.8306451612903225</td></tr><tr><td>100083</td><td>2.226923076923077</td></tr><tr><td>110328</td><td>3.5</td></tr><tr><td>1642</td><td>3.0685425685425685</td></tr><tr><td>6860</td><td>2.7976190476190474</td></tr><tr><td>82095</td><td>2.2556270096463025</td></tr><tr><td>74382</td><td>3.0</td></tr><tr><td>90474</td><td>3.617021276595745</td></tr><tr><td>106344</td><td>2.5555555555555554</td></tr><tr><td>2909</td><td>1.8571428571428572</td></tr><tr><td>7583</td><td>3.484848484848485</td></tr><tr><td>7847</td><td>3.2401960784313726</td></tr><tr><td>730</td><td>3.057142857142857</td></tr><tr><td>1145</td><td>3.473684210526316</td></tr><tr><td>73678</td><td>2.8</td></tr><tr><td>5079</td><td>3.4402985074626864</td></tr><tr><td>25966</td><td>3.6666666666666665</td></tr><tr><td>79927</td><td>3.1470588235294117</td></tr><tr><td>62474</td><td>2.8333333333333335</td></tr><tr><td>69652</td><td>2.25</td></tr><tr><td>66015</td><td>3.0</td></tr><tr><td>103626</td><td>3.0</td></tr><tr><td>63793</td><td>3.0526315789473686</td></tr><tr><td>85360</td><td>2.769230769230769</td></tr><tr><td>113640</td><td>3.3333333333333335</td></tr><tr><td>104041</td><td>1.5</td></tr><tr><td>72159</td><td>3.857142857142857</td></tr><tr><td>110826</td><td>2.7857142857142856</td></tr><tr><td>59838</td><td>2.9615384615384617</td></tr><tr><td>99795</td><td>3.588235294117647</td></tr><tr><td>25759</td><td>3.577777777777778</td></tr><tr><td>53837</td><td>3.4615384615384617</td></tr><tr><td>97526</td><td>3.25</td></tr><tr><td>98171</td><td>3.5</td></tr><tr><td>4551</td><td>1.829268292682927</td></tr><tr><td>5148</td><td>3.107142857142857</td></tr><tr><td>101218</td><td>3.227272727272727</td></tr><tr><td>72628</td><td>2.8333333333333335</td></tr><tr><td>120478</td><td>4.125</td></tr><tr><td>120811</td><td>3.111111111111111</td></tr><tr><td>45134</td><td>2.8333333333333335</td></tr><tr><td>79228</td><td>3.3636363636363638</td></tr><tr><td>130692</td><td>2.5</td></tr><tr><td>49735</td><td>2.875</td></tr><tr><td>97697</td><td>3.0</td></tr><tr><td>103343</td><td>1.5</td></tr><tr><td>77156</td><td>3.4375</td></tr><tr><td>77941</td><td>2.25</td></tr><tr><td>119305</td><td>2.5</td></tr><tr><td>106462</td><td>4.166666666666667</td></tr><tr><td>6675</td><td>2.8125</td></tr><tr><td>33342</td><td>3.6363636363636362</td></tr><tr><td>105364</td><td>3.9285714285714284</td></tr><tr><td>54251</td><td>2.7142857142857144</td></tr><tr><td>112767</td><td>2.75</td></tr><tr><td>78465</td><td>3.7</td></tr><tr><td>97886</td><td>3.6666666666666665</td></tr><tr><td>114457</td><td>3.75</td></tr><tr><td>58250</td><td>2.5</td></tr><tr><td>106351</td><td>2.8333333333333335</td></tr><tr><td>83956</td><td>2.0</td></tr><tr><td>84183</td><td>3.0</td></tr><tr><td>106074</td><td>3.75</td></tr><tr><td>125571</td><td>3.0</td></tr><tr><td>64959</td><td>3.8333333333333335</td></tr><tr><td>91782</td><td>2.75</td></tr><tr><td>82129</td><td>2.9</td></tr><tr><td>119954</td><td>1.5</td></tr><tr><td>110281</td><td>2.25</td></tr><tr><td>120928</td><td>3.5</td></tr><tr><td>78059</td><td>2.0</td></tr><tr><td>112425</td><td>2.8333333333333335</td></tr><tr><td>106996</td><td>3.0</td></tr><tr><td>49338</td><td>2.0</td></tr><tr><td>81314</td><td>1.5</td></tr><tr><td>104307</td><td>4.0</td></tr><tr><td>118274</td><td>1.5</td></tr><tr><td>106059</td><td>3.6666666666666665</td></tr><tr><td>83281</td><td>3.5</td></tr><tr><td>88335</td><td>1.5</td></tr><tr><td>95746</td><td>3.5</td></tr><tr><td>101483</td><td>3.5</td></tr><tr><td>117706</td><td>3.0</td></tr><tr><td>119220</td><td>3.0</td></tr><tr><td>97899</td><td>2.0</td></tr><tr><td>131072</td><td>2.5</td></tr><tr><td>110284</td><td>4.5</td></tr><tr><td>106618</td><td>3.5</td></tr><tr><td>80014</td><td>3.75</td></tr><tr><td>102980</td><td>3.5</td></tr><tr><td>114431</td><td>3.0</td></tr><tr><td>116104</td><td>3.0</td></tr><tr><td>367</td><td>3.1747178920428105</td></tr><tr><td>2944</td><td>3.851750700280112</td></tr><tr><td>442</td><td>3.0436171956082374</td></tr><tr><td>2371</td><td>3.4508574150523974</td></tr><tr><td>2797</td><td>3.6222188044704193</td></tr><tr><td>720</td><td>4.109472524782769</td></tr><tr><td>2598</td><td>3.008695652173913</td></tr><tr><td>4509</td><td>3.2509225092250924</td></tr><tr><td>4519</td><td>3.2463842975206614</td></tr><tr><td>1690</td><td>3.008598609586535</td></tr><tr><td>6287</td><td>2.954534520086601</td></tr><tr><td>56801</td><td>2.4057268722466962</td></tr><tr><td>66171</td><td>3.177668539325843</td></tr><tr><td>3452</td><td>2.9917017587317316</td></tr><tr><td>61160</td><td>3.013641755634638</td></tr><tr><td>49651</td><td>3.304907481898632</td></tr><tr><td>705</td><td>3.5081395348837208</td></tr><tr><td>1175</td><td>3.9844170562402605</td></tr><tr><td>2520</td><td>3.040639573617588</td></tr><tr><td>86833</td><td>3.5277185501066097</td></tr><tr><td>3034</td><td>3.6796685082872926</td></tr><tr><td>278</td><td>3.0216076058772687</td></tr><tr><td>1936</td><td>3.7592339261285908</td></tr><tr><td>5572</td><td>3.1670886075949367</td></tr><tr><td>65585</td><td>2.867424242424242</td></tr><tr><td>1463</td><td>3.09180790960452</td></tr><tr><td>3120</td><td>2.948331539289559</td></tr><tr><td>4191</td><td>3.5964187327823693</td></tr><tr><td>6230</td><td>3.7063492063492065</td></tr><tr><td>243</td><td>2.530751708428246</td></tr><tr><td>26838</td><td>3.641826923076923</td></tr><tr><td>6885</td><td>2.609207708779443</td></tr><tr><td>6879</td><td>3.6066439522998297</td></tr><tr><td>84637</td><td>2.8440366972477062</td></tr><tr><td>81359</td><td>3.5</td></tr><tr><td>1919</td><td>3.1273041474654377</td></tr><tr><td>8791</td><td>2.65</td></tr><tr><td>70208</td><td>3.165289256198347</td></tr><tr><td>83910</td><td>2.6953642384105962</td></tr><tr><td>111113</td><td>3.092767295597484</td></tr><tr><td>3847</td><td>2.7181818181818183</td></tr><tr><td>59731</td><td>3.7370572207084467</td></tr><tr><td>1202</td><td>3.8379010695187166</td></tr><tr><td>7303</td><td>3.697574893009986</td></tr><tr><td>7626</td><td>2.7559055118110236</td></tr><tr><td>76030</td><td>3.068452380952381</td></tr><tr><td>92938</td><td>2.1785714285714284</td></tr><tr><td>67534</td><td>2.8026315789473686</td></tr><tr><td>75440</td><td>3.0422535211267605</td></tr><tr><td>72367</td><td>3.53125</td></tr><tr><td>6905</td><td>2.697674418604651</td></tr><tr><td>110828</td><td>2.361111111111111</td></tr><tr><td>72131</td><td>3.3654708520179373</td></tr><tr><td>85025</td><td>3.0789473684210527</td></tr><tr><td>99530</td><td>3.6323529411764706</td></tr><tr><td>6129</td><td>2.4285714285714284</td></tr><tr><td>3866</td><td>2.706896551724138</td></tr><tr><td>8955</td><td>3.4238578680203045</td></tr><tr><td>6806</td><td>3.361607142857143</td></tr><tr><td>70898</td><td>2.614864864864865</td></tr><tr><td>104119</td><td>4.166666666666667</td></tr><tr><td>7146</td><td>3.264705882352941</td></tr><tr><td>6911</td><td>3.36046511627907</td></tr><tr><td>8611</td><td>3.477272727272727</td></tr><tr><td>26602</td><td>3.4310344827586206</td></tr><tr><td>26797</td><td>3.8297872340425534</td></tr><tr><td>4072</td><td>3.3857142857142857</td></tr><tr><td>93764</td><td>2.7666666666666666</td></tr><tr><td>33380</td><td>2.7222222222222223</td></tr><tr><td>1532</td><td>2.411290322580645</td></tr><tr><td>117192</td><td>3.9166666666666665</td></tr><tr><td>5850</td><td>3.25</td></tr><tr><td>83529</td><td>3.4</td></tr><tr><td>8887</td><td>2.810344827586207</td></tr><tr><td>2030</td><td>2.789473684210526</td></tr><tr><td>75392</td><td>2.85</td></tr><tr><td>76753</td><td>3.0483870967741935</td></tr><tr><td>32415</td><td>3.4</td></tr><tr><td>60546</td><td>3.576923076923077</td></tr><tr><td>61467</td><td>3.125</td></tr><tr><td>32294</td><td>2.7222222222222223</td></tr><tr><td>60356</td><td>3.5</td></tr><tr><td>38376</td><td>3.8333333333333335</td></tr><tr><td>111347</td><td>3.0</td></tr><tr><td>58649</td><td>3.6944444444444446</td></tr><tr><td>93700</td><td>3.588235294117647</td></tr><tr><td>106094</td><td>1.875</td></tr><tr><td>39524</td><td>3.375</td></tr><tr><td>99861</td><td>3.210526315789474</td></tr><tr><td>27911</td><td>3.6875</td></tr><tr><td>121099</td><td>2.9285714285714284</td></tr><tr><td>61451</td><td>3.769230769230769</td></tr><tr><td>102535</td><td>3.25</td></tr><tr><td>89351</td><td>3.9</td></tr><tr><td>100052</td><td>2.3333333333333335</td></tr><tr><td>94144</td><td>2.75</td></tr><tr><td>112001</td><td>2.5</td></tr><tr><td>76153</td><td>3.9166666666666665</td></tr><tr><td>103175</td><td>4.0</td></tr><tr><td>96383</td><td>3.125</td></tr><tr><td>65638</td><td>3.5</td></tr><tr><td>33743</td><td>2.96875</td></tr><tr><td>108873</td><td>4.25</td></tr><tr><td>108239</td><td>2.0</td></tr><tr><td>112850</td><td>3.3461538461538463</td></tr><tr><td>97948</td><td>2.75</td></tr><tr><td>115703</td><td>3.2857142857142856</td></tr><tr><td>52078</td><td>4.0</td></tr><tr><td>77983</td><td>3.269230769230769</td></tr><tr><td>108512</td><td>3.3333333333333335</td></tr><tr><td>54445</td><td>3.0</td></tr><tr><td>64099</td><td>2.5</td></tr><tr><td>87033</td><td>3.5</td></tr><tr><td>95784</td><td>3.2</td></tr><tr><td>103557</td><td>3.5</td></tr><tr><td>41812</td><td>3.0714285714285716</td></tr><tr><td>119804</td><td>3.0</td></tr><tr><td>91610</td><td>3.1666666666666665</td></tr><tr><td>107617</td><td>3.5</td></tr><tr><td>69039</td><td>3.1666666666666665</td></tr><tr><td>87917</td><td>2.5714285714285716</td></tr><tr><td>109381</td><td>0.5</td></tr><tr><td>75992</td><td>2.9166666666666665</td></tr><tr><td>80570</td><td>3.25</td></tr><tr><td>103536</td><td>3.75</td></tr><tr><td>104249</td><td>2.8333333333333335</td></tr><tr><td>110219</td><td>2.75</td></tr><tr><td>96954</td><td>2.75</td></tr><tr><td>121436</td><td>1.0</td></tr><tr><td>130672</td><td>0.5</td></tr><tr><td>117561</td><td>3.5</td></tr><tr><td>120629</td><td>1.75</td></tr><tr><td>105296</td><td>3.5</td></tr><tr><td>92174</td><td>3.5</td></tr><tr><td>126146</td><td>1.5</td></tr><tr><td>112944</td><td>3.5</td></tr><tr><td>126588</td><td>1.5</td></tr><tr><td>73200</td><td>1.5</td></tr><tr><td>128987</td><td>4.5</td></tr><tr><td>97845</td><td>4.0</td></tr><tr><td>100077</td><td>2.5</td></tr><tr><td>296</td><td>4.174231169217055</td></tr><tr><td>19</td><td>2.6074123603018435</td></tr><tr><td>926</td><td>4.2041027766266055</td></tr><tr><td>965</td><td>4.003311258278146</td></tr><tr><td>2857</td><td>3.5870850386539335</td></tr><tr><td>3081</td><td>3.5441042394772833</td></tr><tr><td>4848</td><td>3.818523691844848</td></tr><tr><td>6264</td><td>2.606801909307876</td></tr><tr><td>6297</td><td>3.546091758708581</td></tr><tr><td>7827</td><td>3.600360576923077</td></tr><tr><td>8360</td><td>3.5879222741005217</td></tr><tr><td>25930</td><td>3.7740384615384617</td></tr><tr><td>27685</td><td>2.0867768595041323</td></tr><tr><td>53002</td><td>3.0126262626262625</td></tr><tr><td>4174</td><td>3.6865464632454925</td></tr><tr><td>1280</td><td>4.144328312327083</td></tr><tr><td>55052</td><td>3.740987124463519</td></tr><tr><td>1217</td><td>4.173611111111111</td></tr><tr><td>1951</td><td>3.6481140754369825</td></tr><tr><td>3069</td><td>3.6554621848739495</td></tr><tr><td>2551</td><td>3.500840336134454</td></tr><tr><td>4256</td><td>3.0755102040816324</td></tr><tr><td>77177</td><td>3.787878787878788</td></tr><tr><td>1537</td><td>3.954205366357069</td></tr><tr><td>54</td><td>2.8546025104602513</td></tr><tr><td>86781</td><td>4.006756756756757</td></tr><tr><td>6162</td><td>3.0948905109489053</td></tr><tr><td>4082</td><td>3.4177631578947367</td></tr><tr><td>3051</td><td>3.02418682235196</td></tr><tr><td>1447</td><td>3.2771285475792986</td></tr><tr><td>48598</td><td>3.5352941176470587</td></tr><tr><td>6183</td><td>3.7175810473815463</td></tr><tr><td>32116</td><td>2.4789473684210526</td></tr><tr><td>8133</td><td>3.632911392405063</td></tr><tr><td>76077</td><td>3.1656952539550374</td></tr><tr><td>82167</td><td>3.371024734982332</td></tr><tr><td>84137</td><td>3.3043478260869565</td></tr><tr><td>26080</td><td>1.86</td></tr><tr><td>91488</td><td>3.7756410256410255</td></tr><tr><td>47725</td><td>3.5</td></tr><tr><td>62235</td><td>3.4963235294117645</td></tr><tr><td>47446</td><td>3.40625</td></tr><tr><td>4552</td><td>3.4457202505219207</td></tr><tr><td>4929</td><td>2.723796033994334</td></tr><tr><td>1782</td><td>2.9305555555555554</td></tr><tr><td>97673</td><td>3.9026548672566372</td></tr><tr><td>26231</td><td>3.746212121212121</td></tr><tr><td>74827</td><td>3.5833333333333335</td></tr><tr><td>6319</td><td>2.797153024911032</td></tr><tr><td>7077</td><td>3.641304347826087</td></tr><tr><td>32830</td><td>3.125</td></tr><tr><td>95939</td><td>3.7095238095238097</td></tr><tr><td>108156</td><td>2.9537037037037037</td></tr><tr><td>6508</td><td>3.4097744360902253</td></tr><tr><td>1671</td><td>3.124505928853755</td></tr><tr><td>6578</td><td>3.336206896551724</td></tr><tr><td>63481</td><td>2.9782608695652173</td></tr><tr><td>65731</td><td>2.8363636363636364</td></tr><tr><td>71573</td><td>2.63</td></tr><tr><td>5936</td><td>3.597972972972973</td></tr><tr><td>26183</td><td>3.6025641025641026</td></tr><tr><td>82150</td><td>3.716666666666667</td></tr><tr><td>6407</td><td>3.4027777777777777</td></tr><tr><td>8057</td><td>3.4925373134328357</td></tr><tr><td>103474</td><td>3.6956521739130435</td></tr><tr><td>66801</td><td>3.257575757575758</td></tr><tr><td>110562</td><td>4.0</td></tr><tr><td>88349</td><td>3.236842105263158</td></tr><tr><td>114033</td><td>2.914285714285714</td></tr><tr><td>6700</td><td>3.121212121212121</td></tr><tr><td>58743</td><td>2.9761904761904763</td></tr><tr><td>33321</td><td>3.025</td></tr><tr><td>80324</td><td>2.7857142857142856</td></tr><tr><td>105477</td><td>2.5833333333333335</td></tr><tr><td>87173</td><td>2.0</td></tr><tr><td>69201</td><td>2.8</td></tr><tr><td>114704</td><td>2.5652173913043477</td></tr><tr><td>106236</td><td>3.3846153846153846</td></tr><tr><td>27171</td><td>3.25</td></tr><tr><td>26719</td><td>2.769230769230769</td></tr><tr><td>101850</td><td>4.285714285714286</td></tr><tr><td>53600</td><td>3.3</td></tr><tr><td>82009</td><td>2.3125</td></tr><tr><td>35640</td><td>3.0</td></tr><tr><td>54318</td><td>3.5</td></tr><tr><td>63836</td><td>3.0</td></tr><tr><td>82306</td><td>3.8</td></tr><tr><td>83662</td><td>2.8333333333333335</td></tr><tr><td>87884</td><td>3.3333333333333335</td></tr><tr><td>105825</td><td>3.7</td></tr><tr><td>117847</td><td>1.75</td></tr><tr><td>127062</td><td>4.666666666666667</td></tr><tr><td>98445</td><td>3.8</td></tr><tr><td>118888</td><td>3.789473684210526</td></tr><tr><td>72310</td><td>2.409090909090909</td></tr><tr><td>89164</td><td>3.0</td></tr><tr><td>70591</td><td>2.0</td></tr><tr><td>87909</td><td>2.75</td></tr><tr><td>70318</td><td>2.5</td></tr><tr><td>101920</td><td>2.0</td></tr><tr><td>55406</td><td>2.5</td></tr><tr><td>116030</td><td>3.5</td></tr><tr><td>27131</td><td>3.25</td></tr><tr><td>81447</td><td>3.1666666666666665</td></tr><tr><td>82836</td><td>3.9285714285714284</td></tr><tr><td>87047</td><td>3.25</td></tr><tr><td>7233</td><td>1.625</td></tr><tr><td>88726</td><td>3.25</td></tr><tr><td>116401</td><td>2.5</td></tr><tr><td>83923</td><td>3.1666666666666665</td></tr><tr><td>127066</td><td>3.5</td></tr><tr><td>96897</td><td>3.625</td></tr><tr><td>6693</td><td>3.25</td></tr><tr><td>6189</td><td>1.0</td></tr><tr><td>127128</td><td>3.0</td></tr><tr><td>91044</td><td>3.2</td></tr><tr><td>80247</td><td>3.5</td></tr><tr><td>107115</td><td>0.5</td></tr><tr><td>55209</td><td>2.6818181818181817</td></tr><tr><td>27189</td><td>3.375</td></tr><tr><td>107207</td><td>2.5</td></tr><tr><td>126245</td><td>3.75</td></tr><tr><td>87771</td><td>2.1666666666666665</td></tr><tr><td>107202</td><td>4.5</td></tr><tr><td>78921</td><td>3.5</td></tr><tr><td>48093</td><td>3.7</td></tr><tr><td>119426</td><td>3.0</td></tr><tr><td>87092</td><td>3.0</td></tr><tr><td>107855</td><td>4.5</td></tr><tr><td>94949</td><td>5.0</td></tr><tr><td>108342</td><td>4.0</td></tr><tr><td>105353</td><td>4.0</td></tr><tr><td>114904</td><td>4.0</td></tr><tr><td>108597</td><td>3.5</td></tr><tr><td>114282</td><td>2.0</td></tr><tr><td>109355</td><td>0.5</td></tr><tr><td>114138</td><td>3.5</td></tr><tr><td>128910</td><td>4.0</td></tr><tr><td>81859</td><td>3.0</td></tr><tr><td>2648</td><td>3.859565605474561</td></tr><tr><td>1077</td><td>3.8677951262220924</td></tr><tr><td>348</td><td>3.700734013436178</td></tr><tr><td>277</td><td>3.42335886214442</td></tr><tr><td>30707</td><td>3.8708920187793425</td></tr><tr><td>33585</td><td>2.83273381294964</td></tr><tr><td>1958</td><td>3.638708407166765</td></tr><tr><td>52375</td><td>3.279863481228669</td></tr><tr><td>1594</td><td>3.676920062695925</td></tr><tr><td>3252</td><td>3.740221203129215</td></tr><tr><td>415</td><td>2.8197078023002797</td></tr><tr><td>1336</td><td>2.2955555555555556</td></tr><tr><td>7215</td><td>4.0341928251121075</td></tr><tr><td>8493</td><td>3.566234701223902</td></tr><tr><td>2940</td><td>3.924107142857143</td></tr><tr><td>6664</td><td>3.0853437876960195</td></tr><tr><td>26152</td><td>3.190932311621967</td></tr><tr><td>287</td><td>3.24468085106383</td></tr><tr><td>4117</td><td>3.907625786163522</td></tr><tr><td>5692</td><td>3.4152542372881354</td></tr><tr><td>5799</td><td>3.672872340425532</td></tr><tr><td>5339</td><td>3.8082329317269075</td></tr><tr><td>82852</td><td>2.6986486486486485</td></tr><tr><td>87234</td><td>3.7416481069042318</td></tr><tr><td>6760</td><td>3.710227272727273</td></tr><tr><td>78349</td><td>3.585280373831776</td></tr><tr><td>104211</td><td>3.4288747346072186</td></tr><tr><td>26782</td><td>3.111111111111111</td></tr><tr><td>5417</td><td>3.8003095975232197</td></tr><tr><td>2157</td><td>3.310924369747899</td></tr><tr><td>847</td><td>2.8464912280701755</td></tr><tr><td>31150</td><td>3.261904761904762</td></tr><tr><td>2486</td><td>2.477272727272727</td></tr><tr><td>6172</td><td>2.359375</td></tr><tr><td>7872</td><td>3.4444444444444446</td></tr><tr><td>9019</td><td>2.0</td></tr><tr><td>98381</td><td>2.0</td></tr><tr><td>99178</td><td>3.3095238095238093</td></tr><tr><td>102819</td><td>3.405511811023622</td></tr><tr><td>82976</td><td>3.6363636363636362</td></tr><tr><td>94953</td><td>2.890625</td></tr><tr><td>7202</td><td>2.8333333333333335</td></tr><tr><td>5741</td><td>3.380952380952381</td></tr><tr><td>8881</td><td>3.2222222222222223</td></tr><tr><td>63179</td><td>3.429411764705882</td></tr><tr><td>72947</td><td>3.8947368421052633</td></tr><tr><td>6917</td><td>3.3823529411764706</td></tr><tr><td>89570</td><td>3.5208333333333335</td></tr><tr><td>101848</td><td>4.0</td></tr><tr><td>3640</td><td>3.3072916666666665</td></tr><tr><td>7949</td><td>3.2066666666666666</td></tr><tr><td>26100</td><td>3.55</td></tr><tr><td>97688</td><td>1.6666666666666667</td></tr><tr><td>88911</td><td>3.8452380952380953</td></tr><tr><td>118344</td><td>1.75</td></tr><tr><td>34499</td><td>3.173469387755102</td></tr><tr><td>102856</td><td>3.3333333333333335</td></tr><tr><td>79627</td><td>2.7142857142857144</td></tr><tr><td>4905</td><td>2.9642857142857144</td></tr><tr><td>26144</td><td>3.3205128205128207</td></tr><tr><td>76747</td><td>2.576923076923077</td></tr><tr><td>98908</td><td>2.875</td></tr><tr><td>64427</td><td>3.25</td></tr><tr><td>49979</td><td>2.1923076923076925</td></tr><tr><td>101952</td><td>3.1666666666666665</td></tr><tr><td>120919</td><td>4.333333333333333</td></tr><tr><td>41828</td><td>3.7884615384615383</td></tr><tr><td>39941</td><td>3.176470588235294</td></tr><tr><td>108497</td><td>1.0</td></tr><tr><td>104506</td><td>3.875</td></tr><tr><td>130510</td><td>2.5</td></tr><tr><td>111389</td><td>3.730769230769231</td></tr><tr><td>129935</td><td>3.5</td></tr><tr><td>71007</td><td>2.8333333333333335</td></tr><tr><td>85985</td><td>2.9</td></tr><tr><td>51060</td><td>3.642857142857143</td></tr><tr><td>98560</td><td>3.5</td></tr><tr><td>110643</td><td>2.0</td></tr><tr><td>79551</td><td>4.1</td></tr><tr><td>81898</td><td>3.0714285714285716</td></tr><tr><td>71029</td><td>3.34375</td></tr><tr><td>89349</td><td>3.55</td></tr><tr><td>100157</td><td>3.2777777777777777</td></tr><tr><td>27468</td><td>2.8333333333333335</td></tr><tr><td>70377</td><td>3.3181818181818183</td></tr><tr><td>26274</td><td>3.0</td></tr><tr><td>108775</td><td>2.5</td></tr><tr><td>114725</td><td>4.0</td></tr><tr><td>78376</td><td>3.5</td></tr><tr><td>97240</td><td>3.25</td></tr><tr><td>91582</td><td>3.5</td></tr><tr><td>111653</td><td>2.6666666666666665</td></tr><tr><td>103842</td><td>4.5</td></tr><tr><td>108529</td><td>2.8333333333333335</td></tr><tr><td>109253</td><td>5.0</td></tr><tr><td>114193</td><td>5.0</td></tr><tr><td>111846</td><td>3.0</td></tr><tr><td>32655</td><td>3.25</td></tr><tr><td>87055</td><td>3.375</td></tr><tr><td>108713</td><td>4.0</td></tr><tr><td>117630</td><td>0.5</td></tr><tr><td>101689</td><td>3.5</td></tr><tr><td>101715</td><td>1.1666666666666667</td></tr><tr><td>118816</td><td>1.0</td></tr><tr><td>104633</td><td>3.5</td></tr><tr><td>101726</td><td>2.0</td></tr><tr><td>116048</td><td>4.0</td></tr><tr><td>101468</td><td>2.5</td></tr><tr><td>73480</td><td>2.75</td></tr><tr><td>96028</td><td>1.0</td></tr><tr><td>97732</td><td>3.75</td></tr><tr><td>103253</td><td>3.281779661016949</td></tr><tr><td>1921</td><td>3.744839200347675</td></tr><tr><td>2881</td><td>3.1715896885069816</td></tr><tr><td>3869</td><td>3.1342930812204557</td></tr><tr><td>4161</td><td>3.051240435891491</td></tr><tr><td>8228</td><td>4.058135072908672</td></tr><tr><td>8640</td><td>3.0339928970065957</td></tr><tr><td>8846</td><td>2.8656716417910446</td></tr><tr><td>8977</td><td>2.576790830945559</td></tr><tr><td>51903</td><td>2.80625</td></tr><tr><td>54771</td><td>3.0169172932330826</td></tr><tr><td>6322</td><td>3.468330134357006</td></tr><tr><td>3144</td><td>3.0903614457831323</td></tr><tr><td>3296</td><td>3.7932748538011696</td></tr><tr><td>5888</td><td>3.6456043956043955</td></tr><tr><td>7234</td><td>4.035911602209945</td></tr><tr><td>656</td><td>2.8923205342237064</td></tr><tr><td>2088</td><td>2.562729584628426</td></tr><tr><td>2583</td><td>3.6214761660686827</td></tr><tr><td>502</td><td>2.2840472267984624</td></tr><tr><td>26555</td><td>3.2169421487603307</td></tr><tr><td>3680</td><td>3.760450160771704</td></tr><tr><td>1480</td><td>3.2621030713170223</td></tr><tr><td>3302</td><td>3.4346153846153844</td></tr><tr><td>4872</td><td>3.164804469273743</td></tr><tr><td>74154</td><td>2.8227611940298507</td></tr><tr><td>78836</td><td>3.670028818443804</td></tr><tr><td>5729</td><td>2.0611510791366907</td></tr><tr><td>6225</td><td>3.0821917808219177</td></tr><tr><td>25771</td><td>3.853125</td></tr><tr><td>41014</td><td>3.3877551020408165</td></tr><tr><td>5107</td><td>3.1614100185528757</td></tr><tr><td>86898</td><td>3.2869440459110475</td></tr><tr><td>52867</td><td>2.729299363057325</td></tr><tr><td>66544</td><td>3.5736842105263156</td></tr><tr><td>2900</td><td>2.6833700440528636</td></tr><tr><td>85397</td><td>2.749216300940439</td></tr><tr><td>25834</td><td>3.73943661971831</td></tr><tr><td>73211</td><td>3.579754601226994</td></tr><tr><td>99387</td><td>3.7</td></tr><tr><td>114246</td><td>3.2157894736842105</td></tr><tr><td>4113</td><td>3.5086580086580086</td></tr><tr><td>7637</td><td>3.3046875</td></tr><tr><td>4108</td><td>3.231578947368421</td></tr><tr><td>96634</td><td>3.107142857142857</td></tr><tr><td>2244</td><td>2.0604395604395602</td></tr><tr><td>107769</td><td>2.5303030303030303</td></tr><tr><td>60289</td><td>3.3076923076923075</td></tr><tr><td>5126</td><td>2.28</td></tr><tr><td>3603</td><td>2.2777777777777777</td></tr><tr><td>49079</td><td>2.888888888888889</td></tr><tr><td>99602</td><td>3.3333333333333335</td></tr><tr><td>1055</td><td>2.721212121212121</td></tr><tr><td>4473</td><td>3.2748447204968945</td></tr><tr><td>100106</td><td>3.7596153846153846</td></tr><tr><td>6262</td><td>3.2419354838709675</td></tr><tr><td>7032</td><td>2.8089430894308944</td></tr><tr><td>32076</td><td>2.545918367346939</td></tr><tr><td>115355</td><td>3.25</td></tr><tr><td>96834</td><td>3.2291666666666665</td></tr><tr><td>106889</td><td>3.809090909090909</td></tr><tr><td>80162</td><td>3.0714285714285716</td></tr><tr><td>122228</td><td>2.75</td></tr><tr><td>109742</td><td>3.597826086956522</td></tr><tr><td>6130</td><td>2.6710526315789473</td></tr><tr><td>118496</td><td>3.125</td></tr><tr><td>6555</td><td>3.265625</td></tr><tr><td>69677</td><td>3.4285714285714284</td></tr><tr><td>71851</td><td>2.6666666666666665</td></tr><tr><td>45642</td><td>3.7777777777777777</td></tr><tr><td>85527</td><td>3.0416666666666665</td></tr><tr><td>92165</td><td>3.3333333333333335</td></tr><tr><td>88468</td><td>2.5357142857142856</td></tr><tr><td>89277</td><td>1.75</td></tr><tr><td>84414</td><td>3.5</td></tr><tr><td>27105</td><td>3.3</td></tr><tr><td>34138</td><td>3.5</td></tr><tr><td>26430</td><td>3.0555555555555554</td></tr><tr><td>69792</td><td>2.9411764705882355</td></tr><tr><td>87691</td><td>2.625</td></tr><tr><td>127023</td><td>2.75</td></tr><tr><td>89133</td><td>5.0</td></tr><tr><td>102924</td><td>2.9166666666666665</td></tr><tr><td>125359</td><td>4.0</td></tr><tr><td>3382</td><td>3.4</td></tr><tr><td>88347</td><td>3.6</td></tr><tr><td>83656</td><td>2.5</td></tr><tr><td>118770</td><td>2.5</td></tr><tr><td>73991</td><td>1.75</td></tr><tr><td>113632</td><td>3.8333333333333335</td></tr><tr><td>100017</td><td>3.1</td></tr><tr><td>90564</td><td>2.75</td></tr><tr><td>129370</td><td>2.25</td></tr><tr><td>118288</td><td>2.5</td></tr><tr><td>93336</td><td>2.8333333333333335</td></tr><tr><td>35629</td><td>3.3636363636363638</td></tr><tr><td>83115</td><td>2.8333333333333335</td></tr><tr><td>113430</td><td>4.0</td></tr><tr><td>71736</td><td>3.6</td></tr><tr><td>81061</td><td>3.2777777777777777</td></tr><tr><td>119563</td><td>3.6666666666666665</td></tr><tr><td>115176</td><td>3.0</td></tr><tr><td>82906</td><td>3.375</td></tr><tr><td>44571</td><td>1.7</td></tr><tr><td>119082</td><td>2.0</td></tr><tr><td>36312</td><td>3.125</td></tr><tr><td>46716</td><td>2.9166666666666665</td></tr><tr><td>80400</td><td>3.8125</td></tr><tr><td>92455</td><td>3.5</td></tr><tr><td>61083</td><td>2.8333333333333335</td></tr><tr><td>114003</td><td>3.625</td></tr><tr><td>99667</td><td>0.5</td></tr><tr><td>100756</td><td>3.5</td></tr><tr><td>116720</td><td>3.0</td></tr><tr><td>120311</td><td>4.5</td></tr><tr><td>119051</td><td>2.0</td></tr><tr><td>127642</td><td>2.0</td></tr><tr><td>129274</td><td>2.5</td></tr><tr><td>87633</td><td>3.5</td></tr><tr><td>98958</td><td>2.5</td></tr><tr><td>35008</td><td>3.0</td></tr><tr><td>109229</td><td>2.0</td></tr><tr><td>117710</td><td>3.0</td></tr><tr><td>121141</td><td>3.5</td></tr><tr><td>98325</td><td>3.0</td></tr><tr><td>108097</td><td>3.0</td></tr><tr><td>112995</td><td>3.8333333333333335</td></tr><tr><td>107543</td><td>2.0</td></tr><tr><td>115419</td><td>3.5</td></tr><tr><td>112</td><td>3.412573591253154</td></tr><tr><td>1882</td><td>2.3548080835480807</td></tr><tr><td>736</td><td>3.196249152437897</td></tr><tr><td>1042</td><td>3.4500420319442777</td></tr><tr><td>2403</td><td>3.5385560385560386</td></tr><tr><td>5009</td><td>3.1746119733924614</td></tr><tr><td>34323</td><td>3.27987012987013</td></tr><tr><td>155</td><td>3.4079153605015673</td></tr><tr><td>7139</td><td>3.9185077115464777</td></tr><tr><td>299</td><td>3.728865194211729</td></tr><tr><td>385</td><td>3.5703125</td></tr><tr><td>2400</td><td>2.8232044198895028</td></tr><tr><td>2672</td><td>3.275923566878981</td></tr><tr><td>42009</td><td>2.51056338028169</td></tr><tr><td>106916</td><td>3.670558798999166</td></tr><tr><td>3324</td><td>2.6972301814708692</td></tr><tr><td>1599</td><td>1.6666666666666667</td></tr><tr><td>2878</td><td>2.1510416666666665</td></tr><tr><td>113</td><td>3.1092745638200183</td></tr><tr><td>4131</td><td>2.6221498371335503</td></tr><tr><td>5208</td><td>3.4871794871794872</td></tr><tr><td>2364</td><td>2.6579310344827585</td></tr><tr><td>7207</td><td>2.914141414141414</td></tr><tr><td>31251</td><td>3.1464968152866244</td></tr><tr><td>6252</td><td>2.728860294117647</td></tr><tr><td>5172</td><td>2.685185185185185</td></tr><tr><td>7010</td><td>3.5489510489510487</td></tr><tr><td>76317</td><td>2.8828125</td></tr><tr><td>4300</td><td>3.49468085106383</td></tr><tr><td>93139</td><td>1.6666666666666667</td></tr><tr><td>81641</td><td>3.515151515151515</td></tr><tr><td>42285</td><td>2.2551020408163267</td></tr><tr><td>5915</td><td>3.2419354838709675</td></tr><tr><td>66744</td><td>3.443396226415094</td></tr><tr><td>5918</td><td>2.2818181818181817</td></tr><tr><td>109072</td><td>2.7653061224489797</td></tr><tr><td>116849</td><td>2.0833333333333335</td></tr><tr><td>30892</td><td>3.7215568862275448</td></tr><tr><td>6351</td><td>2.9846153846153847</td></tr><tr><td>58975</td><td>2.765432098765432</td></tr><tr><td>108689</td><td>2.453488372093023</td></tr><tr><td>72630</td><td>3.1346153846153846</td></tr><tr><td>2175</td><td>3.4151785714285716</td></tr><tr><td>831</td><td>3.5316742081447963</td></tr><tr><td>167</td><td>3.1645569620253164</td></tr><tr><td>54328</td><td>3.3214285714285716</td></tr><tr><td>8421</td><td>3.135135135135135</td></tr><tr><td>104312</td><td>2.8473684210526318</td></tr><tr><td>75938</td><td>3.1666666666666665</td></tr><tr><td>78272</td><td>3.4444444444444446</td></tr><tr><td>48957</td><td>3.0681818181818183</td></tr><tr><td>55078</td><td>3.46875</td></tr><tr><td>50151</td><td>2.5</td></tr><tr><td>89945</td><td>3.3541666666666665</td></tr><tr><td>108212</td><td>3.4</td></tr><tr><td>78490</td><td>3.1666666666666665</td></tr><tr><td>5579</td><td>2.65</td></tr><tr><td>32728</td><td>3.3974358974358974</td></tr><tr><td>71560</td><td>3.0</td></tr><tr><td>110566</td><td>3.5166666666666666</td></tr><tr><td>103210</td><td>3.361111111111111</td></tr><tr><td>91972</td><td>2.9545454545454546</td></tr><tr><td>46839</td><td>3.475</td></tr><tr><td>8187</td><td>3.111111111111111</td></tr><tr><td>6605</td><td>3.4411764705882355</td></tr><tr><td>69243</td><td>3.411764705882353</td></tr><tr><td>89844</td><td>2.6666666666666665</td></tr><tr><td>8777</td><td>3.462962962962963</td></tr><tr><td>1738</td><td>2.3214285714285716</td></tr><tr><td>69444</td><td>2.65</td></tr><tr><td>83186</td><td>2.75</td></tr><tr><td>109720</td><td>2.7777777777777777</td></tr><tr><td>84094</td><td>3.3333333333333335</td></tr><tr><td>34386</td><td>3.125</td></tr><tr><td>45170</td><td>3.3</td></tr><tr><td>96753</td><td>3.45</td></tr><tr><td>103784</td><td>3.5</td></tr><tr><td>53498</td><td>3.216666666666667</td></tr><tr><td>70048</td><td>3.1</td></tr><tr><td>71112</td><td>0.7</td></tr><tr><td>70148</td><td>1.75</td></tr><tr><td>73002</td><td>1.9</td></tr><tr><td>100085</td><td>3.5833333333333335</td></tr><tr><td>83446</td><td>3.8333333333333335</td></tr><tr><td>26209</td><td>2.8333333333333335</td></tr><tr><td>110805</td><td>2.5</td></tr><tr><td>109066</td><td>3.5</td></tr><tr><td>115727</td><td>3.375</td></tr><tr><td>99891</td><td>2.0</td></tr><tr><td>111809</td><td>1.5</td></tr><tr><td>77883</td><td>3.5</td></tr><tr><td>128971</td><td>4.0</td></tr><tr><td>32959</td><td>3.125</td></tr><tr><td>62206</td><td>4.75</td></tr><tr><td>109290</td><td>4.0</td></tr><tr><td>78951</td><td>3.5</td></tr></tbody></table></div>"
      ]
     },
     "metadata": {},
     "output_type": "display_data"
    }
   ],
   "source": [
    "movieavgratings=ratings.groupby('movieId').mean(\"rating\")\n",
    "display(movieavgratings)"
   ]
  },
  {
   "cell_type": "markdown",
   "metadata": {},
   "source": [
    "##Task 2 - Building a recommendation model"
   ]
  },
  {
   "cell_type": "markdown",
   "metadata": {},
   "source": [
    "This task involved using the full ratings dataset to train a recommender model in order to predict the movie ratings for users. It was first of all necessary to to import the following libraries to carry out this task:"
   ]
  },
  {
   "cell_type": "code",
   "execution_count": 21,
   "metadata": {},
   "outputs": [
    {
     "data": {
      "text/html": [
       "<style scoped>\n",
       "  .ansiout {\n",
       "    display: block;\n",
       "    unicode-bidi: embed;\n",
       "    white-space: pre-wrap;\n",
       "    word-wrap: break-word;\n",
       "    word-break: break-all;\n",
       "    font-family: \"Source Code Pro\", \"Menlo\", monospace;;\n",
       "    font-size: 13px;\n",
       "    color: #555;\n",
       "    margin-left: 4px;\n",
       "    line-height: 19px;\n",
       "  }\n",
       "</style>\n",
       "<div class=\"ansiout\"></div>"
      ]
     },
     "metadata": {},
     "output_type": "display_data"
    }
   ],
   "source": [
    "#Import neccesary libraries\n",
    "from pyspark import since, keyword_only\n",
    "from pyspark.ml.util import *\n",
    "from pyspark.ml.wrapper import JavaEstimator, JavaModel\n",
    "from pyspark.ml.param.shared import *\n",
    "from pyspark.ml.common import inherit_doc\n",
    "from sklearn.model_selection import train_test_split\n",
    "from pyspark.ml.recommendation import ALS\n",
    "from pyspark.ml.evaluation import RegressionEvaluator\n",
    "from pyspark.ml.tuning import CrossValidator, ParamGridBuilder"
   ]
  },
  {
   "cell_type": "markdown",
   "metadata": {},
   "source": [
    "It is firstly necessary to separate training and test sets so that it is possible to measure the performance on both."
   ]
  },
  {
   "cell_type": "code",
   "execution_count": 23,
   "metadata": {},
   "outputs": [
    {
     "data": {
      "text/html": [
       "<style scoped>\n",
       "  .ansiout {\n",
       "    display: block;\n",
       "    unicode-bidi: embed;\n",
       "    white-space: pre-wrap;\n",
       "    word-wrap: break-word;\n",
       "    word-break: break-all;\n",
       "    font-family: \"Source Code Pro\", \"Menlo\", monospace;;\n",
       "    font-size: 13px;\n",
       "    color: #555;\n",
       "    margin-left: 4px;\n",
       "    line-height: 19px;\n",
       "  }\n",
       "</style>\n",
       "<div class=\"ansiout\"></div>"
      ]
     },
     "metadata": {},
     "output_type": "display_data"
    }
   ],
   "source": [
    "#Split data into training data and test data. \n",
    "train, test = ratings.randomSplit([0.7, 0.3], seed=3325)"
   ]
  },
  {
   "cell_type": "markdown",
   "metadata": {},
   "source": [
    "The parameters for the ALS algorithm are set using the ratings dataset and to begin with the default rank and regParam parameters. Following this the train data is fit according to the ALS algorithm."
   ]
  },
  {
   "cell_type": "code",
   "execution_count": 25,
   "metadata": {},
   "outputs": [
    {
     "data": {
      "text/html": [
       "<style scoped>\n",
       "  .ansiout {\n",
       "    display: block;\n",
       "    unicode-bidi: embed;\n",
       "    white-space: pre-wrap;\n",
       "    word-wrap: break-word;\n",
       "    word-break: break-all;\n",
       "    font-family: \"Source Code Pro\", \"Menlo\", monospace;;\n",
       "    font-size: 13px;\n",
       "    color: #555;\n",
       "    margin-left: 4px;\n",
       "    line-height: 19px;\n",
       "  }\n",
       "</style>\n",
       "<div class=\"ansiout\"></div>"
      ]
     },
     "metadata": {},
     "output_type": "display_data"
    }
   ],
   "source": [
    "#Set als model paramters\n",
    "als = ALS(rank=10, regParam=0.1, userCol='userId', itemCol='movieId', ratingCol='rating')\n",
    "\n",
    "#fit model to train data\n",
    "model = als.fit(train)"
   ]
  },
  {
   "cell_type": "markdown",
   "metadata": {},
   "source": [
    "Fit the ALS model to the test set and filter out null values."
   ]
  },
  {
   "cell_type": "code",
   "execution_count": 27,
   "metadata": {},
   "outputs": [
    {
     "data": {
      "text/html": [
       "<style scoped>\n",
       "  .ansiout {\n",
       "    display: block;\n",
       "    unicode-bidi: embed;\n",
       "    white-space: pre-wrap;\n",
       "    word-wrap: break-word;\n",
       "    word-break: break-all;\n",
       "    font-family: \"Source Code Pro\", \"Menlo\", monospace;;\n",
       "    font-size: 13px;\n",
       "    color: #555;\n",
       "    margin-left: 4px;\n",
       "    line-height: 19px;\n",
       "  }\n",
       "</style>\n",
       "<div class=\"ansiout\"></div>"
      ]
     },
     "metadata": {},
     "output_type": "display_data"
    }
   ],
   "source": [
    "predict_df = model.transform(test)\n",
    "\n",
    "predicted_ratings_df = predict_df.filter(predict_df.prediction != float('nan'))"
   ]
  },
  {
   "cell_type": "markdown",
   "metadata": {},
   "source": [
    "An evaluator is then used to check the accuracy of this model using the root mean square error (RMSE) methodology which returns the following value:"
   ]
  },
  {
   "cell_type": "code",
   "execution_count": 29,
   "metadata": {},
   "outputs": [
    {
     "data": {
      "text/html": [
       "<style scoped>\n",
       "  .ansiout {\n",
       "    display: block;\n",
       "    unicode-bidi: embed;\n",
       "    white-space: pre-wrap;\n",
       "    word-wrap: break-word;\n",
       "    word-break: break-all;\n",
       "    font-family: \"Source Code Pro\", \"Menlo\", monospace;;\n",
       "    font-size: 13px;\n",
       "    color: #555;\n",
       "    margin-left: 4px;\n",
       "    line-height: 19px;\n",
       "  }\n",
       "</style>\n",
       "<div class=\"ansiout\">rmse on test data = 0.80654\n",
       "</div>"
      ]
     },
     "metadata": {},
     "output_type": "display_data"
    }
   ],
   "source": [
    "evaluator = RegressionEvaluator(metricName=\"rmse\",labelCol=\"rating\", predictionCol=\"prediction\")\n",
    "rmse = evaluator.evaluate(predicted_ratings_df)\n",
    "print(\"rmse on test data = %g\" % rmse)"
   ]
  },
  {
   "cell_type": "markdown",
   "metadata": {},
   "source": [
    "Now applying the cross validation method with the varying rank parameter for the ALS algorithm, we initially set the rank parameter  to be three different values: 5, 10 and 20:"
   ]
  },
  {
   "cell_type": "code",
   "execution_count": 31,
   "metadata": {},
   "outputs": [],
   "source": [
    "als = ALS(rank=10, regParam=0.1, userCol='userId', itemCol='movieId', ratingCol='rating')\n",
    "\n",
    "paramGrid = ParamGridBuilder() \\\n",
    "    .addGrid(als.rank, [5,10,20]) \\\n",
    "    .build()\n",
    "    \n",
    "crossval1 = CrossValidator(estimator=als,\n",
    "                          estimatorParamMaps=paramGrid,\n",
    "                          evaluator=RegressionEvaluator(metricName=\"rmse\",labelCol=\"rating\", predictionCol=\"prediction\"),\n",
    "                          numFolds=10)"
   ]
  },
  {
   "cell_type": "markdown",
   "metadata": {},
   "source": [
    "This cross-validation model is then fitted to the train data."
   ]
  },
  {
   "cell_type": "code",
   "execution_count": 33,
   "metadata": {},
   "outputs": [],
   "source": [
    "cvModel1 = crossval1.fit(train)"
   ]
  },
  {
   "cell_type": "markdown",
   "metadata": {},
   "source": [
    "Similarly to the model above, another cross validation model is produced however this time with varying regParam parameter of values 0.05, 0.1, 0.5 which is again fitted to the train data."
   ]
  },
  {
   "cell_type": "code",
   "execution_count": 35,
   "metadata": {},
   "outputs": [],
   "source": [
    "paramGrid = ParamGridBuilder() \\\n",
    "    .addGrid(als.regParam, [0.05,0.1,0.5]) \\\n",
    "    .build()\n",
    "    \n",
    "crossval2 = CrossValidator(estimator=als,\n",
    "                          estimatorParamMaps=paramGrid,\n",
    "                          evaluator=RegressionEvaluator(metricName=\"rmse\",labelCol=\"rating\", predictionCol=\"prediction\"),\n",
    "                          numFolds=10)\n",
    "\n",
    "cvModel2 = crossval2.fit(train)"
   ]
  },
  {
   "cell_type": "markdown",
   "metadata": {},
   "source": [
    "We now find the best parameters for rank and regParam from each cross-validation model:"
   ]
  },
  {
   "cell_type": "code",
   "execution_count": 37,
   "metadata": {},
   "outputs": [],
   "source": [
    "cvModel1.bestModel.rank\n",
    "cvModel1.bestModel._java_obj.parent().getRank()\n",
    "\n",
    "cvModel2.bestModel.rank\n",
    "cvModel2.bestModel._java_obj.parent().getRegParam()"
   ]
  },
  {
   "cell_type": "markdown",
   "metadata": {},
   "source": [
    "A value of 5 for rank and 0.05 for regParam are found to be the most suitable parameters for our cross-validation model. Another cross-validation model was then fitted using these parameters and fitted to the train data."
   ]
  },
  {
   "cell_type": "code",
   "execution_count": 39,
   "metadata": {},
   "outputs": [],
   "source": [
    "paramGrid3 = ParamGridBuilder() \\\n",
    "    .addGrid(als.rank, [5])\\\n",
    "    .addGrid(als.regParam, [0.05]) \\\n",
    "    .build()\n",
    "    \n",
    "crossval3 = CrossValidator(estimator=als,\n",
    "                          estimatorParamMaps=paramGrid3,\n",
    "                          evaluator=RegressionEvaluator(metricName=\"rmse\",labelCol=\"rating\", predictionCol=\"prediction\"),\n",
    "                          numFolds=10)\n",
    "\n",
    "cvModel3 = crossval3.fit(train)"
   ]
  },
  {
   "cell_type": "markdown",
   "metadata": {},
   "source": [
    "This cross-validation model was subsequently fitted to our test data and performance metric RMSE is used to test accuracy."
   ]
  },
  {
   "cell_type": "code",
   "execution_count": 41,
   "metadata": {},
   "outputs": [],
   "source": [
    "cv_predict_df = cvModel3.transform(test)\n",
    "cv_predict_df = cv_predict_df.filter(cv_predict_df.prediction != float('nan'))\n",
    "cv_rmse = evaluator.evaluate(cv_predict_df)\n",
    "print(\"rmse on test data = %g\" % cv_rmse)"
   ]
  },
  {
   "cell_type": "markdown",
   "metadata": {},
   "source": [
    "Interstingly this RMSE value is actually higher than our inital model. This could be due to the cross-validator model overfitting to the train data. Also as each parameter was tested separately, they are treated as independent. This may affect the actual best parameters when they are used in tandem."
   ]
  },
  {
   "cell_type": "markdown",
   "metadata": {},
   "source": [
    "##Task 3 - Produce a small-scale version of the ratings.csv"
   ]
  },
  {
   "cell_type": "code",
   "execution_count": 44,
   "metadata": {},
   "outputs": [],
   "source": [
    "import matplotlib.pyplot as plt\n",
    "import pyspark.sql as sparksql\n",
    "import pandas as pd\n",
    "\n",
    "from pyspark import SparkContext, SparkConf"
   ]
  },
  {
   "cell_type": "markdown",
   "metadata": {},
   "source": [
    "Enable cross joins in the spark configuration. This allows a table join used in Cmd x"
   ]
  },
  {
   "cell_type": "code",
   "execution_count": 46,
   "metadata": {},
   "outputs": [],
   "source": [
    "spark.conf.set(\"spark.sql.crossJoin.enabled\", \"true\")"
   ]
  },
  {
   "cell_type": "code",
   "execution_count": 47,
   "metadata": {},
   "outputs": [],
   "source": [
    "ratingsURL = 'dbfs:/FileStore/tables/ratings.csv'\n",
    "ratings = spark.read.csv(path = ratingsURL, inferSchema =True,header=True,mode=\"DROPMALFORMED\",multiLine=True)\n",
    "ratings.count()"
   ]
  },
  {
   "cell_type": "markdown",
   "metadata": {},
   "source": [
    "Select the userId column and compile a list of all unique ids. Then, randomly sample 20% of them, which gives a sample size of roughly 27,000 users."
   ]
  },
  {
   "cell_type": "code",
   "execution_count": 49,
   "metadata": {},
   "outputs": [],
   "source": [
    "ratingsDistinct = ratings.select(\"userId\").distinct().sample(False,0.2)\n",
    "ratingsDistinct.count()"
   ]
  },
  {
   "cell_type": "code",
   "execution_count": 50,
   "metadata": {},
   "outputs": [],
   "source": [
    "#ratingsDistinct.head(15)"
   ]
  },
  {
   "cell_type": "markdown",
   "metadata": {},
   "source": [
    "Do an inner join between the original ratings table and the list of sampled user ids. This selects all movie ratings done by those 27K users and puts them in a new RDD"
   ]
  },
  {
   "cell_type": "code",
   "execution_count": 52,
   "metadata": {},
   "outputs": [],
   "source": [
    "ratingssmall = ratingsDistinct.join(ratings,\"userId\",\"inner\")\n",
    "ratingssmall.count()"
   ]
  },
  {
   "cell_type": "code",
   "execution_count": 53,
   "metadata": {},
   "outputs": [],
   "source": [
    "#ratingssmall.head(15)"
   ]
  },
  {
   "cell_type": "markdown",
   "metadata": {},
   "source": [
    "Save the new ratings data as a parquet for later use"
   ]
  },
  {
   "cell_type": "code",
   "execution_count": 55,
   "metadata": {},
   "outputs": [],
   "source": [
    "ratingssmall.write.parquet(\"dbfs:/FileStore/tables/ratings-small.parquet\")"
   ]
  },
  {
   "cell_type": "markdown",
   "metadata": {},
   "source": [
    "##Task 4 - Generate a user-user network from the ratings dataset"
   ]
  },
  {
   "cell_type": "code",
   "execution_count": 57,
   "metadata": {},
   "outputs": [
    {
     "data": {
      "text/html": [
       "<style scoped>\n",
       "  .ansiout {\n",
       "    display: block;\n",
       "    unicode-bidi: embed;\n",
       "    white-space: pre-wrap;\n",
       "    word-wrap: break-word;\n",
       "    word-break: break-all;\n",
       "    font-family: \"Source Code Pro\", \"Menlo\", monospace;;\n",
       "    font-size: 13px;\n",
       "    color: #555;\n",
       "    margin-left: 4px;\n",
       "    line-height: 19px;\n",
       "  }\n",
       "</style>\n",
       "<div class=\"ansiout\"></div>"
      ]
     },
     "metadata": {},
     "output_type": "display_data"
    }
   ],
   "source": [
    "import matplotlib.pyplot as plt\n",
    "import pyspark.sql as sparksql\n",
    "import pandas as pd\n",
    "\n",
    "from pyspark import SparkContext, SparkConf\n",
    "\n",
    "from functools import reduce\n",
    "from pyspark.sql.functions import col, lit, when\n",
    "from pyspark.sql.functions import monotonically_increasing_id\n",
    "from graphframes import *"
   ]
  },
  {
   "cell_type": "markdown",
   "metadata": {},
   "source": [
    "Load in the parquet twice, so that we can perform database operations between them to filter the data. This sacrifices memory in return for processing time"
   ]
  },
  {
   "cell_type": "code",
   "execution_count": 59,
   "metadata": {},
   "outputs": [
    {
     "data": {
      "text/html": [
       "<style scoped>\n",
       "  .ansiout {\n",
       "    display: block;\n",
       "    unicode-bidi: embed;\n",
       "    white-space: pre-wrap;\n",
       "    word-wrap: break-word;\n",
       "    word-break: break-all;\n",
       "    font-family: \"Source Code Pro\", \"Menlo\", monospace;;\n",
       "    font-size: 13px;\n",
       "    color: #555;\n",
       "    margin-left: 4px;\n",
       "    line-height: 19px;\n",
       "  }\n",
       "</style>\n",
       "<div class=\"ansiout\">Out[3]: 4004928</div>"
      ]
     },
     "metadata": {},
     "output_type": "display_data"
    }
   ],
   "source": [
    "ratingsURL = 'dbfs:/FileStore/tables/ratings-small.parquet'\n",
    "ratings_one = spark.read.parquet(ratingsURL)\n",
    "ratings_two = spark.read.parquet(ratingsURL)\n",
    "ratings_one.count()"
   ]
  },
  {
   "cell_type": "markdown",
   "metadata": {},
   "source": [
    "Rename the ID columns so that they may still be uniquely identified post-join"
   ]
  },
  {
   "cell_type": "code",
   "execution_count": 61,
   "metadata": {},
   "outputs": [
    {
     "data": {
      "text/html": [
       "<style scoped>\n",
       "  .ansiout {\n",
       "    display: block;\n",
       "    unicode-bidi: embed;\n",
       "    white-space: pre-wrap;\n",
       "    word-wrap: break-word;\n",
       "    word-break: break-all;\n",
       "    font-family: \"Source Code Pro\", \"Menlo\", monospace;;\n",
       "    font-size: 13px;\n",
       "    color: #555;\n",
       "    margin-left: 4px;\n",
       "    line-height: 19px;\n",
       "  }\n",
       "</style>\n",
       "<div class=\"ansiout\"></div>"
      ]
     },
     "metadata": {},
     "output_type": "display_data"
    }
   ],
   "source": [
    "ratings_one = ratings_one.withColumnRenamed(\"userId\",\"userId1\")\n",
    "ratings_two = ratings_two.withColumnRenamed(\"userId\",\"userId2\")"
   ]
  },
  {
   "cell_type": "markdown",
   "metadata": {},
   "source": [
    "Peform an inner join between the two datasets. Only keep rows in which the movie ID is the same in each database. This will produce a database of users linked to other users by movieId. To prevent duplicate rows, and rows in which the user has rated the same movie as themselves, only rows in which the first user is strictly less than (numerically or alphabetically - details are left to spark) the second are kept."
   ]
  },
  {
   "cell_type": "code",
   "execution_count": 63,
   "metadata": {},
   "outputs": [
    {
     "data": {
      "text/html": [
       "<style scoped>\n",
       "  .ansiout {\n",
       "    display: block;\n",
       "    unicode-bidi: embed;\n",
       "    white-space: pre-wrap;\n",
       "    word-wrap: break-word;\n",
       "    word-break: break-all;\n",
       "    font-family: \"Source Code Pro\", \"Menlo\", monospace;;\n",
       "    font-size: 13px;\n",
       "    color: #555;\n",
       "    margin-left: 4px;\n",
       "    line-height: 19px;\n",
       "  }\n",
       "</style>\n",
       "<div class=\"ansiout\">Out[5]: 5366042509</div>"
      ]
     },
     "metadata": {},
     "output_type": "display_data"
    }
   ],
   "source": [
    "useruserdf = ratings_one.join(ratings_two,(ratings_one[\"userId1\"] < ratings_two[\"userId2\"]) & (ratings_one[\"movieId\"] == ratings_two[\"movieId\"]),\"inner\")\n",
    "useruserdf.count()"
   ]
  },
  {
   "cell_type": "code",
   "execution_count": 64,
   "metadata": {},
   "outputs": [],
   "source": [
    "useruserdf.printSchema()"
   ]
  },
  {
   "cell_type": "code",
   "execution_count": 65,
   "metadata": {},
   "outputs": [],
   "source": [
    "#useruserdf.head(10)"
   ]
  },
  {
   "cell_type": "markdown",
   "metadata": {},
   "source": [
    "The nodes and edges needed for a future graph are created:"
   ]
  },
  {
   "cell_type": "code",
   "execution_count": 67,
   "metadata": {},
   "outputs": [
    {
     "data": {
      "text/html": [
       "<style scoped>\n",
       "  .ansiout {\n",
       "    display: block;\n",
       "    unicode-bidi: embed;\n",
       "    white-space: pre-wrap;\n",
       "    word-wrap: break-word;\n",
       "    word-break: break-all;\n",
       "    font-family: \"Source Code Pro\", \"Menlo\", monospace;;\n",
       "    font-size: 13px;\n",
       "    color: #555;\n",
       "    margin-left: 4px;\n",
       "    line-height: 19px;\n",
       "  }\n",
       "</style>\n",
       "<div class=\"ansiout\"></div>"
      ]
     },
     "metadata": {},
     "output_type": "display_data"
    }
   ],
   "source": [
    "nodes = ratings_one.select(\"userId1\").distinct()\n",
    "edges = useruserdf.select(\"userId1\",\"userId2\")"
   ]
  },
  {
   "cell_type": "markdown",
   "metadata": {},
   "source": [
    "Count the number of times a row appears with a unique user - user combination and save that figure. This number is the number of movies these users have both rated, and represents the weight of the edge between them"
   ]
  },
  {
   "cell_type": "code",
   "execution_count": 69,
   "metadata": {},
   "outputs": [
    {
     "data": {
      "text/html": [
       "<style scoped>\n",
       "  .ansiout {\n",
       "    display: block;\n",
       "    unicode-bidi: embed;\n",
       "    white-space: pre-wrap;\n",
       "    word-wrap: break-word;\n",
       "    word-break: break-all;\n",
       "    font-family: \"Source Code Pro\", \"Menlo\", monospace;;\n",
       "    font-size: 13px;\n",
       "    color: #555;\n",
       "    margin-left: 4px;\n",
       "    line-height: 19px;\n",
       "  }\n",
       "</style>\n",
       "<div class=\"ansiout\"></div>"
      ]
     },
     "metadata": {},
     "output_type": "display_data"
    }
   ],
   "source": [
    "edgeweights = edges.groupby(\"userId1\",\"userId2\").count()\n",
    "#edgeweights.count()"
   ]
  },
  {
   "cell_type": "code",
   "execution_count": 70,
   "metadata": {},
   "outputs": [],
   "source": [
    "edgeweights.printSchema()"
   ]
  },
  {
   "cell_type": "markdown",
   "metadata": {},
   "source": [
    "Rename the column to reflect the fact that count is a representation of weight. Remove all rows in which the weight is less than two, to prevent the graph being overconnected and therefore unprocessable."
   ]
  },
  {
   "cell_type": "code",
   "execution_count": 72,
   "metadata": {},
   "outputs": [
    {
     "data": {
      "text/html": [
       "<style scoped>\n",
       "  .ansiout {\n",
       "    display: block;\n",
       "    unicode-bidi: embed;\n",
       "    white-space: pre-wrap;\n",
       "    word-wrap: break-word;\n",
       "    word-break: break-all;\n",
       "    font-family: \"Source Code Pro\", \"Menlo\", monospace;;\n",
       "    font-size: 13px;\n",
       "    color: #555;\n",
       "    margin-left: 4px;\n",
       "    line-height: 19px;\n",
       "  }\n",
       "</style>\n",
       "<div class=\"ansiout\"></div>"
      ]
     },
     "metadata": {},
     "output_type": "display_data"
    }
   ],
   "source": [
    "edgeweights_original=edgeweights\n",
    "edgeweights = edgeweights.withColumnRenamed(\"count\",\"weight\")\n",
    "edgeweights = edgeweights.filter(edgeweights.weight > 2)"
   ]
  },
  {
   "cell_type": "code",
   "execution_count": 73,
   "metadata": {},
   "outputs": [],
   "source": [
    "edgeweights_original.count()"
   ]
  },
  {
   "cell_type": "code",
   "execution_count": 74,
   "metadata": {},
   "outputs": [],
   "source": [
    "edgeweights.count()"
   ]
  },
  {
   "cell_type": "markdown",
   "metadata": {},
   "source": [
    "##Task 5 - Discover the connected components of the graph and select the largest for the next task"
   ]
  },
  {
   "cell_type": "markdown",
   "metadata": {},
   "source": [
    "The nodes and edges from Task 4, are correlated into a graph using the GraphFrame command"
   ]
  },
  {
   "cell_type": "code",
   "execution_count": 77,
   "metadata": {},
   "outputs": [
    {
     "data": {
      "text/html": [
       "<style scoped>\n",
       "  .ansiout {\n",
       "    display: block;\n",
       "    unicode-bidi: embed;\n",
       "    white-space: pre-wrap;\n",
       "    word-wrap: break-word;\n",
       "    word-break: break-all;\n",
       "    font-family: \"Source Code Pro\", \"Menlo\", monospace;;\n",
       "    font-size: 13px;\n",
       "    color: #555;\n",
       "    margin-left: 4px;\n",
       "    line-height: 19px;\n",
       "  }\n",
       "</style>\n",
       "<div class=\"ansiout\"></div>"
      ]
     },
     "metadata": {},
     "output_type": "display_data"
    }
   ],
   "source": [
    "#Rename nodes and edges to be able to produce graph\n",
    "new_nodes=nodes.withColumn(\"id\",monotonically_increasing_id())\n",
    "new_nodes=new_nodes.withColumnRenamed(\"userId1\",\"name\")\n",
    "new_edgeweights=edgeweights.withColumnRenamed(\"userId1\",\"src\")\n",
    "new_edgeweights=new_edgeweights.withColumnRenamed(\"userId2\",\"dst\")\n",
    "new_edgeweights=new_edgeweights.withColumnRenamed(\"count\",\"relationship\")\n",
    "#Create graph with new nodes and edges\n",
    "g = GraphFrame(new_nodes, new_edgeweights)"
   ]
  },
  {
   "cell_type": "markdown",
   "metadata": {},
   "source": [
    "We find the connected components within the graph and these are displayed below in tabular form:"
   ]
  },
  {
   "cell_type": "code",
   "execution_count": 79,
   "metadata": {},
   "outputs": [
    {
     "data": {
      "text/html": [
       "<style scoped>\n",
       "  .ansiout {\n",
       "    display: block;\n",
       "    unicode-bidi: embed;\n",
       "    white-space: pre-wrap;\n",
       "    word-wrap: break-word;\n",
       "    word-break: break-all;\n",
       "    font-family: \"Source Code Pro\", \"Menlo\", monospace;;\n",
       "    font-size: 13px;\n",
       "    color: #555;\n",
       "    margin-left: 4px;\n",
       "    line-height: 19px;\n",
       "  }\n",
       "</style>\n",
       "<div class=\"ansiout\"></div>"
      ]
     },
     "metadata": {},
     "output_type": "display_data"
    }
   ],
   "source": [
    "#find the connected componets\n",
    "sc.setCheckpointDir(\"/tmp/graphframes-example-connected-components\")\n",
    "result = g.connectedComponents()\n",
    "#display(result)"
   ]
  },
  {
   "cell_type": "markdown",
   "metadata": {},
   "source": [
    "Code below can be used for finding strongly connected components. This code was not used as it takes a significant amount of time to run."
   ]
  },
  {
   "cell_type": "code",
   "execution_count": 81,
   "metadata": {},
   "outputs": [],
   "source": [
    "#strong_result = g.stronglyConnectedComponents(maxIter=10)\n",
    "#display(strong_result.select(\"id\", \"component\"))"
   ]
  },
  {
   "cell_type": "markdown",
   "metadata": {},
   "source": [
    "As the above code does not work, this workaround was used. This code finds all components, then counts the number of times a component appears and orders it by that count."
   ]
  },
  {
   "cell_type": "code",
   "execution_count": 83,
   "metadata": {},
   "outputs": [
    {
     "data": {
      "text/html": [
       "<style scoped>\n",
       "  .ansiout {\n",
       "    display: block;\n",
       "    unicode-bidi: embed;\n",
       "    white-space: pre-wrap;\n",
       "    word-wrap: break-word;\n",
       "    word-break: break-all;\n",
       "    font-family: \"Source Code Pro\", \"Menlo\", monospace;;\n",
       "    font-size: 13px;\n",
       "    color: #555;\n",
       "    margin-left: 4px;\n",
       "    line-height: 19px;\n",
       "  }\n",
       "</style>\n",
       "<div class=\"ansiout\"><span class=\"ansi-red-fg\">---------------------------------------------------------------------------</span>\n",
       "<span class=\"ansi-red-fg\">AttributeError</span>                            Traceback (most recent call last)\n",
       "<span class=\"ansi-green-fg\">&lt;command-2598939426769398&gt;</span> in <span class=\"ansi-cyan-fg\">&lt;module&gt;</span>\n",
       "<span class=\"ansi-green-intense-fg ansi-bold\">      1</span> sc<span class=\"ansi-blue-fg\">.</span>setCheckpointDir<span class=\"ansi-blue-fg\">(</span><span class=\"ansi-blue-fg\">&#34;/tmp/graphframes-example-connected-components&#34;</span><span class=\"ansi-blue-fg\">)</span>\n",
       "<span class=\"ansi-green-intense-fg ansi-bold\">      2</span> result <span class=\"ansi-blue-fg\">=</span> g<span class=\"ansi-blue-fg\">.</span>connectedComponents<span class=\"ansi-blue-fg\">(</span><span class=\"ansi-blue-fg\">)</span>\n",
       "<span class=\"ansi-green-fg\">----&gt; 3</span><span class=\"ansi-red-fg\"> </span>result<span class=\"ansi-blue-fg\">.</span>groupBy<span class=\"ansi-blue-fg\">(</span><span class=\"ansi-blue-fg\">&#39;component&#39;</span><span class=\"ansi-blue-fg\">)</span><span class=\"ansi-blue-fg\">.</span>count<span class=\"ansi-blue-fg\">(</span><span class=\"ansi-blue-fg\">)</span><span class=\"ansi-blue-fg\">.</span>orderBy<span class=\"ansi-blue-fg\">(</span>result<span class=\"ansi-blue-fg\">.</span>count<span class=\"ansi-blue-fg\">.</span>asc<span class=\"ansi-blue-fg\">(</span><span class=\"ansi-blue-fg\">)</span><span class=\"ansi-blue-fg\">)</span><span class=\"ansi-blue-fg\">.</span>show<span class=\"ansi-blue-fg\">(</span><span class=\"ansi-blue-fg\">)</span>\n",
       "\n",
       "<span class=\"ansi-red-fg\">AttributeError</span>: &#39;function&#39; object has no attribute &#39;asc&#39;</div>"
      ]
     },
     "metadata": {},
     "output_type": "display_data"
    }
   ],
   "source": [
    "sc.setCheckpointDir(\"/tmp/graphframes-example-connected-components\")\n",
    "result = g.connectedComponents()"
   ]
  },
  {
   "cell_type": "code",
   "execution_count": 84,
   "metadata": {},
   "outputs": [
    {
     "data": {
      "text/html": [
       "<style scoped>\n",
       "  .ansiout {\n",
       "    display: block;\n",
       "    unicode-bidi: embed;\n",
       "    white-space: pre-wrap;\n",
       "    word-wrap: break-word;\n",
       "    word-break: break-all;\n",
       "    font-family: \"Source Code Pro\", \"Menlo\", monospace;;\n",
       "    font-size: 13px;\n",
       "    color: #555;\n",
       "    margin-left: 4px;\n",
       "    line-height: 19px;\n",
       "  }\n",
       "</style>\n",
       "<div class=\"ansiout\">+------------+-----+\n",
       "   component|count|\n",
       "+------------+-----+\n",
       "           2|   24|\n",
       "635655159886|    1|\n",
       "          77|    1|\n",
       " 34359738414|    1|\n",
       "103079215183|    1|\n",
       "146028888145|    1|\n",
       "154618822745|    1|\n",
       "154618822777|    1|\n",
       "240518168616|    1|\n",
       "240518168634|    1|\n",
       "257698037768|    1|\n",
       "300647710820|    1|\n",
       "335007449197|    1|\n",
       "335007449239|    1|\n",
       "360777252892|    1|\n",
       "498216206368|    1|\n",
       "549755814013|    1|\n",
       "575525617731|    1|\n",
       "584115552277|    1|\n",
       "584115552334|    1|\n",
       "+------------+-----+\n",
       "only showing top 20 rows\n",
       "\n",
       "</div>"
      ]
     },
     "metadata": {},
     "output_type": "display_data"
    }
   ],
   "source": [
    "result.groupBy('component').count().orderBy('count', ascending=False).show()"
   ]
  },
  {
   "cell_type": "markdown",
   "metadata": {},
   "source": [
    "The strongest connected component can then be extracted manually by calling it directly."
   ]
  },
  {
   "cell_type": "code",
   "execution_count": 86,
   "metadata": {},
   "outputs": [
    {
     "data": {
      "text/html": [
       "<style scoped>\n",
       "  .ansiout {\n",
       "    display: block;\n",
       "    unicode-bidi: embed;\n",
       "    white-space: pre-wrap;\n",
       "    word-wrap: break-word;\n",
       "    word-break: break-all;\n",
       "    font-family: \"Source Code Pro\", \"Menlo\", monospace;;\n",
       "    font-size: 13px;\n",
       "    color: #555;\n",
       "    margin-left: 4px;\n",
       "    line-height: 19px;\n",
       "  }\n",
       "</style>\n",
       "<div class=\"ansiout\"></div>"
      ]
     },
     "metadata": {},
     "output_type": "display_data"
    }
   ],
   "source": [
    "names=result.filter(result.component == 2)"
   ]
  },
  {
   "cell_type": "code",
   "execution_count": 87,
   "metadata": {},
   "outputs": [
    {
     "data": {
      "text/html": [
       "<style scoped>\n",
       "  .ansiout {\n",
       "    display: block;\n",
       "    unicode-bidi: embed;\n",
       "    white-space: pre-wrap;\n",
       "    word-wrap: break-word;\n",
       "    word-break: break-all;\n",
       "    font-family: \"Source Code Pro\", \"Menlo\", monospace;;\n",
       "    font-size: 13px;\n",
       "    color: #555;\n",
       "    margin-left: 4px;\n",
       "    line-height: 19px;\n",
       "  }\n",
       "</style>\n",
       "<div class=\"ansiout\">+------+---+---------+\n",
       "  name| id|component|\n",
       "+------+---+---------+\n",
       "  3175|  2|        2|\n",
       "  3918|  3|        2|\n",
       "  5518|  6|        2|\n",
       " 18944| 14|        2|\n",
       " 31261| 27|        2|\n",
       " 31367| 28|        2|\n",
       " 32445| 30|        2|\n",
       " 35361| 33|        2|\n",
       " 44358| 39|        2|\n",
       " 47711| 43|        2|\n",
       " 51595| 47|        2|\n",
       " 62985| 51|        2|\n",
       " 63271| 52|        2|\n",
       " 72758| 65|        2|\n",
       " 79220| 72|        2|\n",
       " 79361| 73|        2|\n",
       " 80332| 74|        2|\n",
       " 92644| 84|        2|\n",
       " 99817| 89|        2|\n",
       "100446| 91|        2|\n",
       "+------+---+---------+\n",
       "only showing top 20 rows\n",
       "\n",
       "</div>"
      ]
     },
     "metadata": {},
     "output_type": "display_data"
    }
   ],
   "source": [
    "names.show()"
   ]
  },
  {
   "cell_type": "markdown",
   "metadata": {},
   "source": [
    "The original edges could then be filitered by the id's within the strongly connected component. This would give you the connections within this component. This was not carried out, as we were unsure of how to code this wihin spark."
   ]
  },
  {
   "cell_type": "markdown",
   "metadata": {},
   "source": [
    "##Task 6 - Implementing the Girvan-Newman Algorithm"
   ]
  },
  {
   "cell_type": "markdown",
   "metadata": {},
   "source": [
    "To create and test the GN algorithm, a fictional small sample graph is used (as stated in the brief). Sample vertices indicates the 7 nodes of this test graph labeled a-g. Sample edges between these nodes are also created, with source and destination specified. A total of 18 edges were created in total."
   ]
  },
  {
   "cell_type": "code",
   "execution_count": 91,
   "metadata": {},
   "outputs": [
    {
     "data": {
      "text/html": [
       "<style scoped>\n",
       "  .ansiout {\n",
       "    display: block;\n",
       "    unicode-bidi: embed;\n",
       "    white-space: pre-wrap;\n",
       "    word-wrap: break-word;\n",
       "    word-break: break-all;\n",
       "    font-family: \"Source Code Pro\", \"Menlo\", monospace;;\n",
       "    font-size: 13px;\n",
       "    color: #555;\n",
       "    margin-left: 4px;\n",
       "    line-height: 19px;\n",
       "  }\n",
       "</style>\n",
       "<div class=\"ansiout\"></div>"
      ]
     },
     "metadata": {},
     "output_type": "display_data"
    }
   ],
   "source": [
    "#Task 6 Sample GraphFrame\n",
    "sample_vertices = sqlContext.createDataFrame([\n",
    "  (\"a\", \"Alice\", 34),\n",
    "  (\"b\", \"Bob\", 36),\n",
    "  (\"c\", \"Charlie\", 30),\n",
    "  (\"d\", \"David\", 29),\n",
    "  (\"e\", \"Esther\", 32),\n",
    "  (\"f\", \"Fanny\", 36),\n",
    "  (\"g\", \"Gabby\", 60)], [\"id\", \"name\", \"age\"])\n",
    "sample_edges = sqlContext.createDataFrame([\n",
    "  (\"a\", \"b\", \"friend\"),\n",
    "  (\"b\", \"a\", \"friend\"),\n",
    "  (\"a\", \"c\", \"friend\"),  \n",
    "  (\"c\", \"a\", \"friend\"),\n",
    "  (\"b\", \"c\", \"friend\"),\n",
    "  (\"c\", \"b\", \"friend\"),\n",
    "  (\"b\", \"d\", \"friend\"),\n",
    "  (\"d\", \"b\", \"friend\"),\n",
    "  (\"d\", \"e\", \"friend\"),\n",
    "  (\"e\", \"d\", \"friend\"),\n",
    "  (\"d\", \"g\", \"friend\"),\n",
    "  (\"g\", \"d\", \"friend\"),\n",
    "  (\"e\", \"f\", \"friend\"),\n",
    "  (\"f\", \"e\", \"friend\"),\n",
    "  (\"g\", \"f\", \"friend\"),\n",
    "  (\"f\", \"g\", \"friend\"),\n",
    "  (\"d\", \"f\", \"friend\"),\n",
    "  (\"f\", \"d\", \"friend\")\n",
    "], [\"src\", \"dst\", \"relationship\"])\n",
    "sample_g = GraphFrame(sample_vertices, sample_edges)"
   ]
  },
  {
   "cell_type": "markdown",
   "metadata": {},
   "source": [
    "For the algorithm, the relationship variable was removed from the edges data. An adjaceny list was then made for all of the nodes, indicating which nodes were directly connected."
   ]
  },
  {
   "cell_type": "code",
   "execution_count": 93,
   "metadata": {},
   "outputs": [
    {
     "data": {
      "text/html": [
       "<style scoped>\n",
       "  .ansiout {\n",
       "    display: block;\n",
       "    unicode-bidi: embed;\n",
       "    white-space: pre-wrap;\n",
       "    word-wrap: break-word;\n",
       "    word-break: break-all;\n",
       "    font-family: \"Source Code Pro\", \"Menlo\", monospace;;\n",
       "    font-size: 13px;\n",
       "    color: #555;\n",
       "    margin-left: 4px;\n",
       "    line-height: 19px;\n",
       "  }\n",
       "</style>\n",
       "<div class=\"ansiout\"></div>"
      ]
     },
     "metadata": {},
     "output_type": "display_data"
    }
   ],
   "source": [
    "edges = sample_edges.select(\"src\", \"dst\")\n",
    "adjacency_list = edges.rdd.groupByKey().mapValues(list).collect()"
   ]
  },
  {
   "cell_type": "markdown",
   "metadata": {},
   "source": [
    "Girvan-Newman Algorithm based on multiple lists. Nodes are internally referenced by a numerical ID which always corresponds to the index to speed up processing time. Inputs are the adjacency list, the (numeric) node you wish to use as the root and the number of edges in the adjacency list (comments are provided to describe each step) :"
   ]
  },
  {
   "cell_type": "code",
   "execution_count": 95,
   "metadata": {},
   "outputs": [
    {
     "data": {
      "text/html": [
       "<style scoped>\n",
       "  .ansiout {\n",
       "    display: block;\n",
       "    unicode-bidi: embed;\n",
       "    white-space: pre-wrap;\n",
       "    word-wrap: break-word;\n",
       "    word-break: break-all;\n",
       "    font-family: \"Source Code Pro\", \"Menlo\", monospace;;\n",
       "    font-size: 13px;\n",
       "    color: #555;\n",
       "    margin-left: 4px;\n",
       "    line-height: 19px;\n",
       "  }\n",
       "</style>\n",
       "<div class=\"ansiout\"></div>"
      ]
     },
     "metadata": {},
     "output_type": "display_data"
    }
   ],
   "source": [
    "#Step 2 - Traverse Bredth wise from a node. Label depth of node and amount of times node reached in same number of steps as level\n",
    "def search(adjacency,start_node,n_edges):\n",
    "  #As dataframes don't seem to work, just maintain lists of variables. Index of variable remains constant through each list.\n",
    "  local_n = 0\n",
    "  nodes = [adjacency[start_node][0]]\n",
    "  #Parents are stored by their index in nodes list\n",
    "  parents = [None]\n",
    "  levels = [0]\n",
    "  paths = [0]\n",
    "  credits = [1]\n",
    "  \n",
    "  #Initialise at starting node\n",
    "  current_node = start_node\n",
    "  #index is absolute index in above lists of current nodes. Current nodes is the index in the adjacency list of the current node\n",
    "  index = 0\n",
    "  \n",
    "  #Continue calculating until all edges have been considered.\n",
    "  while local_n < n_edges:\n",
    "    \n",
    "    #Find index of current node in adjacency list\n",
    "    current_node = nodes[index]\n",
    "    for i in range(0,len(adjacency)):\n",
    "      if nodes[index] == adjacency[i][0]:\n",
    "        current_node = i\n",
    "        break\n",
    "        \n",
    "    #For all leaf nodes of current node\n",
    "    for i in range(0,len(adjacency[current_node][1])):\n",
    "      \n",
    "      #Check if leaf node already found. If so, initialise values for that node.\n",
    "      if adjacency[current_node][1][i] not in nodes:\n",
    "        nodes.append(adjacency[current_node][1][i])\n",
    "        parents.append([index])\n",
    "        levels.append(levels[index] + 1)\n",
    "        paths.append(1)\n",
    "        credits.append(1)\n",
    "        \n",
    "      #If node already found\n",
    "      else:\n",
    "        #Find index of leaf node in node list\n",
    "        for j in range(0,len(nodes)):\n",
    "          if nodes[j] == adjacency[current_node][1][i]:\n",
    "                      node_index = j\n",
    "                      break\n",
    "        \n",
    "        #If node is at greater depth than current node, update information about node\n",
    "        #As search is breadth first, it should be impossible to find a node which is less deep than current node or which is more than one level deeper\n",
    "        if levels[node_index] == levels[index] + 1:\n",
    "          parents[node_index].append(index)\n",
    "          #For clean comparison, paths is kept. Actual value of paths is inherently the length of the lsit of parents by construction\n",
    "          paths[node_index] = paths[node_index] + 1\n",
    "                       \n",
    "      #Update number of edges\n",
    "      local_n = local_n + 1\n",
    "    #Analyse next node\n",
    "    index = index + 1\n",
    "  \n",
    "  #From bottom of tree, feed credits of leaf to parent based on number of paths to leaf\n",
    "  for i in range(len(nodes)-1,0,-1):\n",
    "    for j in range(0,len(parents[i])):\n",
    "      credits[parents[i][j]] = credits[parents[i][j]] + (credits[i]/paths[i])\n",
    "  #print(nodes)\n",
    "  #print(parents)\n",
    "  #print(levels)\n",
    "  #print(paths)\n",
    "  #print(credits)\n",
    "  \n",
    "  results = []\n",
    "  for i in range(0,len(nodes)):\n",
    "    results.append([nodes[i], credits[i]])\n",
    "  #return([nodes,credits])\n",
    "  return(results)"
   ]
  },
  {
   "cell_type": "markdown",
   "metadata": {},
   "source": [
    "This algorithm is then applied for each node (in this algorithm, the node chosen, is the starting node in the BFS method). Node a is shown as an example:"
   ]
  },
  {
   "cell_type": "code",
   "execution_count": 97,
   "metadata": {},
   "outputs": [
    {
     "data": {
      "text/html": [
       "<style scoped>\n",
       "  .ansiout {\n",
       "    display: block;\n",
       "    unicode-bidi: embed;\n",
       "    white-space: pre-wrap;\n",
       "    word-wrap: break-word;\n",
       "    word-break: break-all;\n",
       "    font-family: \"Source Code Pro\", \"Menlo\", monospace;;\n",
       "    font-size: 13px;\n",
       "    color: #555;\n",
       "    margin-left: 4px;\n",
       "    line-height: 19px;\n",
       "  }\n",
       "</style>\n",
       "<div class=\"ansiout\">Out[31]: [[&#39;b&#39;, 7.0], [&#39;a&#39;, 1], [&#39;c&#39;, 1], [&#39;d&#39;, 4.0], [&#39;e&#39;, 1], [&#39;g&#39;, 1], [&#39;f&#39;, 1]]</div>"
      ]
     },
     "metadata": {},
     "output_type": "display_data"
    }
   ],
   "source": [
    "g=search(adjacency_list,0,18)\n",
    "a=search(adjacency_list,1,18)\n",
    "e=search(adjacency_list,2,18)\n",
    "c=search(adjacency_list,3,18)\n",
    "b=search(adjacency_list,4,18)\n",
    "d=search(adjacency_list,5,18)\n",
    "f=search(adjacency_list,6,18)\n",
    "a"
   ]
  },
  {
   "cell_type": "markdown",
   "metadata": {},
   "source": [
    "These weightings, for all nodes, can then be added together and divided by 2. This will indicate which nodes are of most imporatnce in the graph. The connections betwen these important nodes will illustrate the communities present within the graph. The code to do this is not present, as we were not sure how to programme this operation within Spark."
   ]
  },
  {
   "cell_type": "markdown",
   "metadata": {},
   "source": [
    "To test possible scalibility of the algorithm, the number of nodes and edges for the test graph was doubled. This is shown below:"
   ]
  },
  {
   "cell_type": "code",
   "execution_count": 100,
   "metadata": {},
   "outputs": [
    {
     "data": {
      "text/html": [
       "<style scoped>\n",
       "  .ansiout {\n",
       "    display: block;\n",
       "    unicode-bidi: embed;\n",
       "    white-space: pre-wrap;\n",
       "    word-wrap: break-word;\n",
       "    word-break: break-all;\n",
       "    font-family: \"Source Code Pro\", \"Menlo\", monospace;;\n",
       "    font-size: 13px;\n",
       "    color: #555;\n",
       "    margin-left: 4px;\n",
       "    line-height: 19px;\n",
       "  }\n",
       "</style>\n",
       "<div class=\"ansiout\"></div>"
      ]
     },
     "metadata": {},
     "output_type": "display_data"
    }
   ],
   "source": [
    "#Scalibility\n",
    "scale_vertices = sqlContext.createDataFrame([\n",
    "  (\"a\", \"Alice\", 34),\n",
    "  (\"b\", \"Bob\", 36),\n",
    "  (\"c\", \"Charlie\", 30),\n",
    "  (\"d\", \"David\", 29),\n",
    "  (\"e\", \"Esther\", 32),\n",
    "  (\"f\", \"Fanny\", 36),\n",
    "  (\"g\", \"Gabby\", 60),\n",
    "  (\"h\", \"Hanna\", 75),\n",
    "  (\"i\", \"Isak\", 45),\n",
    "  (\"j\", \"Jeffery\", 26),\n",
    "  (\"k\", \"Kris\", 73),\n",
    "  (\"l\", \"Lucy\", 34),\n",
    "  (\"m\", \"Mason\", 12),\n",
    "  (\"n\", \"Newt\", 62)],\n",
    "  [\"id\", \"name\", \"age\"])\n",
    "scale_edges = sqlContext.createDataFrame([\n",
    "  (\"a\", \"b\", \"friend\"),\n",
    "  (\"b\", \"a\", \"friend\"),\n",
    "  (\"a\", \"c\", \"friend\"),  \n",
    "  (\"c\", \"a\", \"friend\"),\n",
    "  (\"b\", \"c\", \"friend\"),\n",
    "  (\"c\", \"b\", \"friend\"),\n",
    "  (\"b\", \"d\", \"friend\"),\n",
    "  (\"d\", \"b\", \"friend\"),\n",
    "  (\"d\", \"e\", \"friend\"),\n",
    "  (\"e\", \"d\", \"friend\"),\n",
    "  (\"d\", \"g\", \"friend\"),\n",
    "  (\"g\", \"d\", \"friend\"),\n",
    "  (\"e\", \"f\", \"friend\"),\n",
    "  (\"f\", \"e\", \"friend\"),\n",
    "  (\"g\", \"f\", \"friend\"),\n",
    "  (\"f\", \"g\", \"friend\"),\n",
    "  (\"d\", \"f\", \"friend\"),\n",
    "  (\"f\", \"d\", \"friend\"),\n",
    "  (\"f\", \"h\", \"friend\"),\n",
    "  (\"h\", \"i\", \"friend\"),\n",
    "  (\"i\", \"h\", \"friend\"),\n",
    "  (\"h\", \"j\", \"friend\"),  \n",
    "  (\"j\", \"h\", \"friend\"),\n",
    "  (\"i\", \"j\", \"friend\"),\n",
    "  (\"j\", \"i\", \"friend\"),\n",
    "  (\"i\", \"k\", \"friend\"),\n",
    "  (\"k\", \"i\", \"friend\"),\n",
    "  (\"k\", \"l\", \"friend\"),\n",
    "  (\"l\", \"k\", \"friend\"),\n",
    "  (\"k\", \"n\", \"friend\"),\n",
    "  (\"n\", \"d\", \"friend\"),\n",
    "  (\"l\", \"m\", \"friend\"),\n",
    "  (\"m\", \"l\", \"friend\"),\n",
    "  (\"n\", \"m\", \"friend\"),\n",
    "  (\"m\", \"n\", \"friend\"),\n",
    "  (\"k\", \"m\", \"friend\"),\n",
    "  (\"m\", \"k\", \"friend\")\n",
    "], [\"src\", \"dst\", \"relationship\"])\n",
    "scale_g = GraphFrame(scale_vertices, scale_edges)"
   ]
  },
  {
   "cell_type": "markdown",
   "metadata": {},
   "source": [
    "Similarly to before, the edges are filtered and an adjacency list is created. The time scale for these operations, is similar to the original test graph."
   ]
  },
  {
   "cell_type": "code",
   "execution_count": 102,
   "metadata": {},
   "outputs": [
    {
     "data": {
      "text/html": [
       "<style scoped>\n",
       "  .ansiout {\n",
       "    display: block;\n",
       "    unicode-bidi: embed;\n",
       "    white-space: pre-wrap;\n",
       "    word-wrap: break-word;\n",
       "    word-break: break-all;\n",
       "    font-family: \"Source Code Pro\", \"Menlo\", monospace;;\n",
       "    font-size: 13px;\n",
       "    color: #555;\n",
       "    margin-left: 4px;\n",
       "    line-height: 19px;\n",
       "  }\n",
       "</style>\n",
       "<div class=\"ansiout\"></div>"
      ]
     },
     "metadata": {},
     "output_type": "display_data"
    }
   ],
   "source": [
    "scale_edges = scale_edges.select(\"src\", \"dst\")\n",
    "scale_adjacency_list = scale_edges.rdd.groupByKey().mapValues(list).collect()"
   ]
  },
  {
   "cell_type": "markdown",
   "metadata": {},
   "source": [
    "The algorithm is then applied to this new adjacency list, as shown below:"
   ]
  },
  {
   "cell_type": "code",
   "execution_count": 104,
   "metadata": {},
   "outputs": [
    {
     "data": {
      "text/html": [
       "<style scoped>\n",
       "  .ansiout {\n",
       "    display: block;\n",
       "    unicode-bidi: embed;\n",
       "    white-space: pre-wrap;\n",
       "    word-wrap: break-word;\n",
       "    word-break: break-all;\n",
       "    font-family: \"Source Code Pro\", \"Menlo\", monospace;;\n",
       "    font-size: 13px;\n",
       "    color: #555;\n",
       "    margin-left: 4px;\n",
       "    line-height: 19px;\n",
       "  }\n",
       "</style>\n",
       "<div class=\"ansiout\">Out[28]: [[&#39;g&#39;, 14.0],\n",
       " [&#39;f&#39;, 8.5],\n",
       " [&#39;d&#39;, 4.5],\n",
       " [&#39;e&#39;, 1],\n",
       " [&#39;h&#39;, 7.0],\n",
       " [&#39;b&#39;, 3.0],\n",
       " [&#39;j&#39;, 1],\n",
       " [&#39;i&#39;, 5.0],\n",
       " [&#39;a&#39;, 1],\n",
       " [&#39;c&#39;, 1],\n",
       " [&#39;k&#39;, 4.0],\n",
       " [&#39;l&#39;, 1],\n",
       " [&#39;m&#39;, 1],\n",
       " [&#39;n&#39;, 1]]</div>"
      ]
     },
     "metadata": {},
     "output_type": "display_data"
    }
   ],
   "source": [
    "search(scale_adjacency_list,0,37)"
   ]
  },
  {
   "cell_type": "markdown",
   "metadata": {},
   "source": [
    "The time scale for the application of the algorithm to this new adjacency list is similar to that of the original test graph. This shows that on this scale (doubling the nodes/edges) there is little difference in the computational time."
   ]
  },
  {
   "cell_type": "markdown",
   "metadata": {},
   "source": [
    "To further test scalability, the algorithm was applied to a subset of edges (with 100 taken) from the original graph of the movie ratings data."
   ]
  },
  {
   "cell_type": "code",
   "execution_count": 107,
   "metadata": {},
   "outputs": [
    {
     "data": {
      "text/html": [
       "<style scoped>\n",
       "  .ansiout {\n",
       "    display: block;\n",
       "    unicode-bidi: embed;\n",
       "    white-space: pre-wrap;\n",
       "    word-wrap: break-word;\n",
       "    word-break: break-all;\n",
       "    font-family: \"Source Code Pro\", \"Menlo\", monospace;;\n",
       "    font-size: 13px;\n",
       "    color: #555;\n",
       "    margin-left: 4px;\n",
       "    line-height: 19px;\n",
       "  }\n",
       "</style>\n",
       "<div class=\"ansiout\"></div>"
      ]
     },
     "metadata": {},
     "output_type": "display_data"
    }
   ],
   "source": [
    "edges_test=new_edgeweights.orderBy('src')\n",
    "edges_test=edges_test.select(\"src\", \"dst\")\n",
    "edges_test=edges_test.limit(100)"
   ]
  },
  {
   "cell_type": "code",
   "execution_count": 108,
   "metadata": {},
   "outputs": [
    {
     "data": {
      "text/html": [
       "<style scoped>\n",
       "  .ansiout {\n",
       "    display: block;\n",
       "    unicode-bidi: embed;\n",
       "    white-space: pre-wrap;\n",
       "    word-wrap: break-word;\n",
       "    word-break: break-all;\n",
       "    font-family: \"Source Code Pro\", \"Menlo\", monospace;;\n",
       "    font-size: 13px;\n",
       "    color: #555;\n",
       "    margin-left: 4px;\n",
       "    line-height: 19px;\n",
       "  }\n",
       "</style>\n",
       "<div class=\"ansiout\"></div>"
      ]
     },
     "metadata": {},
     "output_type": "display_data"
    }
   ],
   "source": [
    "test_adjacency_list = edges_test.rdd.groupByKey().mapValues(list).collect()"
   ]
  },
  {
   "cell_type": "code",
   "execution_count": 109,
   "metadata": {},
   "outputs": [
    {
     "data": {
      "text/html": [
       "<style scoped>\n",
       "  .ansiout {\n",
       "    display: block;\n",
       "    unicode-bidi: embed;\n",
       "    white-space: pre-wrap;\n",
       "    word-wrap: break-word;\n",
       "    word-break: break-all;\n",
       "    font-family: \"Source Code Pro\", \"Menlo\", monospace;;\n",
       "    font-size: 13px;\n",
       "    color: #555;\n",
       "    margin-left: 4px;\n",
       "    line-height: 19px;\n",
       "  }\n",
       "</style>\n",
       "<div class=\"ansiout\">Out[21]: [[2, 101.0],\n",
       " [16846, 1],\n",
       " [70263, 1],\n",
       " [32888, 1],\n",
       " [120583, 1],\n",
       " [15427, 1],\n",
       " [46566, 1],\n",
       " [114901, 1],\n",
       " [36494, 1],\n",
       " [60490, 1],\n",
       " [104720, 1],\n",
       " [85053, 1],\n",
       " [115559, 1],\n",
       " [99981, 1],\n",
       " [106226, 1],\n",
       " [299, 1],\n",
       " [58018, 1],\n",
       " [103011, 1],\n",
       " [26779, 1],\n",
       " [86434, 1],\n",
       " [104444, 1],\n",
       " [31118, 1],\n",
       " [18765, 1],\n",
       " [131820, 1],\n",
       " [5364, 1],\n",
       " [102197, 1],\n",
       " [109933, 1],\n",
       " [12671, 1],\n",
       " [10649, 1],\n",
       " [30626, 1],\n",
       " [34697, 1],\n",
       " [47292, 1],\n",
       " [114458, 1],\n",
       " [72597, 1],\n",
       " [12113, 1],\n",
       " [14329, 1],\n",
       " [61993, 1],\n",
       " [116291, 1],\n",
       " [96377, 1],\n",
       " [46095, 1],\n",
       " [137683, 1],\n",
       " [130559, 1],\n",
       " [24030, 1],\n",
       " [3541, 1],\n",
       " [110559, 1],\n",
       " [54628, 1],\n",
       " [43221, 1],\n",
       " [93582, 1],\n",
       " [45358, 1],\n",
       " [47783, 1],\n",
       " [131477, 1],\n",
       " [83303, 1],\n",
       " [75128, 1],\n",
       " [63925, 1],\n",
       " [127742, 1],\n",
       " [28275, 1],\n",
       " [136554, 1],\n",
       " [12975, 1],\n",
       " [63497, 1],\n",
       " [73388, 1],\n",
       " [89993, 1],\n",
       " [38603, 1],\n",
       " [126043, 1],\n",
       " [20869, 1],\n",
       " [118539, 1],\n",
       " [3001, 1],\n",
       " [28810, 1],\n",
       " [138029, 1],\n",
       " [11171, 1],\n",
       " [82797, 1],\n",
       " [40195, 1],\n",
       " [108156, 1],\n",
       " [75025, 1],\n",
       " [73720, 1],\n",
       " [85881, 1],\n",
       " [27159, 1],\n",
       " [124396, 1],\n",
       " [113411, 1],\n",
       " [14639, 1],\n",
       " [48705, 1],\n",
       " [4959, 1],\n",
       " [120500, 1],\n",
       " [27837, 1],\n",
       " [19861, 1],\n",
       " [52750, 1],\n",
       " [6927, 1],\n",
       " [128286, 1],\n",
       " [20090, 1],\n",
       " [128390, 1],\n",
       " [44519, 1],\n",
       " [77666, 1],\n",
       " [108161, 1],\n",
       " [33853, 1],\n",
       " [36859, 1],\n",
       " [509, 1],\n",
       " [57417, 1],\n",
       " [27653, 1],\n",
       " [10891, 1],\n",
       " [100456, 1],\n",
       " [2653, 1],\n",
       " [53786, 1]]</div>"
      ]
     },
     "metadata": {},
     "output_type": "display_data"
    }
   ],
   "source": [
    "search(test_adjacency_list,0,100)"
   ]
  },
  {
   "cell_type": "markdown",
   "metadata": {},
   "source": [
    "Again the time taken to apply the algorithm to this subset of movie ratings data was similar to that of the test graphs. However the creation of the adjacency list took much longer. This could indicate that while the algorithm has potentially good scalability, the task needed to create an adjacency list is not.\n",
    "\n",
    "It should be noted, that even in this test, only 100 data points are being investigated. A better test of scalability would to test against a much larger set of data points. This was not possible in this report, due to insufficent computing power."
   ]
  }
 ],
 "metadata": {
  "kernelspec": {
   "display_name": "Python 3",
   "language": "python",
   "name": "python3"
  },
  "language_info": {
   "codemirror_mode": {
    "name": "ipython",
    "version": 3
   },
   "file_extension": ".py",
   "mimetype": "text/x-python",
   "name": "python",
   "nbconvert_exporter": "python",
   "pygments_lexer": "ipython3",
   "version": "3.6.10"
  },
  "name": "Spark Programming - Coursework",
  "notebookId": 178349875658481
 },
 "nbformat": 4,
 "nbformat_minor": 1
}
